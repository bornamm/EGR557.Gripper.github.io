{
  "nbformat": 4,
  "nbformat_minor": 0,
  "metadata": {
    "colab": {
      "name": "DynamicsII_2.ipynb",
      "provenance": [],
      "collapsed_sections": []
    },
    "kernelspec": {
      "name": "python3",
      "display_name": "Python 3"
    },
    "language_info": {
      "name": "python"
    }
  },
  "cells": [
    {
      "cell_type": "code",
      "execution_count": null,
      "metadata": {
        "colab": {
          "base_uri": "https://localhost:8080/"
        },
        "id": "FMTq-yf0pRmR",
        "outputId": "126dd0d5-5722-4c41-dd7e-49456760e795"
      },
      "outputs": [
        {
          "output_type": "stream",
          "name": "stdout",
          "text": [
            "Collecting pynamics\n",
            "  Downloading pynamics-0.2.0-py2.py3-none-any.whl (87 kB)\n",
            "\u001b[K     |████████████████████████████████| 87 kB 2.8 MB/s \n",
            "\u001b[?25hRequirement already satisfied: matplotlib in /usr/local/lib/python3.7/dist-packages (from pynamics) (3.2.2)\n",
            "Requirement already satisfied: numpy in /usr/local/lib/python3.7/dist-packages (from pynamics) (1.21.5)\n",
            "Requirement already satisfied: sympy in /usr/local/lib/python3.7/dist-packages (from pynamics) (1.7.1)\n",
            "Requirement already satisfied: scipy in /usr/local/lib/python3.7/dist-packages (from pynamics) (1.4.1)\n",
            "Requirement already satisfied: pyparsing!=2.0.4,!=2.1.2,!=2.1.6,>=2.0.1 in /usr/local/lib/python3.7/dist-packages (from matplotlib->pynamics) (3.0.8)\n",
            "Requirement already satisfied: cycler>=0.10 in /usr/local/lib/python3.7/dist-packages (from matplotlib->pynamics) (0.11.0)\n",
            "Requirement already satisfied: python-dateutil>=2.1 in /usr/local/lib/python3.7/dist-packages (from matplotlib->pynamics) (2.8.2)\n",
            "Requirement already satisfied: kiwisolver>=1.0.1 in /usr/local/lib/python3.7/dist-packages (from matplotlib->pynamics) (1.4.2)\n",
            "Requirement already satisfied: typing-extensions in /usr/local/lib/python3.7/dist-packages (from kiwisolver>=1.0.1->matplotlib->pynamics) (4.1.1)\n",
            "Requirement already satisfied: six>=1.5 in /usr/local/lib/python3.7/dist-packages (from python-dateutil>=2.1->matplotlib->pynamics) (1.15.0)\n",
            "Requirement already satisfied: mpmath>=0.19 in /usr/local/lib/python3.7/dist-packages (from sympy->pynamics) (1.2.1)\n",
            "Installing collected packages: pynamics\n",
            "Successfully installed pynamics-0.2.0\n"
          ]
        }
      ],
      "source": [
        "pip install pynamics"
      ]
    },
    {
      "cell_type": "code",
      "source": [
        "pip install idealab_tools"
      ],
      "metadata": {
        "colab": {
          "base_uri": "https://localhost:8080/"
        },
        "id": "5ncnuGPQpUVT",
        "outputId": "1b1cb1d8-ec16-44e7-83a6-f53b59ff571c"
      },
      "execution_count": null,
      "outputs": [
        {
          "output_type": "stream",
          "name": "stdout",
          "text": [
            "Collecting idealab_tools\n",
            "  Downloading idealab_tools-0.0.24-py2.py3-none-any.whl (28 kB)\n",
            "Requirement already satisfied: imageio in /usr/local/lib/python3.7/dist-packages (from idealab_tools) (2.4.1)\n",
            "Requirement already satisfied: numpy in /usr/local/lib/python3.7/dist-packages (from imageio->idealab_tools) (1.21.5)\n",
            "Requirement already satisfied: pillow in /usr/local/lib/python3.7/dist-packages (from imageio->idealab_tools) (7.1.2)\n",
            "Installing collected packages: idealab-tools\n",
            "Successfully installed idealab-tools-0.0.24\n"
          ]
        }
      ]
    },
    {
      "cell_type": "code",
      "source": [
        "%matplotlib inline"
      ],
      "metadata": {
        "id": "7PUJhCWapbVb"
      },
      "execution_count": null,
      "outputs": []
    },
    {
      "cell_type": "code",
      "source": [
        "use_constraints = True"
      ],
      "metadata": {
        "id": "v8saEZH4vNez"
      },
      "execution_count": null,
      "outputs": []
    },
    {
      "cell_type": "code",
      "source": [
        "#Importing necessary libraries\n",
        "import pynamics\n",
        "from pynamics.frame import Frame\n",
        "import idealab_tools.units\n",
        "from pynamics.variable_types import Differentiable,Constant\n",
        "from pynamics.system import System\n",
        "from pynamics.body import Body\n",
        "from pynamics.dyadic import Dyadic\n",
        "from pynamics.output import Output,PointsOutput\n",
        "from pynamics.particle import Particle\n",
        "import pynamics.integration\n",
        "from pynamics.constraint import KinematicConstraint,AccelerationConstraint"
      ],
      "metadata": {
        "id": "OGg8jgyCpbxU"
      },
      "execution_count": null,
      "outputs": []
    },
    {
      "cell_type": "code",
      "source": [
        "#Import Libraries for mathematical functions\n",
        "import sympy\n",
        "import numpy\n",
        "import matplotlib.pyplot as plt\n",
        "plt.ion()\n",
        "from math import pi\n",
        "system = System()\n",
        "pynamics.set_system(__name__,system)"
      ],
      "metadata": {
        "id": "g8vkSwHzpfV7"
      },
      "execution_count": null,
      "outputs": []
    },
    {
      "cell_type": "code",
      "source": [
        "#Define unit scale\n",
        "idealab_tools.units.Unit.set_scaling(meter=1)"
      ],
      "metadata": {
        "id": "z4Dh73j5ph1_"
      },
      "execution_count": null,
      "outputs": []
    },
    {
      "cell_type": "code",
      "source": [
        "#Define constants for the system\n",
        "lA = Constant(9*idealab_tools.units.length,'lA',system)\n",
        "lB = Constant(4.5*idealab_tools.units.length,'lB',system)\n",
        "#lC = Constant(13*idealab_tools.units.length,'lC',system) #stiffness\n",
        "lC1 = Constant(6.5*idealab_tools.units.length,'lC1',system)\n",
        "lC2 = Constant(6.5*idealab_tools.units.length,'lC2',system) #splitting fixed link into two for stiffness representation\n",
        "lD = Constant(7*idealab_tools.units.length,'lD',system) #servo\n",
        "\n",
        "m = Constant(1*idealab_tools.units.mass,'m',system)\n",
        "\n",
        "g = Constant(9.81*idealab_tools.units.acceleration,'g',system)\n",
        "#b = Constant(1e1,'b',system) #dampening coefficient\n",
        "stiffness = Constant(9.4e6,'stiffness',system)\n",
        "b = Constant(1e1,'b',system) #dampening coefficient\n",
        "k = Constant(8*1.1224,'k',system) #stiffness\n",
        "#k = Constant(1.1224,'k',system) #stiffness\n",
        "\n",
        "preload1 = Constant(-135*pi/180,'preload1',system)\n",
        "preload2 = Constant(50*pi/180,'preload2',system)\n",
        "preload3 = Constant(15*pi/180,'preload3',system)\n",
        "preload4 = Constant(-90*pi/180,'preload4',system)\n",
        "#\n",
        "preload5 = Constant(0*pi/180,'preload5',system)\n",
        "\n",
        "#Define moment of inertia for the links\n",
        "Ixx_A = Constant(1*idealab_tools.units.inertia,'Ixx_A',system)\n",
        "Iyy_A = Constant(1*idealab_tools.units.inertia,'Iyy_A',system)\n",
        "Izz_A = Constant(1*idealab_tools.units.inertia,'Izz_A',system)\n",
        "Ixx_B = Constant(1*idealab_tools.units.inertia,'Ixx_B',system)\n",
        "Iyy_B = Constant(1*idealab_tools.units.inertia,'Iyy_B',system)\n",
        "Izz_B = Constant(1*idealab_tools.units.inertia,'Izz_B',system)\n",
        "#Ixx_C = Constant(1*idealab_tools.units.inertia,'Ixx_C',system)\n",
        "#Iyy_C = Constant(1*idealab_tools.units.inertia,'Iyy_C',system)\n",
        "#Izz_C = Constant(1*idealab_tools.units.inertia,'Izz_C',system)\n",
        "Ixx_C1 = Constant(1*idealab_tools.units.inertia,'Ixx_C1',system)\n",
        "Iyy_C1 = Constant(1*idealab_tools.units.inertia,'Iyy_C1',system)\n",
        "Izz_C1 = Constant(1*idealab_tools.units.inertia,'Izz_C1',system)\n",
        "Ixx_C2 = Constant(1*idealab_tools.units.inertia,'Ixx_C2',system)\n",
        "Iyy_C2 = Constant(1*idealab_tools.units.inertia,'Iyy_C2',system)\n",
        "Izz_C2 = Constant(1*idealab_tools.units.inertia,'Izz_C2',system)\n",
        "Ixx_D = Constant(1*idealab_tools.units.inertia,'Ixx_D',system)\n",
        "Iyy_D = Constant(1*idealab_tools.units.inertia,'Iyy_D',system)\n",
        "Izz_D = Constant(1*idealab_tools.units.inertia,'Izz_D',system)\n",
        "\n",
        "\n",
        "#torque = Constant(4e2,'torque',system)\n",
        "torque = Constant(555e-3,'torque',system)\n",
        "freq = Constant(1e0,'freq',system)"
      ],
      "metadata": {
        "id": "ZWssIy2rpjMP"
      },
      "execution_count": null,
      "outputs": []
    },
    {
      "cell_type": "code",
      "source": [
        "#Defining differentiable State values\n",
        "qA,qA_d,qA_dd = Differentiable('qA',system)\n",
        "qB,qB_d,qB_dd = Differentiable('qB',system)\n",
        "#qC,qC_d,qC_dd = Differentiable('qC',system)\n",
        "qC1,qC_d1,qC_dd1 = Differentiable('qC1',system)\n",
        "qC2,qC_d2,qC_dd2 = Differentiable('qC2',system)\n",
        "qD,qD_d,qD_dd = Differentiable('qD',system)\n"
      ],
      "metadata": {
        "id": "tXJXVNvtpksK"
      },
      "execution_count": null,
      "outputs": []
    },
    {
      "cell_type": "code",
      "source": [
        "initialvalues = {}\n",
        "initialvalues[qA]=340*pi/180*idealab_tools.units.radian\n",
        "initialvalues[qA_d]=0*pi/180*idealab_tools.units.rotational_speed\n",
        "initialvalues[qB]=-40*pi/180*idealab_tools.units.radian\n",
        "initialvalues[qB_d]=0*pi/180*idealab_tools.units.rotational_speed\n",
        "#initialvalues[qC]=0*pi/180*idealab_tools.units.radian\n",
        "#initialvalues[qC_d]=0*pi/180*idealab_tools.units.rotational_speed\n",
        "initialvalues[qC1]=0*pi/180*idealab_tools.units.radian\n",
        "initialvalues[qC_d1]=0*pi/180*idealab_tools.units.rotational_speed\n",
        "initialvalues[qC2]=0*pi/180*idealab_tools.units.radian\n",
        "initialvalues[qC_d2]=0*pi/180*idealab_tools.units.rotational_speed\n",
        "initialvalues[qD]=-110*pi/180*idealab_tools.units.radian\n",
        "initialvalues[qD_d]=0*pi/180*idealab_tools.units.rotational_speed"
      ],
      "metadata": {
        "id": "ZfQIX77mprb0"
      },
      "execution_count": null,
      "outputs": []
    },
    {
      "cell_type": "code",
      "source": [
        "statevariables = system.get_state_variables()"
      ],
      "metadata": {
        "id": "kMGRNNbtps7t"
      },
      "execution_count": null,
      "outputs": []
    },
    {
      "cell_type": "code",
      "source": [
        "#Define reference Frames\n",
        "N = Frame('N',system)\n",
        "A = Frame('A',system)\n",
        "B = Frame('B',system)\n",
        "#C = Frame('C',system)\n",
        "C1 = Frame('C1',system)\n",
        "C2 = Frame('C2',system)\n",
        "D = Frame('D',system)"
      ],
      "metadata": {
        "id": "A7kdpzXhpuQA"
      },
      "execution_count": null,
      "outputs": []
    },
    {
      "cell_type": "code",
      "source": [
        "#Defining the Newtonian Reference frame for the system\n",
        "system.set_newtonian(N)"
      ],
      "metadata": {
        "id": "Zd_ydl7wpveV"
      },
      "execution_count": null,
      "outputs": []
    },
    {
      "cell_type": "code",
      "source": [
        "#Rotating all frames by amount q from the previous\n",
        "A.rotate_fixed_axis(N,[0,0,1],qA,system)\n",
        "B.rotate_fixed_axis(A,[0,0,1],qB,system)\n",
        "#C.rotate_fixed_axis(N,[0,0,1],qC,system)\n",
        "C1.rotate_fixed_axis(N,[0,0,1],qC1,system)\n",
        "C2.rotate_fixed_axis(C1,[0,0,1],qC2,system)\n",
        "D.rotate_fixed_axis(C2,[0,0,1],qD,system)"
      ],
      "metadata": {
        "id": "bTixo2UVpwrm"
      },
      "execution_count": null,
      "outputs": []
    },
    {
      "cell_type": "code",
      "source": [
        "#Defining vectors\n",
        "pNA = 0*N.x\n",
        "pAB = pNA + lA*A.x\n",
        "pBD = pAB + lB*B.x\n",
        "#pCD = pNA + lC*C.x\n",
        "pCD1 = pNA + lC1*C1.x\n",
        "pCD2 = pCD1 + lC2*C2.x\n",
        "#pDB = pCD + lD*D.x\n",
        "pDB = pCD2 + lD*D.x\n",
        "\n",
        "#end effector estimations\n",
        "ee=pAB + (lB/2)*B.x\n",
        "\n",
        "#eq = [lA*A.x + lB*B.x - lC*C.x - lD*D.x]"
      ],
      "metadata": {
        "id": "GBoTehp2pyHZ"
      },
      "execution_count": null,
      "outputs": []
    },
    {
      "cell_type": "code",
      "source": [
        "#points = [pBD,pAB,pNA,pCD,pDB]\n",
        "points = [pBD,pAB,pNA,pCD1,pCD2,pDB]"
      ],
      "metadata": {
        "id": "Lotehy81p5jj"
      },
      "execution_count": null,
      "outputs": []
    },
    {
      "cell_type": "code",
      "source": [
        "statevariables = system.get_state_variables()\n",
        "ini0 = [initialvalues[item] for item in statevariables]"
      ],
      "metadata": {
        "id": "CLavBO-Fp7Fg"
      },
      "execution_count": null,
      "outputs": []
    },
    {
      "cell_type": "code",
      "source": [
        "eq = []\n",
        "#eq.append(pBD-pCD)\n",
        "eq.append(pBD-pDB)\n"
      ],
      "metadata": {
        "id": "8tN6ulpcp8Xt"
      },
      "execution_count": null,
      "outputs": []
    },
    {
      "cell_type": "code",
      "source": [
        "eq_scalar = []\n",
        "eq_scalar.append(eq[0].dot(N.x))\n",
        "eq_scalar.append(eq[0].dot(N.y))\n",
        "#eq_scalar.append(qC-0*180/pi)\n",
        "eq_scalar.append(qC1-0*180/pi)\n",
        "eq_scalar.append(qC2-0*180/pi)\n",
        "\n",
        "#eq_scalar.append(eq[0].dot(C.x))\n",
        "#eq_scalar.append(eq[0].dot(C.y))"
      ],
      "metadata": {
        "id": "l7VqAKRcp9w1"
      },
      "execution_count": null,
      "outputs": []
    },
    {
      "cell_type": "code",
      "source": [
        "c=KinematicConstraint(eq_scalar)"
      ],
      "metadata": {
        "id": "JFiHYqHbp-9A"
      },
      "execution_count": null,
      "outputs": []
    },
    {
      "cell_type": "code",
      "source": [
        "#variables = [qB,qD]\n",
        "variables = [qA,qB,qD]"
      ],
      "metadata": {
        "id": "MbWfJ3i7qAa5"
      },
      "execution_count": null,
      "outputs": []
    },
    {
      "cell_type": "code",
      "source": [
        "constant_states = list(set(system.get_q(0))-set(variables))"
      ],
      "metadata": {
        "id": "xtVtKsJ3qB2W"
      },
      "execution_count": null,
      "outputs": []
    },
    {
      "cell_type": "code",
      "source": [
        "constants = system.constant_values.copy()"
      ],
      "metadata": {
        "id": "linYDMBdqDJi"
      },
      "execution_count": null,
      "outputs": []
    },
    {
      "cell_type": "code",
      "source": [
        "for key in constant_states:\n",
        "    constants[key] = initialvalues[key] "
      ],
      "metadata": {
        "id": "qGt5_CZeqEMN"
      },
      "execution_count": null,
      "outputs": []
    },
    {
      "cell_type": "code",
      "source": [
        "guess = [initialvalues[item] for item in variables]"
      ],
      "metadata": {
        "id": "wOlwAM2CqFZG"
      },
      "execution_count": null,
      "outputs": []
    },
    {
      "cell_type": "code",
      "source": [
        "result = c.solve_numeric(variables,guess,constants)"
      ],
      "metadata": {
        "id": "VbxCXP1fqGzE"
      },
      "execution_count": null,
      "outputs": []
    },
    {
      "cell_type": "code",
      "source": [
        "ini = []\n",
        "for item in system.get_state_variables():\n",
        "    if item in variables:\n",
        "        ini.append(result[item])\n",
        "    else:\n",
        "        ini.append(initialvalues[item])"
      ],
      "metadata": {
        "id": "gwlecPWbqH_s"
      },
      "execution_count": null,
      "outputs": []
    },
    {
      "cell_type": "code",
      "source": [
        "points = PointsOutput(points, constant_values=system.constant_values)\n",
        "points.calc(numpy.array([ini0,ini]),[0,1])\n",
        "points.plot_time()"
      ],
      "metadata": {
        "colab": {
          "base_uri": "https://localhost:8080/",
          "height": 319
        },
        "id": "eJi8oMXEqKLE",
        "outputId": "866b9d59-20b8-4b74-9424-bf59b0b978fe"
      },
      "execution_count": null,
      "outputs": [
        {
          "output_type": "stream",
          "name": "stderr",
          "text": [
            "2022-04-14 16:52:19,761 - pynamics.output - INFO - calculating outputs\n",
            "2022-04-14 16:52:19,763 - pynamics.output - INFO - done calculating outputs\n"
          ]
        },
        {
          "output_type": "execute_result",
          "data": {
            "text/plain": [
              "<matplotlib.axes._subplots.AxesSubplot at 0x7ff76aa90c90>"
            ]
          },
          "metadata": {},
          "execution_count": 28
        },
        {
          "output_type": "display_data",
          "data": {
            "text/plain": [
              "<Figure size 432x288 with 1 Axes>"
            ],
            "image/png": "[encoded data removed]"
          },
          "metadata": {
            "needs_background": "light"
          }
        }
      ]
    },
    {
      "cell_type": "code",
      "source": [
        "#Defining centre of mass for the links at their midpoints\n",
        "pAcm=pNA+lA/2*A.x\n",
        "pBcm=pAB+lB/2*B.x\n",
        "#pCcm=pNA+lC/2*C.x\n",
        "pCcm1=pNA+lC1/2*C1.x\n",
        "pCcm2=pCD1+lC2/2*C2.x\n",
        "pDcm=pCD2+lD/2*D.x"
      ],
      "metadata": {
        "id": "F9x-iXf6qLe8"
      },
      "execution_count": null,
      "outputs": []
    },
    {
      "cell_type": "code",
      "source": [
        "#Angular velocities\n",
        "wNA = N.get_w_to(A)\n",
        "wAB = A.get_w_to(B)\n",
        "#wBC = B.get_w_to(C)\n",
        "wBC = B.get_w_to(C1)\n",
        "wC1C2 = C1.get_w_to(C2)\n",
        "wND = N.get_w_to(D)"
      ],
      "metadata": {
        "id": "K8ZrSxSDqNEG"
      },
      "execution_count": null,
      "outputs": []
    },
    {
      "cell_type": "code",
      "source": [
        "#Computing the inertia dyadics of each body and defining the rigid frames\n",
        "IA = Dyadic.build(A,Ixx_A,Iyy_A,Izz_A)\n",
        "IB = Dyadic.build(B,Ixx_B,Iyy_B,Izz_B)\n",
        "#IC = Dyadic.build(C,Ixx_C,Iyy_C,Izz_C)\n",
        "IC1 = Dyadic.build(C1,Ixx_C1,Iyy_C1,Izz_C1)\n",
        "IC2 = Dyadic.build(C2,Ixx_C2,Iyy_C2,Izz_C2)\n",
        "ID = Dyadic.build(D,Ixx_D,Iyy_D,Izz_D)\n",
        "\n",
        "BodyA = Body('BodyA',A,pAcm,m,IA,system)\n",
        "BodyB = Body('BodyB',B,pBcm,m,IB,system)\n",
        "#BodyC = Body('BodyC',C,pCcm,m,IC,system)\n",
        "BodyC1 = Body('BodyC1',C1,pCcm1,m,IC1,system)\n",
        "BodyC2 = Body('BodyC2',C2,pCcm2,m,IC2,system)\n",
        "BodyD = Body('BodyD',D,pDcm,m,ID,system)"
      ],
      "metadata": {
        "id": "GKWuRkrIqVif"
      },
      "execution_count": null,
      "outputs": []
    },
    {
      "cell_type": "code",
      "source": [
        "system.addforce(torque*sympy.sin(freq*2*sympy.pi*system.t)*A.z,wNA)\n",
        "\n",
        "#Damper\n",
        "#system.addforce(-b*wNA,wNA)\n",
        "#system.addforce(-b*wAB,wAB)\n",
        "system.addforce(-b*wBC,wBC)\n",
        "system.addforce(-stiffness*wC1C2,wC1C2) #added stiffness to the long link (high stiffness makes it act like a link)"
      ],
      "metadata": {
        "colab": {
          "base_uri": "https://localhost:8080/"
        },
        "id": "OjwtpRkXuLrs",
        "outputId": "7d53834c-b30e-44fe-b4b6-4f1f45f40d1d"
      },
      "execution_count": null,
      "outputs": [
        {
          "output_type": "execute_result",
          "data": {
            "text/plain": [
              "<pynamics.force.Force at 0x7ff76a9f9890>"
            ]
          },
          "metadata": {},
          "execution_count": 32
        }
      ]
    },
    {
      "cell_type": "code",
      "source": [
        "#Spring forces are a special case because the energy stored in springs is conservative and should be considered when calculating the system’s potential energy.\n",
        "#To do this, use the add_spring_force command. In this method, the first value is the linear spring constant.\n",
        "#The second value is the “stretch” vector, indicating the amount of deflection from the neutral point of the spring\n",
        "#The final parameter is, as above, the linear or angluar velocity vector (depending on whether your spring is a linear or torsional spring)\n",
        "#In this case, the torques applied to each joint are dependent upon whether qA, qB, and qC are absolute or relative rotations, as defined above.\n",
        "#system.add_spring_force1(k,(qA-preload1)*N.z,wNA) \n",
        "#system.add_spring_force1(k,(qB-preload2)*A.z,wAB)\n",
        "\n",
        "system.add_spring_force1(k,(qC1-preload3)*B.z,wBC)\n",
        "system.add_spring_force1(k,(qC2-preload3)*B.z,wC1C2)\n",
        "\n",
        "#add the force here and see how the plot output is going to change over time the use optimization\n"
      ],
      "metadata": {
        "colab": {
          "base_uri": "https://localhost:8080/"
        },
        "id": "tdjG5O7KuNa3",
        "outputId": "d7a8525a-c792-4343-ebeb-48f82009d0a2"
      },
      "execution_count": null,
      "outputs": [
        {
          "output_type": "execute_result",
          "data": {
            "text/plain": [
              "(<pynamics.force.Force at 0x7ff76a517290>,\n",
              " <pynamics.spring.Spring at 0x7ff76a507a90>)"
            ]
          },
          "metadata": {},
          "execution_count": 33
        }
      ]
    },
    {
      "cell_type": "code",
      "source": [
        "#system.addforcegravity(-g*N.y)"
      ],
      "metadata": {
        "id": "PKEOgeDRqZ9b"
      },
      "execution_count": null,
      "outputs": []
    },
    {
      "cell_type": "code",
      "source": [
        "eq_d = [item.time_derivative() for item in eq]\n",
        "eq_dd = [item.time_derivative() for item in eq_d]\n",
        "eq_dd_scalar = []\n",
        "eq_dd_scalar.append(eq_dd[0].dot(N.x))\n",
        "eq_dd_scalar.append(eq_dd[0].dot(N.y))\n",
        "eq_dd_scalar.append(qC_dd1)\n",
        "#eq_dd_scalar.append(qC_dd2) \n",
        "\n",
        "#eq_dd_scalar.append(eq_dd[0].dot(C.x))\n",
        "#eq_dd_scalar.append(eq_dd[0].dot(C.y))"
      ],
      "metadata": {
        "id": "HFmjocZvqbv1"
      },
      "execution_count": null,
      "outputs": []
    },
    {
      "cell_type": "code",
      "source": [
        "system.add_constraint(AccelerationConstraint(eq_dd_scalar))"
      ],
      "metadata": {
        "id": "44v6YJSSqdR4"
      },
      "execution_count": null,
      "outputs": []
    },
    {
      "cell_type": "code",
      "source": [
        "f,ma = system.getdynamics()\n",
        "func1 = system.state_space_post_invert(f,ma)"
      ],
      "metadata": {
        "colab": {
          "base_uri": "https://localhost:8080/"
        },
        "id": "8DYh_3z0qetx",
        "outputId": "23cc8110-2c6d-4e05-ff02-c0ea4ca5eea0"
      },
      "execution_count": null,
      "outputs": [
        {
          "output_type": "stream",
          "name": "stderr",
          "text": [
            "2022-04-14 16:52:20,480 - pynamics.system - INFO - getting dynamic equations\n",
            "2022-04-14 16:52:21,040 - pynamics.system - INFO - solving a = f/m and creating function\n",
            "2022-04-14 16:52:21,484 - pynamics.system - INFO - substituting constrained in Ma-f.\n",
            "2022-04-14 16:52:22,119 - pynamics.system - INFO - done solving a = f/m and creating function\n"
          ]
        }
      ]
    },
    {
      "cell_type": "code",
      "source": [
        "#Defining variables for time to create a time array\n",
        "fps = 30/(1*idealab_tools.units.time)\n",
        "tinitial = 0*idealab_tools.units.time\n",
        "tfinal = 5*idealab_tools.units.time\n",
        "tstep = 1/fps\n",
        "t = numpy.r_[tinitial:tfinal:tstep]\n",
        "tolerance = 1e-12"
      ],
      "metadata": {
        "id": "PChsPSpqqf_g"
      },
      "execution_count": null,
      "outputs": []
    },
    {
      "cell_type": "code",
      "source": [
        "states=pynamics.integration.integrate_odeint(func1,ini,t,rtol=tolerance,atol=tolerance,args=({'constants':system.constant_values},))"
      ],
      "metadata": {
        "colab": {
          "base_uri": "https://localhost:8080/"
        },
        "id": "V9uTI0UOqiIJ",
        "outputId": "32e22b64-4728-409d-8760-88c6f63ea637"
      },
      "execution_count": null,
      "outputs": [
        {
          "output_type": "stream",
          "name": "stderr",
          "text": [
            "2022-04-14 16:52:22,194 - pynamics.integration - INFO - beginning integration\n",
            "2022-04-14 16:52:22,196 - pynamics.system - INFO - integration at time 0000.00\n",
            "2022-04-14 16:52:23,625 - pynamics.system - INFO - integration at time 0001.62\n",
            "2022-04-14 16:52:25,150 - pynamics.system - INFO - integration at time 0004.03\n",
            "2022-04-14 16:52:25,763 - pynamics.integration - INFO - finished integration\n"
          ]
        }
      ]
    },
    {
      "cell_type": "code",
      "source": [
        "#Plotting motion of a specific joint,\n",
        "plt.plot(states[:,3])"
      ],
      "metadata": {
        "colab": {
          "base_uri": "https://localhost:8080/",
          "height": 294
        },
        "id": "sqOipgs7f5Rd",
        "outputId": "a7525135-f5c0-428e-c390-fdc858d20c59"
      },
      "execution_count": null,
      "outputs": [
        {
          "output_type": "execute_result",
          "data": {
            "text/plain": [
              "[<matplotlib.lines.Line2D at 0x7ff769977910>]"
            ]
          },
          "metadata": {},
          "execution_count": 40
        },
        {
          "output_type": "display_data",
          "data": {
            "text/plain": [
              "<Figure size 432x288 with 1 Axes>"
            ],
            "image/png": "[encoded data removed]"
          },
          "metadata": {
            "needs_background": "light"
          }
        }
      ]
    },
    {
      "cell_type": "code",
      "source": [
        "KE = system.get_KE()\n",
        "PE = system.getPEGravity(pNA) - system.getPESprings()\n",
        "#Energy when actuator in on\n",
        "energy_output = Output([KE-PE],system)\n",
        "energy_output.calc(states,t)\n",
        "energy_output.plot_time()"
      ],
      "metadata": {
        "id": "Um-_uqCbqjrr",
        "colab": {
          "base_uri": "https://localhost:8080/",
          "height": 301
        },
        "outputId": "53fe2985-3458-40f9-b366-ecc691bd74fa"
      },
      "execution_count": null,
      "outputs": [
        {
          "output_type": "stream",
          "name": "stderr",
          "text": [
            "2022-04-14 16:52:26,234 - pynamics.output - INFO - calculating outputs\n",
            "2022-04-14 16:52:26,244 - pynamics.output - INFO - done calculating outputs\n"
          ]
        },
        {
          "output_type": "display_data",
          "data": {
            "text/plain": [
              "<Figure size 432x288 with 1 Axes>"
            ],
            "image/png": "[encoded data removed]"
          },
          "metadata": {
            "needs_background": "light"
          }
        }
      ]
    },
    {
      "cell_type": "code",
      "source": [
        "points.calc(states,t)\n",
        "points.plot_time()"
      ],
      "metadata": {
        "colab": {
          "base_uri": "https://localhost:8080/",
          "height": 319
        },
        "id": "8xFLpYswqlgP",
        "outputId": "e0c30fcf-7640-45ae-e218-2bbd1a1f487e"
      },
      "execution_count": null,
      "outputs": [
        {
          "output_type": "stream",
          "name": "stderr",
          "text": [
            "2022-04-14 16:52:26,540 - pynamics.output - INFO - calculating outputs\n",
            "2022-04-14 16:52:26,581 - pynamics.output - INFO - done calculating outputs\n"
          ]
        },
        {
          "output_type": "execute_result",
          "data": {
            "text/plain": [
              "<matplotlib.axes._subplots.AxesSubplot at 0x7ff76786b410>"
            ]
          },
          "metadata": {},
          "execution_count": 42
        },
        {
          "output_type": "display_data",
          "data": {
            "text/plain": [
              "<Figure size 432x288 with 1 Axes>"
            ],
            "image/png": "[encoded data removed]"
          },
          "metadata": {
            "needs_background": "light"
          }
        }
      ]
    },
    {
      "cell_type": "code",
      "source": [
        "points.animate(fps = fps,movie_name = 'four_bar.mp4',lw=2)"
      ],
      "metadata": {
        "colab": {
          "base_uri": "https://localhost:8080/",
          "height": 242
        },
        "id": "mq0AjrAaqmrt",
        "outputId": "9973df08-9b09-42cc-818d-5f4f03c78fd6"
      },
      "execution_count": null,
      "outputs": [
        {
          "output_type": "execute_result",
          "data": {
            "text/plain": [
              "<matplotlib.axes._subplots.AxesSubplot at 0x7ff7678adf50>"
            ]
          },
          "metadata": {},
          "execution_count": 43
        },
        {
          "output_type": "display_data",
          "data": {
            "text/plain": [
              "<Figure size 432x288 with 1 Axes>"
            ],
            "image/png": "[encoded data removed]"
          },
          "metadata": {
            "needs_background": "light"
          }
        }
      ]
    },
    {
      "cell_type": "code",
      "source": [
        "from matplotlib import animation, rc\n",
        "from IPython.display import HTML\n",
        "HTML(points.anim.to_html5_video())"
      ],
      "metadata": {
        "colab": {
          "base_uri": "https://localhost:8080/",
          "height": 309
        },
        "id": "Tiymk8Xwqovx",
        "outputId": "2eb7028a-fdf2-4283-d09d-dc7c61ba5246"
      },
      "execution_count": null,
      "outputs": [
        {
          "output_type": "execute_result",
          "data": {
            "text/plain": [
              "<IPython.core.display.HTML object>"
            ],
            "text/html": [
              "<video width=\"432\" height=\"288\" controls autoplay loop>\n",
              "  <source type=\"video/mp4\" src=\"data:video/mp4;base64,AAAAHGZ0eXBNNFYgAAACAGlzb21pc28yYXZjMQAAAAhmcmVlAABvL21kYXQAAAKuBgX//6rcRem9\n",
              "5tlIt5Ys2CDZI+7veDI2NCAtIGNvcmUgMTUyIHIyODU0IGU5YTU5MDMgLSBILjI2NC9NUEVHLTQg\n",
              "QVZDIGNvZGVjIC0gQ29weWxlZnQgMjAwMy0yMDE3IC0gaHR0cDovL3d3dy52aWRlb2xhbi5vcmcv\n",
              "eDI2NC5odG1sIC0gb3B0aW9uczogY2FiYWM9MSByZWY9MyBkZWJsb2NrPTE6MDowIGFuYWx5c2U9\n",
              "MHgzOjB4MTEzIG1lPWhleCBzdWJtZT03IHBzeT0xIHBzeV9yZD0xLjAwOjAuMDAgbWl4ZWRfcmVm\n",
              "PTEgbWVfcmFuZ2U9MTYgY2hyb21hX21lPTEgdHJlbGxpcz0xIDh4OGRjdD0xIGNxbT0wIGRlYWR6\n",
              "b25lPTIxLDExIGZhc3RfcHNraXA9MSBjaHJvbWFfcXBfb2Zmc2V0PS0yIHRocmVhZHM9MyBsb29r\n",
              "YWhlYWRfdGhyZWFkcz0xIHNsaWNlZF90aHJlYWRzPTAgbnI9MCBkZWNpbWF0ZT0xIGludGVybGFj\n",
              "ZWQ9MCBibHVyYXlfY29tcGF0PTAgY29uc3RyYWluZWRfaW50cmE9MCBiZnJhbWVzPTMgYl9weXJh\n",
              "bWlkPTIgYl9hZGFwdD0xIGJfYmlhcz0wIGRpcmVjdD0xIHdlaWdodGI9MSBvcGVuX2dvcD0wIHdl\n",
              "aWdodHA9MiBrZXlpbnQ9MjUwIGtleWludF9taW49MjUgc2NlbmVjdXQ9NDAgaW50cmFfcmVmcmVz\n",
              "aD0wIHJjX2xvb2thaGVhZD00MCByYz1jcmYgbWJ0cmVlPTEgY3JmPTIzLjAgcWNvbXA9MC42MCBx\n",
              "cG1pbj0wIHFwbWF4PTY5IHFwc3RlcD00IGlwX3JhdGlvPTEuNDAgYXE9MToxLjAwAIAAAA7uZYiE\n",
              "ADf//vbw/gU2O5jQlxHN6J0zH78VuLo0N73OAAADAAA33OZE/sqTBubAAALgAArD079ju1AzANft\n",
              "RUEIsqD6X7/QfpW8p5Y7SlJBkd+wgtZEZcbm/Mlac97pTsl5N6HpGNZEVSCOvhCXs98jQdqbeELl\n",
              "Lqn5kGi73hlqloCuXHNlALhE0XOZqj1ZPdBJZ5husytZ9xY0aAjriSV+IF6MFiphUxMbA7bBNazi\n",
              "1QtgRN0qD5mfdd6JoXuI1X5aM9f45vAN2uFugZL2slSuqV/qmx7weWMdjs8zbVwL4rqdlFHy+piZ\n",
              "yvWI97e9I0BVOCOEJGsvVAO6NgJekWdk9Ya0urE+ZqbZ8fOxhuISp2OaVcaSDhde2yJje43nz71v\n",
              "kxV6Bh+LbnPRQ7inljTq7KjVdg/qCE7c2ucW5W5/HEpveQG86NgeFZgSxd5Ylnfu7q9prbiSptEu\n",
              "VDJSOw+wWZToOGiScHp0lQT1S+okaNiFZrf2DL6WzcetSFeHZvu7OiwC3uPVjpsPMeXz4G2XoCi4\n",
              "Q2DmWyKxSvpHhm83v4I3ptL/SOnd89L4EOHGd9IZkOV5knoBvkNIV3G9CTl3djJ0ks791BcXLcf0\n",
              "6tLkJqexg/UToyi+d9ZvHe7twzFHfeHIM+VOjm95LXmJaFQLO4o4vFyjQ+b/3LUR0e1OU4MhVXNp\n",
              "4XdGR4JQUILmkS9DMmxuhUpPwVDtUhCHWAa7GysAAPYhGAwkh5SacSKEV36dPh6lUazGRAhC/EaT\n",
              "QE32n5lkG7YpHLBgu2UpAiN0RYCVcuccfPyKOuO3Q9GRrycrUoZYO3ePmc0kmmRJHsqISfQ6Yz0K\n",
              "eVgeRHUjVlVMuBYbP6Fb2j/iEw3jw24ceBRkbDxVqVxlgSFmY5fG1GfVHkA17hetclWJhDUU+F+J\n",
              "p/7UzfVpruO6ktZkhqJ1/YkW2P74LFa1ZKQOIjojqzMfSAey3qMPLkacSXYonCSQ9klJWiVgHPR8\n",
              "r1Ak7qZUMMXcr4gJ3QDuCs4FUYIabXBBkpZV3mZVzXu9KcxqGZMl0hdAIygV8Yx9B105n9IU9KBL\n",
              "zQl7GGMl61ANMDMnFt2x5MNbGbS+AhGUpvgU0TxpvAN/B+aF0ahSNQZ036TuLuXr1ZhcW8MN7DMt\n",
              "lcg3DEZn9VSw0XWXZP9LwhQjSh0SgVDahdKobqsqeibrlDYxCnPeErL80wPmJEJbIl2w8As+aRwU\n",
              "CUsQIA9C9THOZjg+iMt3jUbCy1rwz4ANPj1aElkCDVtk9yeM7ObD9R6oKm3DTm4SP4BC7aa1cTGF\n",
              "scIt2KLOF1r2iwfIvtJfRgWLfbEb9TQCT0IbuXBrVkFN93owwxVhmTGkvUSJdywAr2/Whxzs+ftc\n",
              "2Sx+IM/x/LYw3cGtcBOa/gSXtA0X+h83bY7DRCVQAaGiEmhLGclQis8G55VO+0xMOx46VIAPX/3k\n",
              "3tV+QE+nC7+JkheOolwj1o4WTrSHs8OZNZys9qxBt3pfiB4o9P4XnsB/DKZrTYHvI7n4mgMkCfXU\n",
              "8OJd/WcdfU3WAH5nyLrLbFd5MNVr3af7iPfc2WOVscuT2p5HBuUDkZjbFt+3FlousYahHw9U1Y9F\n",
              "RINKMVTZelduJtOccSOmJzJ1HKZ7cke9NZfpi8UK3pgrhUfC2fLUy9qfN122KAUwwh4wqup2z8Br\n",
              "EdZrmSXXS2aGtwmaeBdGH5nxzOG9Ea8IGETfNllPHMC+eAUwFLpQfrdtODLvgHff8wDo1xoMhoO4\n",
              "pgRR8t5UdJL0ZKQ6lqHmJEkif5N5dZOvt8+0h4Hs+qPkN8uDaKG/Kr6GemISh/6DsxuJ/YqREoW1\n",
              "FxzB4M/BEMybjv6GHhF51pU/3NlD/AYoa0mbNA+/2I93N0N6Z9e+8fDlzuaXfONXBurGl0lTFGMb\n",
              "AJDTBL7Wvv+A0D/BWAuf2TG/AorL3nsOnv1/4K/JQbExJQibiuiyLHZO7ztGaK6nKyTx0iVQdfwu\n",
              "ed7bQ2lqeWXpvrOg2X9psP3JoQ9UdTIb5jpEyf59+/hJYuZedJbCn0G2bzz2FjNKltGv2CPI0MeN\n",
              "2ZgVBg/Pfo8RfQm4+gNGb2dkYrBhlDn8HYt9ViVQhhJsgFZeGHTJnmSbNlG35lhnJRYrIDh+OcpA\n",
              "T/7V2oWiecDRjmvX+td5KJmOpF4DWsEEVdX0LlOzk9SymxflM4ANCoJZYZnrFM209r+7XuBS7g4Y\n",
              "8UyJ68RXtoXJLP7SezulnJAgs9AINSVglPI3Hd3cJVjxrhbMWVcKev84aROgLYdeQLKYjzoYdqTD\n",
              "QeEEvK2Tkah+4SfE33lC5r593xJCUMEv9mz0B2b3H4qinNTJXTCGv2tkQMV3pKE/eZdhRz7mbx2d\n",
              "HYfP/YWYEOACl5aaRMT1IHPMN4vd26MB2IdhmpxclGxhL35kIN5YkCkBldgMRSZcnGuFa3IvG90T\n",
              "m9OvhSR46Hx+1S7BR3JJewvVLBYtJqAhNRA8tOKI6SW4KiCOxQjkNxjxU/tsgqsUL5Su0IDmb+7N\n",
              "bPbrLEKD+3JL+ecs3D9XG1YfSicwKKOpAKNOXtnQyxq+NAhzBD8DTSE6n6UlOwzq8005Tb5yDFGN\n",
              "YFsROpUS7qy0utdtrOtBu2UTptmB2tY/rfYuneE4mDANbz36jlxBFpQVmaJHH2aEoMuwHZAl3ILs\n",
              "ZQntBCTdZn4JAyDrU21dhngkg3zihpsQJzpL9Hf347sOhYeWyjYTGRIaBhMt7ExC5lRVXIaw2Un2\n",
              "36f3oge73bQhVBPti37vRCRiVeAOymvKAgZl66epPxt0T+SSoJpcMdnOtfwudAZEpgQwY/iOr9ub\n",
              "Vt4CuzntyDKZ4z6VFH3ddlFiMhfAJBqb6IcwxqI7xv066f2VOfOLF5uFQja2w+gLjCeTHs4Tebad\n",
              "w8FsGVMW+iBZ8+3uXk4+Hy3T35UMRWTrFRApC374fy9SpuQ4LbOVKBUG2MCEP1arIUXCONZ3l3C5\n",
              "BSO2ANjWUehh/rKnf8XnIBnuBFBn/mrqt9dWbv0aiMmsNB1lPmzQCWuLLX8kdus9aCUF3sFAmKzm\n",
              "KXbqFmBn3AaHC6Ly4e6eOXWtagySAE4nJMNir4JBqwpCmnVoGVrUHg40uElrduQEz5bYdl4kDsbk\n",
              "U5hqN8qFGmldmJbUmu1nJ82o9Z0i4lxIoMCtUQPd+HtUdHkZqDZYMSGh8AcD0c07z94TVAIBiTL7\n",
              "t8gcZIZvsr44svQzMqhWYxB0u+F3j/2T/4msNnJYJFMI4v/sNAXMnSdMHNgFYffQBxlTyLS7nCQw\n",
              "KSikpPJlfdusbk7Pz8MScdtmArr2ZsbuMy9K24sVhF4rk9JgKlJ5yErjllwK7r1n/QcWOZaQtSoi\n",
              "Mon1jc1c0iCa74+FulvdHuhWB8XQqqCN4Vxse9OBA8wMiPrvvUL45birzyEklaaI/y8lS53IaUtc\n",
              "KEDl2UGQHMCQyqUVWEMbaYjcOIXiygj064NVSF8MYEqROJAHkrhqM4k5neIXbjLg/UaeAJjOxRnU\n",
              "8+IIO54NZHq+nWSJJMuRFNktPh3Bk34QIkx1xcD7+wHkSLO0SiXRj1XviKKFFHVT9EROEzs1yVgr\n",
              "95fOhXEsVr2KQSB769Z3P8+9Uwzxr7inHQfbmu4qcXuAGf1OKQ5cz/P2ByqkQXoAPSwpyF2tOLC2\n",
              "8Sx+D4rCWLbpTjvAFm5uA4JdKhvFvWzOKawUDZkRqcBdxFv+fa9dYg0IIldHk1fi8zM3VHlwAwI3\n",
              "U9HL9ZJAMtkz2IDXZHksSP8IeJoQEKdDry7Mak7KOTZ4I1jp9k4OecjmP+RpzaOzNimXagMrvdUi\n",
              "KWgNZW7SuZ7dG1UwnfC3sBHklqEUd7meXC6VcK+7Awih+h1cpACqW9TarveMDLjdypjbGEYi/Gbn\n",
              "AVtf2CGj03SpI5mDM/WZD8/o0jdg8CVYKpHVIJV14ZCYG3euEpkgb3lKb3iuCG39r0snZqIm60Iv\n",
              "FaiHTudhR/8VgdADab9T96CYftHkrpsEgyXV8cYl0QVmAAiLfQ9dsVELTRNj/Qu5RL8VhD7sSRBF\n",
              "lUkT9u9ZgpDJvT7ACbUBTU2y4WhXUkyVyECiUznl4MjyKHZplPDcCmlsqI/KC4xocONmcPjaBPqv\n",
              "VvhWZrHHMUhc3+C6tUkeLBWLvEAkGZkN4cQg4R4mNTVdbGM6DPxGOyJ3Iq0s5GV/f7ja3RQUZQZh\n",
              "8Q7wb8BNwcXE1g+hCK5l3ID9+7u+V6/7HX1R7thfZgvO3UpG6Ty1RA8sxt0/eebVkRH2g+HDodm+\n",
              "rpvrAawmcQfOO5wLLgugNgBpQmCbaMTwwTcqbu7ivaRk08x5Bz+Gl6ZT4NmyrCVaLKub8sssWhKf\n",
              "0u3zRgSi+Sjc924M9WXelKbUFufGwBRu0/fWurnhUWes3FGhA0m4c60MVoj+Dt61LD02yeFcpzQO\n",
              "FUygRlQtJ1F6Y3+qZAiFlrS0fdkcUEgEftB54Y/d0uprqV9E4aCqdc4ya/aBvbPWPGlUkwostTE2\n",
              "hlwY1XqwxipLKn001VaVQyFYy1FoNrib+9B/ZcZwKwYD6n3QnXq84gbzJRwm7I65Lp8MUa03OlyI\n",
              "Xr+4K8bZYLSRSgzRXHDKVRFJfTowNFESu8YZ/+CzCTxh9I1W8hbVBzIp293fTaX2IcquICg1IEwM\n",
              "n82myoqalYx/3/czKMZ53BHi5CimOrlKlBXeRDUeajIRP/ceAt/X7NcJvS0sWu68XdxXJYbmfYQ7\n",
              "+EzvKtS/TRf8Sk3FY1PoLFHEyAAUFPG21Igzq1iKTHVBdxl8rffVFSBj07MtSuuBfy2RWOwS8ea7\n",
              "7d/+5wj3/1uGRXucLVDES90NhoKOIMgQdvuJ/4WhbbT6BzUGqFXgT4mc3mAzaMy1h8z/RPQ8UtNz\n",
              "GfrjUmJcjXCkWU+0Sbu8+aJl6MO/VuPu1bro3gzrtW6JD1AawCM7cWwUQYP8CC3zbmXuov74dKwv\n",
              "ez7hi8kKKdUdgMdU1igpD9r05l46Y8AnmuR0XcnkmE2a7qQGhYMHtGI7tHD4ho+B+blZfSyJGLu+\n",
              "9602QRQbomgx/i7JhxCX5X39yOCB5aW3JnF17Bn+6j7YBcmA/xul8KcQPTzsYNlXR0OcAAADAMWB\n",
              "AAAAl0GaImxDf/6nhADhK5IAbhApEuu3PQ2UDhM2B+A7b0Kw8Dsw60nD5k24Bi52qSU6L4uqcOId\n",
              "W8SjFUZGm+sZLoft4zopjxE+CunF3emBFUw6sp+KgRq3Tc8Wk8P91lgHLMzHUvqJoDVp1qjXJibx\n",
              "b8mz30/X5ZFF6V709zGljNgGzEokIU45O2poAcaZgoBT2J92Qj9sycAAAAAeAZ5BeQn/AG6FUtAZ\n",
              "4AE2JCOyrqChn2XJYZKtGxeRAAAAgEGaRTwhkymEN//+p4QAZtrz9AAmkn70qLq1XJKJ9w7VPiZv\n",
              "75PiE2AP+H2lgGXYyHZaL0HzzTLebvUeW9bliDE/w3X0J/5ZFfzhivaU6DkMSsF7hBF88bNbqNm9\n",
              "pAeCDMNx2r3W/9ZKEZ2StIKuPP/y4fSE0QlS4NXl6X8Osm7gAAAADkGeY2pTwr8AAAdADeLBAAAA\n",
              "DQGehGpCfwAAI7uAkUEAAACZQZqHSahBaJlMFPDf/qeEAGw+SEKLJVxkWVZ90WMREB9vYoy0AyMI\n",
              "3c7k24kTnrBZihqFnUjV7tYAKBkFnXZ+3lH1IPb5rsKouXVmHXESY/Zkq2nSDmR8JjD1NPnH7Nyg\n",
              "jq4xM88VCOdtk0hamaGN53F8dJ/wyeVN1uEhbBlfagSawRyDmxauI9qvvXQyiVtuYcnysuoUQPjl\n",
              "AAAAGAGepmpCfwAWJmhhAM0jH0pLhFhU3oDQ3wAAAO1BmqtJ4QpSZTAhv/6nhADW+6TQxN2MACN6\n",
              "EUEDRVue5RWhp2wyxaALPTCKrSaK0frJEKUgTmYxLXvS8tfAo+H4k8Ch5ZHZn4Ve94ppsY157cDI\n",
              "C5pATOS1ZjGTtTSfO9J6Jjs5TcrG/7yBT4TYo1daAQocsL1XFJpBOzLedmvkwFXvwXA+u39d9M5N\n",
              "OijLE9djPlSIv6HpELJokK2FByMn/fZWt/nQ2nZYr84z1IQgxJUSOHQbG265zUeKUcJjaCSD/8V6\n",
              "vaxfePu1nfTGtEWcZzTJ4Fb44lM0GZeo3waMcXl1g5hxShHz2Oqx74AAAAA8QZ7JRTRMK/8AT6wL\n",
              "tqNdi287u99667ODZf4AtcirztGAmIXqB2VDKhrLAgHAHEcFaVG+W2mkvdv7Ql9IAAAAGQGe6HRC\n",
              "fwDibNBASWWkh9nQ5c6NvDZ3FgUAAAAdAZ7qakJ/AGceNBvcacOVZorF/4LXA2seej2Fd0AAAAEJ\n",
              "QZrvSahBaJlMCG///qeEANvFyQAnQsXaA03lAVQtGldCEAM4sPkbiJ7mwlYunprtYHPuFKIdeBxQ\n",
              "i2MqCniQrxAcc8cxTH3KKWvgnF0+IZ5QtpowrMj0I8LBzpgG/3CyzgIp5Z8UFcxgieT4Wy2xGf/L\n",
              "fEqFg3A4/QJg6aY5ff2yixfyHvCVaeyuQUKKvpp4DB//zlQKfotYRzSXSrSL9GNJEriBINxGpXxr\n",
              "lqezl+yqXDJwSJo9SQ3khrnAXtXSG0MHEAZDi/f+kO/+nnlS8VA9gUu48/h2NFndPEuJua/j2TOm\n",
              "bA4SuOaWZBw7ypmPfboXVRDoTZwQABAy4oPb83hNSe425Rv0xAAAAENBnw1FESwr/wBPuTTqgv19\n",
              "opceP1c/vInOOXNDk3bPaW0SbPhmB4q0I5TAfF3DGdKpADE66vgNXrokoBr7PP46mAqJAAAAHwGf\n",
              "LHRCfwALFlHh9lVrX3eM1sYmZFtkym2jsfu6ODkAAAAfAZ8uakJ/AGceOyEEp5wsx32//EQoMlKH\n",
              "yg5VjDgfPwAAAS1BmzNJqEFsmUwIb//+p4QA1rK4j+0BwIHAeQnaBajzfC3Dp67LHD9oa9iJt9Y7\n",
              "EiGmhvmbcGFl8bjqgUwO4XmcSL7N2NgUEno/AyoMv4QRpX8r7BRVvtKAOAd/W7xBrTCpwtuHoS7U\n",
              "xEvgb6eOTK10u040/Qj3g/gK6wDdzMTPN0pmN4Bi3kNZveBgI4GR6eXaoMQMpXHxE8pLOAg7vhcq\n",
              "DBAZxMIAPOP9flU7WSshZAnE4n880KBkWtOjHxu1wqCsr7BhGhyNMvCj20dYhNfZPvJxqsLZ2h7z\n",
              "wwo0/LlodGtoMUqy3F7x4GwNcYxlP1Dw4cMsBhM6Yv+Gw2nz4+UJc5X0sNGS8uVBOBbenfkM2Jbc\n",
              "ScGkRB4ZYc2AjKcvQdqNnTvqxJBGPDkFdfOcAAAAYEGfUUUVLCv/AFHq3M30dwNb3CuUW8Z/7T7m\n",
              "mmfStS2ufedk00MqdRAl1ZENYERr/5OZ3nitVU7RbGh5p0CTCMEmH2LQOXiL6Evo3hrIQzd4ALpP\n",
              "RAWyn+KeBp3H76B2QAAAACYBn3B0Qn8A3SCmPxnu9IISFPsJJkTRWmn8f+VvhQmZyPTqcc5D1wAA\n",
              "ACYBn3JqQn8AMQ5XyPHI1AhTd7I68bqWwGN0cJGcVa3qgo3dHKgj4AAAASlBm3dJqEFsmUwIb//+\n",
              "p4QA3AhW4AEh2GAIGUHEK+83jErGWLb94qqKnr9N4awPE/rEyYXYYcA8pdKmzSwkwnAygW/I77i5\n",
              "43huVegMA3m+bu04/j8R4PLfKkdTc754u2iNXXVruoSBDFwjl+ZoLVznXtxqEh+DMahZUtsQztpy\n",
              "9NYfb1zcEde7ryoTwI/xpBK/SKNKN2XsBPtCFcGUYvJIlSd8WnTvQEbfm1F574gopBmVzkcr9UPc\n",
              "D8ag9gLAHUGS2eKXQ59hAG1Vejds/5WQk8wZaF0S/xXlGGPmDrnchOyN/+9Sjp8DWFjWXXW6cM5G\n",
              "SW+lKrrNzHU4yp5NJ9y3I/Tncgp89GcqJWeymNEeV7kI7rlqIFGDCqXDrueubB1rUu+RPFVSNhYA\n",
              "AABWQZ+VRRUsK/8AUergvSYXD0qi1HzidtOv6GuzJOGQdQQfvXdKosCfKPqgAPS+8YXVqXMNZV+3\n",
              "haTNMTZq9dVa8d3cqrD/6QGcGIGS+AEX4FaZVG2QmW8AAAAxAZ+0dEJ/ADJRwLfQSwU0+BeuhiYr\n",
              "KOGAyiaBCrBEcxdrhmmFSotRAJ44lvTd0oEFHAAAAC4Bn7ZqQn8AM4CJiemgNLkrMyMisP0dwXE6\n",
              "ea9M2Vln29TnoiqtnQcXc/eykW5ZAAABMUGbu0moQWyZTAhv//6nhADbxckAKC9OAfFwrs9dhw4g\n",
              "dMiZu1+5GqxmgbXYchGhM0ug6IGK7APXY6zi1feB1ridoajavewK+RIiLY9xBZX39OIZugzoLQce\n",
              "cDuH8OLlpMDZZQXxhPPR/Nn1d2ii3HGXfWNBbIuprEfdDTOXFelAssAjY8h6+r5p29MaT9SH3AaA\n",
              "8hGBztUn4i/mvAm29DZmBVkmMUcV//wb88y5ayRAkqdDsCyqtzfh6JT4kBYPRdAuoyRjy9fO3lAC\n",
              "rdJ4qvxRnK1taqiN22T00w4eILs+LE4Jaxx7ju2QTaf31kTTmno7GTs6ojL/vmJ/xvgO+zWkekwS\n",
              "fjiKjpsDWUWdsu/CUQ5cQpxWd3+qHecniQJnqAP6Nh56lVzM6bMTSXQ850DLAAAAXEGf2UUVLCv/\n",
              "AFGjh8FJIqOmr4PxpWOfKAdV/OZLTYRjv25Z8Ag41mQ25C22d/wuGv1q78FjmzuTN81wc8ElJmCQ\n",
              "CepbByfXm5ylwALfmw9foZeHSXO4/RX6kBfwAAAALwGf+HRCfwAw/UgXyhcBPq9+ve0XUX+2ymFN\n",
              "LVy45YyGu6di1NSLrvdpN72y4QZBAAAALgGf+mpCfwAyQIPvHIHgONQ+QB83Vakv9GvQ0eVp2CVj\n",
              "7zx5IlLGw3RUzSD/NMgAAAE6QZv/SahBbJlMCG///qeEANvFyQAnTTonaoOGJdxWTr3DMg07RIIJ\n",
              "r8+gix0MjIm3tdPj2s5UgIQr7ptMSLNyhmLePVXKSf9DbaP2p5pe773hyKtWU4z5u/W80Cg2Zbn5\n",
              "sKNBXxzP2zL5TurQbp4UGccnSSG0LZNYuEsBQRXZYht8WuaaVwdr2190MUbqn6jdprAFfuPtN+Y2\n",
              "jXd8dED6TDoFypxDXm/Taki3Q/j9ojbAdCudrPOVscquU/VK7R8gJns9er3B0iOTooicwOPRdzgj\n",
              "2jjbzFYPqYlAOumN2XzLjxSUL5lRoKTv8Sh6XWTOFBFHZrZXapVVPvFLrWxWK26MYf/o5F27K7vQ\n",
              "zSOun6GqJfrq5f8uusK3gC6f7WFvK0v356yzJ+sH8imBppMYzFJfqXl0m9Qlf9kAAABWQZ4dRRUs\n",
              "K/8AUdYugmV8JH6Uzom8WoPFJf8ywYZl8F7tTCvx1Jg9A/EDWrjcyHzuhlHzaD2/4pNIk6wTeQL8\n",
              "Q5TrP1lr80O2gtsomsjWLTiEV6jADEkAAAAxAZ48dEJ/ADORu69ZqelaGM11KHImv/HLBP4Pmu7V\n",
              "D7LJjh6gqqZU1cfc1JTwgslBmAAAADQBnj5qQn8AMk5Z/GwMsjwwmP77yxjuLBrOzbuHibBbTlWi\n",
              "BELCJrAk8HQFth9G/TKmkB8wAAABcUGaI0moQWyZTAhv//6nhADcCFNIBFwZ7IARy8TWZCSDYZ3R\n",
              "L7rhwdbwjPtHN9pPHzp/T318vcQTjxnITpc4rQ+D7AowwfmWlLY9yv8Las4LEqOwrPRbte3JC8XR\n",
              "m5YjsUfG8a42owhnWw+BLvUwHpXdSxbhZ8GVUz4IlmyR4M+xGin5BVRH58jOc2bJwAtRgQ2j16HM\n",
              "A1JwEajpxOnfYmomk4kDl+tz5gpgEFkzlwSANf37sWo+EHbiW3v58VjhNNaqbgYVabkWLFtbtRJl\n",
              "5il4pxvl1+IJFurWncQb4xaocR5+LJO9ZriXbU4K0dytj5iFa6tIseZwP6HkNc6Gs9y40E/rS/Ym\n",
              "9AmAgAnR86n+niXDIIKMgNROc5CamhP1ghQzdGsP2At1OvsuPBIKOQsl2Mb/Ok+4gqHBFZ6mWHCf\n",
              "0QyRSEUue7SoKu9VlkvxW+aU4vun3z9jg3hrkpM87y0aOwROe02WRVAT2cVOlLVxdQAAAGBBnkFF\n",
              "FSwr/wBUB/JfHBQ0/Z9n4oXEYeW85KVncYqQ8NBQJv2wLg3kpp15pNMDoLI2avVks6Y3jJhGsmXy\n",
              "0fjiSUefZHw1wEm08JFg6nf/iIBBOHDbhAAuN1e64b5oCLgAAAAzAZ5gdEJ/ADS9Syj6ZryjUrMv\n",
              "yY6b9HOiw8YTMl//bULSdmQs60jaqnlZhqi5nXQIXR6RAAAANQGeYmpCfwA0wmE6VuA9wJkvPMvi\n",
              "FgVgp033jBWL2ss2OccgZdOc9A7dU3JsKJ4On8CDrtqAAAABr0GaZ0moQWyZTAhv//6nhADbxckA\n",
              "KC8rMkS1LJ2+wI3bqbGp0Foa/9xPyJgpRkhrb6M8F5tpGEHPBhn1EDMthoWhE+ys+VQU9+aL78+9\n",
              "i2JeTqm7J88qR1jDkOtc4zuhuj6+5e3qbR1eEirxzGPycw2x2kBN5OH+hRs8pgfaHXyZ68iEnb8E\n",
              "yTVl1Cw7KzeR0PxUW+2p2ynx5cDHLf/8Gw97fIwn3wE85MLQACvHjty/JdIwzEZ6M0fyFbE9uC1v\n",
              "1ZO6nT6ZRP7wDpl2AMcTS9Ht24g8uvRiyX3SOFoRnN1ics5GtlzbmJr0UGt56CSa/RjsHl4C5QRB\n",
              "75qp9zuICy2DTMoZjgteILiZc/z+Gz/dAhA0iTc2KvqcdZ+vjcMADJ3LqTRBD4IphcQ2e/BIXzEc\n",
              "AOausCrbc6mI7DjJ/3Gxfi+Igd6ii7d+fLaMhTRNa9lUieRLNJqsX6RfH517tHXXJVmFaSw8DH9P\n",
              "1J1p39+FX5gSmfgXdSWbFgk1B/KAgvM6yErBRxcT2RknV9Yz7vdj3SKyBXhqfc0lT6cizDlT4bjE\n",
              "ci8FdzAzPY2dZB+BAAAAWkGehUUVLCv/AFQqOJSCJC3AEO0tDKaZGE2WdbSCD4kB0nkXVVYfzPsN\n",
              "m+e+arltPQRRdqRwZj+a0XZfEFB4P9u2bsdW2vWBtgQ70uRmh5UnvdlxXBeXNwB2wQAAADYBnqR0\n",
              "Qn8AM5HD9u8SSvS5nLOJ/prq7OQdJDSDnbBpHljZ88qPjdh9LY6LWvKNuUU59iCcFfEAAAA2AZ6m\n",
              "akJ/AGmBExNXcuHB091IRhG9DjoRbSs+CLTy77/AyI4qhGV9GLCrqsuYuH+Y+9dugRWxAAABoEGa\n",
              "q0moQWyZTAhv//6nhADcCFNIBJ9SEBAXGdVB7fcDAMKpugKO68bxqse463pn5FEVY5uV+3jOhLd6\n",
              "mYJW71MqSMtsgtMV6tFpbfFd1BMk/EBFnFf0W6wdG1zEvopXHOItGdGdyWimG3p4aWd/QTkEEeYb\n",
              "uV0X++Z7Tqb/Tr0rcP/Ows7TP5HCgyr1YCOwYD9eFh1GA/9XpZ7xED1EcrPdbBCAcxQOAf/ivGFu\n",
              "pCrYTErJLDOuLRwd+/tLfjB5CgFrrPP/0u1wLlRX2PKW+Qz+cUMM4oCUinkbZxnw7wCHI9fvZux7\n",
              "0RSmOG6rTSJ61QrO/EUBXjxVuyoK3Bchc7b5Q7pbnfpzoH+hhrrIh+pE4BO02eB72CWdlBjeHHhv\n",
              "B+xGnmNiLH3k7Gm6/RuW+KNyfN2oSZz0HU6bOD5o1i1jhBUlRNBwyqu4C7/ICi8mNcQ43dQ0j24z\n",
              "It0Qkbjbqno3GfEZjBJ/vgBjRTjM8z6QzA22RtpP4vmpiLubrj4hpaG5gsAQzo591HdDX1OETfg2\n",
              "6dIpQbQ+Be/UA7MgKmtQAAAAY0GeyUUVLCv/AFQqOJSEx2Ot0a4nJSEHgoQiPx+20SiPl9mQ61rO\n",
              "SjEWsj7ISBmyR2/XCYmkAf1U2Ev0bYU9wCBa96I3ap+iwRE9QSj0D6+YOcvbrfD5F01xvzqRuA0f\n",
              "yQF7MAAAADMBnuh0Qn8AM5G7k7yKvQSuoMSED1eVqlRQMKVQMebHKBG0kwUiZfo/+gIOpwgcgRgm\n",
              "13EAAABFAZ7qakJ/AGmBEyQgkEVx4jAE+StYvVX9nA06XZaBMP9mSbXmkWPoPWaM75EWhZcDYQHs\n",
              "rb1ZLEf74ACZXkpobLRgkrpAAAABx0Ga70moQWyZTAhv//6nhADbxckAJ3iIT0UHNc+YeCsKgWu8\n",
              "PKaddum/vw/D6ooQVZu2s0llxMhC886oXwgUN4CKJV2+uQWLMVID1KtA1zQncteK4fLiXr2fZF4x\n",
              "c5+d51/0U+5lZYEJWWDXkA5fBP0qJfZne8DTyt1NlPSkxv9HTxRRAo3zm2kOFsv97U0Id2MQ2/Ji\n",
              "SiIWVS4/PctWEBH+7V/79XazxKyJafsBhT8APtwq1Xm9ijOA//EAPPsWV+vMiOg99V4sO642Az3y\n",
              "eUAB7w5w6f6hREyj5VnI4Kfp1q/RezQBz5zRPrSwiksmh0X3QeckPMKtggdX7EbnfBGXpvjqzJu1\n",
              "gnAl9+8twYvuopNsk2vAjVOXeO+uAfeaccnAfd1I+fYBhkgNobkJrKjZ5FaYvtckX2GN2oGjlbm1\n",
              "FuIZxLS5UivlfJcQAI45ezh8bNuRmMqOv58ZwRKLo3Y39KaRXPu6novv8pUl+R2BOh9w44CpTYLS\n",
              "EAz8iH5fYD7aDPZsBVd9sULi+Vl2hYkQZ75CQI4FXXzNd/FBiaQ0ZmCl8cU+N+YD3WQgFK94NQnu\n",
              "qbT9WD6A0t6CWEbXE2CCqoGtaErLAAAAY0GfDUUVLCv/AFZXBLP74irDsnqIMjAnXQLvEYrm4qJg\n",
              "Bfpw0FKPdHw+BQ15KlWCkNp+dVwIWNdGXWC7h0N63bWd9sVS0n3zHLC7/gq1W9rWVIfxJXTOwCln\n",
              "kUndUPb1JagIeQAAADwBnyx0Qn8AMlDT+2MC2u+33xt90MpMUxEeVkuvC1B+bulvqVhcH43zzLOW\n",
              "4NoOiK+APbA/p7HN5G0cCTkAAABIAZ8uakJ/ADJN4h9AHMma7xq8rzQoTacYrMO12k4FUGCwVhfu\n",
              "i46GIoS85eAzDlEqgYGnXEPtre+yxYwAe/mBInHWtlAuiLKBAAAB20GbM0moQWyZTAhv//6nhADc\n",
              "CFbgASGPTWqsmSflMScJdUdAlUlZ9+hnNnuxDAwQqglmX45k1xFAIUNjKr8hin9Zkq1Ty6IHl+vw\n",
              "2Z2a0yhPEbSodctGLQeIsnGrdR+1AoJJrzzk33jENPvY3H0pkkeP7zO4760vHvlGhnOgXMQ6gEmH\n",
              "gXA6wgu2gUGqbF2HzizGRMh1KEjGywJg3X2oLdMh+yps5zVMBQGU8e4jjQOPmcYrSJNhzU8j87K9\n",
              "M0aHhB/iKZMED3uyholFLtS8aTzM64rLK/ibSxu3P/T/gwEwNsUMvjf9YbuVQY2UDT4P2BORnJTK\n",
              "9NAq7mleHRTpxlHogbRRC+ZRA67L8eyNIQVxjWRzuXf2Bsfap3HzQpuiT/Uq8webPsM3greQZ+Zy\n",
              "CtoJbCqtdry9fTt+VUDpRLKscoMccbbe5365uBnjLY+1b+wwtLj0/KhC1MlAsmohjcfnHc9MphxJ\n",
              "CTeNUzRv9O7mKd7Swbph9elz+YH3Iexkgi3xfiMluoHVF6E9H4Xva8drFUXoGLu4GhdV9OmpGTAO\n",
              "M0VHRYsNucXLGU7CrBY8e/z72iEI7WfD/p/TlyCfmM9u+l2eFJDWu6f3t3rYK38AEd0nrpAFNbFy\n",
              "7MAAAABsQZ9RRRUsK/8AVCo5L64je/lZX5VTM/uFkyS/D8W1yv1P+v+Bl/xyb2vBFibWaYp4m26Q\n",
              "WszHAFexjK2nbMM23NhSJHTASMlyNcdRR1/KwH9Yi7XyaImgzGApdUWQfrXgBLtOnKxHwoFWTpMW\n",
              "AAAAOwGfcHRCfwBkpj1pkvqLXiuW3LhrPiqqKPM5zZf8tPdavjGjhuQ0wTW30ChHaZMdjg2GSUR1\n",
              "3SSHksZNAAAAOAGfcmpCfwAyP+/ka9jViiPjEbwnvl5NjSmhr5HNAi6g+7aJM6xot9eKTT9v1s0y\n",
              "7qSnUE3i1F9MAAABoUGbd0moQWyZTAhv//6nhADbxesACgjR3evX60VpuueH9WN0nAweew14kMRl\n",
              "PR0nUJaBVCpGRCdH7UWt1R37NPqsJTvpVqGaOnnPp/nDzLUaeEe12kp6wyokOgD4ihkGkvrUA3Gh\n",
              "UYqtyBdcGMnEFfx/I8za00PqHPXZ6OADjWugaqes9GO1aMSz8mfui6wQVPMDRkbUcXSLKxStkCBM\n",
              "UMUn76fu56m6HUJlVTTGd+8gpSOEUzmYnnkI94X5ympst8sJcyo1pwILkfhYuSOOcYlgMZpI+gi6\n",
              "gIQdejrNQRFnsBpksQCBooLqc15dVavxlpGzTuyHI/Cdgt1KYjJw6+RnY/GD12BuJnl207POTFU/\n",
              "yJUu5jbZ528uWuUSCF1WeXyuRmoMpfOUuFuyVrFLSImtrA8ymRqjxJL/b3PjSFwnmPOxrZtmxWbb\n",
              "++U/hoKkOUev3o45v4zfi9H2Co7ukyIfOkzScmHUF0/EtA4sAuz5EuGF7RozDFVC3bLiJ9/BAVhg\n",
              "GlzuIK+R+vIFdjz+6+o4c9z8bfBm3TpQIZj39a7mrAAAAGZBn5VFFSwr/wBUKjiUggmyJhgRPycW\n",
              "1hAliotX+0OISvmrCKJJ4UdinkyZfrNsTq05k2Ppfkhdqvjz3g2HV9twFNQUjcFwIbdOgzReV35V\n",
              "fHfQ3wHWLZQ915UgAThFxG0ZNU2lryEAAABAAZ+0dEJ/ADOHW2rVxchaO2f9uW/N7qpYUCqe+D07\n",
              "9h9IOXLGHPr36DKT8+y7747uszFIoApWF1xSwXnqdTyQcAAAAEMBn7ZqQn8AZxyvkksAi7RbWCOH\n",
              "/HabzsGZZYI3RpT9YChYBAmNK4D04se2afTgaHL4ijnypy2sAJp2wIuDChgXNBe5AAABi0Gbu0mo\n",
              "QWyZTAhv//6nhADcCHHIBKd64iZ/LGOFjps3GDanPN+xv9pWr5v8mSY/0/y2UxlhV5LGnQqGu+cL\n",
              "70IWRCZiBjLlznWB7QIqJKYpa4ZWhmpYmgNtctr8YFf0q4VhdJoJYMIo5f5Kdr26lVtB7zIR8RAg\n",
              "scSHsrFnauT4mqTF6z+JDu2rwkywX6FaX3QsXwqCE44bWwP051KqntiMmkkKqfbSCmapqG1eptSP\n",
              "atRKLHb/PwHhczVx5sWmuciUBXrp+XptlIJoerjJp4A6KqY8NPYonh526O7l7imeGEzDgbs+mf3X\n",
              "id1b1FX9ljvnh+1YxO/IY5JRJSahM0ZCXrDKe2z2ShRy/lTwwnY6+58rR0Pf0oc7jNAZRJRMdq7B\n",
              "01EjC/1VA16YK79n16lRBjRijUKDNorTOpFQ8CVu0yd4LYX9WaHGZcDErg3SZ+5nqmuC2QlEl187\n",
              "2JHdDlMnAfjghwesz6FB7ERQSC1f4hviKSf8LaTq3zGJWNN84lGdVNdDbKSX7QBBAAAAY0Gf2UUV\n",
              "LCv/AFQp81iiiJpEDEt9W2QKLgLBbMKnh1e9oB8do1/HGNe5qvPzkZnksFnID7uCP54Dgf8cV+p+\n",
              "4Y9NGot4yFpLKqqjymvVTHrzi2ZZvLPC2KeeCXUO9aXe+fTkgAAAAEYBn/h0Qn8AZvnXWS8c2BI4\n",
              "x4TtGSU5/ffu4VtrPPRXOBw1QmPg0PZzNjLEU42SAw1gsZBrEiCEw7Jg4N7EAJqEDXH1q8zBAAAA\n",
              "RgGf+mpCfwBuhVKDSrKyrpq7F09haiWXqAwQLMV+TVNCiMVdxZF3HNbaXcYkHrUeVYColpA+2Rin\n",
              "gBOmAFWdQwFP5SG+abgAAAFwQZv/SahBbJlMCG///qeEANvFyQAoMS0FlN1Z+K7hK7ylEPCEJuhg\n",
              "mPdAhfVer4GIcJq9B6ovNYUJBiUnZhLypFKQvThhOgUU55fMmFxsWgdJq+iuZdl9Tz5no80rUveI\n",
              "oSf55PpAbUBRI50XDwKY9jMIxSD9GHsCl31TQO8UkDm6mDeK3OjAhzpi9JAQ1SFeg0aTQpoxB7rR\n",
              "n32LIIAs2Fv1wEVYYh+GSe5qxoMUGlAiGjM4o5k2voYu8UCKElba2EUIPbUKDewS2KTj1O1FEF41\n",
              "Y7skZEYSRbHtt2+cj9EliGfI7AuNmpQCIjjj3VrsD/83tj4tx8zCGdWr5PeJJnJNY2pL65PPADPk\n",
              "Pog1umzZgBXY2GYAvRr4EuMQif9meFr/7fFJy4JCTQsCJGmMTUbsU7XNMezYReTS0moCQepc7WZR\n",
              "oipVcFW2HQnfyb4vU9v4XiGy/ntC/F0j2LT+2TR2+nPADesSdJ63xQv9PKEAAABfQZ4dRRUsK/8A\n",
              "VlcChGp4YJtK1IFATiHQeS3Dg9G60dB8OLIDVsBItRUeLRRwj+PKDmWrux/PhsgEvWAR9Ohdd0vg\n",
              "nFlP8FlcNqXf+yw1YN1a+TVQEWxUH2dedbcg34EAAABMAZ48dEJ/ADIwrKqr0ZgOmxWI+PIprR3u\n",
              "PeiCfPfnBy4XRbJxElwMpj31zyGb2tCCFRNMFLFqv5UZPFVzLwK4gHKWAE6VlCDbFHmz4AAAAEYB\n",
              "nj5qQn8AZv/a9BOV+QKwaqHhlOGqOuMlSUDOp0Ks7XZuW6WkeYRQXcoCnhiogGbY4w6PlKRWc6gA\n",
              "/VnNk/AYs6bp3mEwAAABw0GaI0moQWyZTAhv//6nhADbxS1AI01RQ/xVvWRTTcm3ekBNDEJrzEJe\n",
              "7hJ1rci8DoUtbv2Xm8h0s6z8XpBtrrbuC6U/ia1CQRaSrqlpNeVLHYk36eDt5ZbTb1QHI4PNcmbY\n",
              "+WG9+lthG3fH1pQFt+Xcfuij6AJFcJHO0vHM1BQ9mTIExinin64BfD6INQkAQoI9Iij1Ue3XRVag\n",
              "DM0dByM4y3ttKPGqrHo+eLyieZc6lnHOqpxiq34FAT0TVj/P+k9WveFA65qnfOIfI19Sih1XJFj3\n",
              "GkuAxd1pOjA06Vrj555UfK+QGBSs88Iqu/xcesACkZHmYqLr6M3aCr65GuzEfaPnIwv5a1+z7ifN\n",
              "X/qHYmLvGYb9hRoviGVVaRi8fKs3f5aEK0k/TmMIqzo22UhMV5HW0e1p16wp+6IT3ur1NkMH0Cbb\n",
              "3HqCZ+BxQLQNiHPD2KJcskOPQLSNxELeWLucr+9j9aPwwrsv9SEL2051j9hNexXC8GBRnISzzOvO\n",
              "i+LFtp6/UHu2zTQCrGLvr6xY7SYdnFmC+vnozQ6pm7SqR5qwQmozON/iCM4tkYLn7sk6giNf4G9k\n",
              "/oL+hDP7NenORMEAAABkQZ5BRRUsK/8AVBW6P0evl0jJJOibpVhKoFK9fqXfR0LSzIYKPrvsWe6h\n",
              "T0D5dKE07LdkKIlFChHpg+r+TQrOpkH42OjqUJ4KVwQZu2QbFexBQANB2Niu78DcgFcKzi6AZaMJ\n",
              "OAAAAEIBnmB0Qn8A5+zb32LwPJHS8h418dPnJYFFRrL41oUG6iL1BTWuyBPYIoI8lqQ5bS8T7ymV\n",
              "oWpyEVxlYstV3CnQB6UAAABGAZ5iakJ/AGwBG/NBTZu/tVv652wQelBterbdsGxRGtNALl9vhMpc\n",
              "R9ZNXg9ADy83oQuj/NwgU4hAKPITnyacvkjEQ7nJyAAAAatBmmdJqEFsmUwIb//+p4QA3AhW4AEY\n",
              "cl3+BbRocbrfs1MpTNC5c5/GtDNANdDLxMBrM+UeNA4/1mPiXpWgB5Eo2/LDn+HP7xVAc8HjrogR\n",
              "a67fYdRHr3cncIOzFr1H0UrKNx07tEQzYHlcOgu3VYZBGStAJkr8Zy4AsPbHvUO/Tmv9Yzs3q1FW\n",
              "ZnMXtqJwSd0d15pE3nFi/FsU9GZRh60SLFSCTjpRxXlwpKniuM4g8D5nkUUgW9Hjr/JyGAqy747q\n",
              "cYoTS1JHXjygzYlegpyEfIgmnNqDkzJsiGsEN7xXWXLy0qPKVDwLGiLGTNzo3hKYTLbwk7XnmsOG\n",
              "D/jTiHKSKkykHhNosyaN2yAlGogJ+iKFDTGfkuSSL0NxmGcBtiqUYSToTC98OKoqfIPeVhXYGrvx\n",
              "Hux7v4nTiL/PN89vAeiPwCepOZb7gyfUKHMmyawmx3Cig7s/kOLYrKS3/k+5TVsrPzr1DhMyQRbc\n",
              "fbnMGXp92gm11GrnQTTB/J/o6J/Es936b25dX7nc331p6XAM7WXpf8KfkdipWqVSnci8UUSYGFex\n",
              "ZdZc9IIxAAAAbUGehUUVLCv/AFiLWDdJkXjqJR3aQ5UNpUrPOJscsg/5Kuk3AXXseqIRKhhrrHZ+\n",
              "Pm4TW5mA0pvvBOKIdoWBTdsyYih0di1C3HEWc0qkdLqwNS8wtFYL7TRhAN9ajT1u22UACuKLHwbF\n",
              "CEviPiEAAABJAZ6kdEJ/AGb5cPxlxbmH75kNFsqyUCrd+d/NkRmbYVp6qHhEh74J3JhMHa0ZrEEu\n",
              "c5SIVUgyt0rxmKsjFj2k+pRACYSQH99gqQAAADoBnqZqQn8AaZypszrkSBofxgWVLQ10nEiQGHuK\n",
              "hFIN8mSWYjIKoLJc0LoQqrSkdSDTRN/R3b/58ErZAAABZEGaq0moQWyZTAhv//6nhADbm/wJbgEy\n",
              "+oc/iCdsZQL629nplCxyxMimMJTeeiIr1lNbATASbjYx05gTtNs8fxwGNm/NdjegvhOIWDuIS80N\n",
              "kPxITzdOnJSUUk8CBFz3aFWvEkTfdsvPZQirh2p4ccU4krUz7+KTmjCf0LyrrBglJ1fK3/ehI0rw\n",
              "iEpWvIMml4TlWEB9vPNrj/cv2pMDOIa1mbKsx6p4fBoAiTbqmWm5HhLlhcDzMRaebOdKfAEtML7x\n",
              "Xe+hKgdmGuNAMk4OVObRPIv/ofkl0Qpm/d2AxkNgoEaCRs9K/d3qZ8syxTIWcsNhH0E82y8eSY2U\n",
              "1YZznJw4JU4G1e5PQKY63tlm+sGV88HboI4CHxKBubdzW4oSwRSOHHbfvMyqoII+1jKYWa4x4haD\n",
              "Oof8ToHL1b0+FCTguB0z9qD1mljfE5K62TmF0v5gIsAqOHrHK+Y16bH3xmTY1N6AAAAAckGeyUUV\n",
              "LCv/AFZWLw9jyrI57r1YXnGwA51kxej+Y+1Jylx+3it1+nsT/ZZYzgBGPu4T8NEtRr9t1a415IlQ\n",
              "oHPIG9PE8BqLtTh9Y/sY8GeHfzHsPFrVWj0vLKtpHlX5YVnsbH5OS7AxfyGSe61UHldC4AAAAEQB\n",
              "nuh0Qn8AZHlx+wNYxcZt6aemptVrNaQzKG7YdsytISHyBrF0BWs4GN7gOxRqSyG0t9mm15sCEOnv\n",
              "p1GYQMn9YlBbQQAAAD0BnupqQn8AZv80OObyriZHeOqPDXrnrUyJL+47yBlEE68Cy/ltOx0zaNw7\n",
              "BDmiwxeXqoeThRZpwmCKzV5gAAABukGa70moQWyZTAhv//6nhADbxx+AQP+1YXcB0VNdHMqU/nO5\n",
              "GUcLHVqFrMjkay6CQmcu1Nn7xWa2BZ7Bg1UCp9UOTYimUk/chSNsxdnzz8UGSaGRU+s5qhrQ1GlE\n",
              "u37euIIiA1K/ZeAxEuJEM90FQa9nU9AU15foQ/H9LKaTwTZLik9D3T0bPTRv5F9oBEc3hSyXiRRG\n",
              "Wk3deTSu5zwCZtMwxewqXiY+lH4YvygzDCZetKSPe3ldVbw7JoePuGQ7yIxL7At7O9eu+JzrVp0x\n",
              "MSsHO2t5qZ4UKNTGP+9zvFbMlg80Fc+Wy7Se4n0LETvH3D0m77tWNyFo+mJvsH82kZfRVbQ2fB2w\n",
              "e+KGknlEC20jYr5w40RFhTru9qIK+Ow9uLSZKwWklzNW6bxK72pSmTby/5v2zWEcB9NHcPVc9MS0\n",
              "vszfF1v8Hs4VAQzhkv4WZgfaHSnlwzxLFbmTOemEOz/jVT+nFJ6HuSgL7wwpj6dM364DFmQqagrt\n",
              "D4PfhjvpwQz1EPE5rbdEkVw/CYUH4eXG/nUCNmLoFWeT1YKkOPGTF2v9XgkfEgFweEHuPSt9zW/c\n",
              "4/rQpYkzcEYAAABxQZ8NRRUsK/8AWJrXPOAIHiRjOya3dIYUl21njBl5VzsVLBnnXZeiGmsTURcS\n",
              "s47JEysCNp8cRvSdxMvQSBNTkPe+BbvhyTOHuHbs4K36P+vKEkEhnb4SxP1pGOgizs3Hg1MS8zYY\n",
              "m39BCI1aMQ4oLGEAAABHAZ8sdEJ/AGl52ZG3zFoV1iQYi+yb9Pp+oaUVsY8X+uYBQGD/eKO2v5L3\n",
              "LiYdGLyaXkgPper7D2ZfOymGahS/b3bobFDG9vMAAABJAZ8uakJ/AGwcs/iks+VLKKFHOdv2t6xQ\n",
              "BBGjQ7GLyPlfFBYVgxwWKr5Vzi7mAxqNA5tkxqNPdFQp9S+LCwQAGgbZWzEc15FLaQAAAaJBmzNJ\n",
              "qEFsmUwIb//+p4QA28XJACeCFHandpfrXLabO2BQIUahuqF72FaNShnBttzsYb7USN24vQd5b5uo\n",
              "rCWiRCQ0CgEe4jeYSErQ/Uuuk/hWjaDAsNcii21QpXWSlvP243OpaB6Bz4FmiEX/6Sghn76D943q\n",
              "mWgf/M4XAbZuf2xtLngulYzYOrUuiDNwD+vugskYDCupZ3zOQZZ0JZrPniRS6UV/MGtk0OXHhBKR\n",
              "2mXP3ZG391b7cVQJDPL0u0R6p6ZN7ILZqVAI2A7vkT+TqCaQ/MSYKyD5K86kmYezLPXEL8UCImgT\n",
              "pYpj95mnDPI/ePMTR0l1nYI2bsSfFpjsxmM/bGSBauAJddjQF2VJEbThxCCtRBopuLqn156700Om\n",
              "DDcZdj1xJYhMKhvnSMl4Bnn//4zz73RLx5H58lPpwASoZLsW2jPaUju4farN6DN+GjAvNKAaZ7MZ\n",
              "wrkcBnAnpf2EINxtiDK8iZo7vNOQhC66V3yDQ/433oso86OFsRdlOY/AOU2qBqgkmcduUHDWQCeL\n",
              "DmVaqJY/YWvNt2H48u+AAAAAb0GfUUUVLCv/AKysYqGpZXcC5l39uM8HDSynxSpFMs8JEY/IBTbY\n",
              "OVj203pQ4VBcAM5uPmVoFL+sPpRS/bMKkr80gBJ5Oe3QLqxxrGYc+SkCrXWkDmiQHVkdCc3oM8Ua\n",
              "6PAlFA+h1gDj9hFnnkmLqgAAAEgBn3B0Qn8AZyGlk9DK/tOfVOwiwDy5P+Oje+cqb5e3+egOhuDo\n",
              "WkNsQ8Ft6HTxjvmsRxPtZ7uurGhApnudsGU7EhruOuMVcOEAAABIAZ9yakJ/AGb/NDJes38KosxM\n",
              "SBG2rzQ8qFVQEOHPpXKHwEmSrLeWH5gI7erqfVvb9CvSLLzMDf6OwE0q/cvCVF4ARFnDADFgAAAB\n",
              "skGbd0moQWyZTAhv//6nhADcCFNIBGpj0SuwACgpj0WI/gJvIhBs3mSYxTbf4UNd2Q658zPyTHQt\n",
              "gI1a/FdL2YrdRcgxrrpZLdkYdKR3vklAB8w4ld6S/a5UDRZgusX1rcbDWsoUe57tpdH8gYjJgYsl\n",
              "/40qasHkCaxORj38HmhW+0K0pxDVVv84Ef2x6/3pLv1n2Te2gVDXPc+CcUprFHFjfUGYJZHSjiEz\n",
              "al+Wj9988mikOxWY2x3XecTYmZJbFA2kjLCNbRjTdKvABUaJF94mkhwwI/VDSEjukfLYvEUTlk4P\n",
              "uit/AdxicHmsuwPwYwfGt8boADJ7kxID/Vkq4+mzBq+GBUIlBq/85EafIP1qiiWuY+nZEZrVPNoa\n",
              "yXaXW2YFMBkHeUfUw17RV4xLjmLnb++PKth45kallWb9y8Tg0Spn5Peuk1/NzAZKks+5GF/n6n4C\n",
              "V8V7n/iWultU2Xc97yzF4SQSo6Ja6T5HWdzLjOmUF6xlPIYnHZtcSSno3J31qaBe995juUKurCgZ\n",
              "BIAoM0Rk10JrDq2q+e5eNUb3p0PE0UvMHpx4S0JJPj1uDxhBAAAAd0GflUUVLCv/AFi5QN4UVR9m\n",
              "1Y2tEaCwki5rarQnC3/KnEbkONgkvh9pzK57znzYghXmEmg+BnhfdqrexjCPBrvpFVRXR52CQFgv\n",
              "OOEzyt5+uPMLCespYJrYVjMwAjJssHHdfXJ+ux0gEzL39EED5sGhqxLEFx7hAAAASQGftHRCfwBk\n",
              "oMMHINaEi8LS9RjuR8e0LQzsbgf1lChAB8CJzeWMybNKZEDZfxKAI0jGGnDMgKAw6XAGNbCrWF3X\n",
              "Cv2Gko5K8kAAAABaAZ+2akJ/AGb/NNYVvexbBQTGfk35kOH4ACNfeGqqlxA6A28VfZecBQSzsIdg\n",
              "iqpOObO6Q36WyWGBfVbF+rTGkSJCu3CmsOdRACS/5vOBVjZl8N8w+zWhUAWVAAABl0Gbu0moQWyZ\n",
              "TAhv//6nhADbxckAJ19y7ORiJYPoiEjrc/Af+e3smC4lMeMdR0VPirs7N+K8YqeiXG4ircigb3n/\n",
              "eL20H7UkWLQuGYR6mUpDcHsFyr/vVFH7FfDWhW1sWmrVU18lJ3hX84GiALdJvm25OMqRmC8J5lcu\n",
              "eJlDAdXwzelvybIEnXPlLmENCzf6FrWvK9Vos4NuFqgPN5n/Yn1I7hT0EqdzQH7pxB2PDnmoLCgv\n",
              "qBlRRLIMziy7JslwdQ5UrBrGpzSHJIBsj68p1fbgDGWNblS3OD0KSmwTon/k+fy3aG2yACBHkKPK\n",
              "3wh6vpogxA8FLiJ9EAcdIoQGAjmTpDoDqVaIlsF5kwW47BYMDJ9Q9ZvRCPeTjv6MeqBqjbw/LQuR\n",
              "WhTLrxyMg4ltQsQGUc7Lbf9Mswhbh+jl3PMlVNoRVZiD00rhw015WSLNVqeDbXwnU+OJGJvmfOx2\n",
              "c8/uT8179L3Avvf6uFCmjVCy3nuGyZJmikicjPWy8wrG/294OmDMaJeIsrA880vV60kGqyoneRVJ\n",
              "AAAAekGf2UUVLCv/AFi5QMbAw4UTqpAolyfQ09JpoJ5oCbHAx+/WIOlkRqGTkgOA+Pgx+D1NNHy7\n",
              "PZait+4ZW+CxjYqcOIDA0E7fVIpi253qscR7sR8sWHTHdvCGNhQEJysEVGkEPQArgbeqxhXNn6AE\n",
              "8hRQJqbwLtBTj/nHAAAATQGf+HRCfwBm+XBX3LuCLEwxO34i8NtMQ9hq4KTo9FofCRvUTaf1d9Sh\n",
              "ksKAP1WxEATfmmkUWgbmpKlOSbMxQWb4+WAFbmy4NwRfLhJxAAAATQGf+mpCfwBxXmOcmGdhf3o7\n",
              "X95OOkIMDNrIWi1SL47jopL9aeR7MOY7ECskSy11nmF8iIjGpiJgVEKGutWmbaW3d5jqBKcS8XeW\n",
              "VwEtAAABfUGb/0moQWyZTAhv//6nhADbxckAJUWcsx+psijZw/T5m8GOJjyvf/KB2C62FlKXfmsH\n",
              "SnYtPaUXWZ8CnnK7JVGJjNGyEAnIeCnIhYNnrbj7uBsW2g/yzwhC+tEk7CSS5TDmSKSXoIFMMHYw\n",
              "roqwbpNF4AVDs+aMgVfIw5jpHHXLkUN/7xpyn1BJfv2gZ8W8NEWMUvj/vkUsUKSsYKYKiomGKmeR\n",
              "rYcgYCLa+25b28dkc0A+IMcj/RSqkYMK0EEBG3fNaU+x7zpnw9+GBkTNvpszcRiP/PxuGX7KZgnI\n",
              "L8GrCc5CJpW720FdBuG7UjHjHzcL+J1izHx3gsf8FMFssv3lcMLhIkS4CyIty8Nu/gxJCpGrMii6\n",
              "1P3bdk+wXIppQDRaMCQle32izJMbvx5ozn4pPfDYNPKx7pqB3et9QmjVrm6h9DORBk4j42PLKGty\n",
              "QvlY5kG3Nm+awRCUrmHQT8W/xj8O265+K7Z1VOn85sQByks64eUuXpCBg35GTQAAAIJBnh1FFSwr\n",
              "/wBYuUDd6YDrA/Hbs2K5KgDXBvPxfW/Mx6H3eTHAKea/G9hbKWE2HLJoIAkIga6H1zB8YUkCE2pD\n",
              "OcIB6qAEfiGhpvcAGC6AVHumVKYzRXSFktpBFJC7N/oflIXnYdnjijspJBtVkf19fEyPf2vv03Ez\n",
              "iuwIA/LlUEfBAAAAVQGePHRCfwBxNqzcWfjRwQE8v1hfV7SF2x7AVrqcpgcX0c3VsWMo4JQ8FBv7\n",
              "ndkHANOsirL/NCj5GxrKcaL4vFP4gAJf+6vRrWRvVgHQbXiqgoB004AAAABNAZ4+akJ/AHFeY5yY\n",
              "Z2F/d++5mw3CHldLc3Fc1ux4t5Nm+I4IuOlIvcy+RsN+wTY3uEGsqHtF3qQq8SFghGdTc89xHtcJ\n",
              "ls0o+CU4N7gAAAGSQZojSahBbJlMCG///qeEANvFyQAmsxk1UjgeZKu/cK0jZqeE7C4PxHvJ0uLn\n",
              "zhQ7TIOK2535biBDLi/KIMBnxf7jv6Jx2TfXYQuztEqeqKQFRFBM59VrmPYaLh/h/8UyR+7z9o7d\n",
              "W9q7EdMy/hWAGkETwOvqSYHzlGCne/Hmgd0o36xLTByf3QjtsKUDQdJZTOH8V9ziYO/SfZhG4+yT\n",
              "Hpec4zJ8VAk9XyS1fsCIKivasJXt1nK9FGIMowdBvPZNTBVsyrCvhOLGNHgYZ9qWoobxAvJl/Dqr\n",
              "86gvqe2qrW6uDbtq3QEzwIvB11mN60lBYhbNot7H5nmmjpmlALbk5itBQSs7e41aq13DxHf5FVOZ\n",
              "yaSdsw9R//rjZpR39BDfE+Tgqt2mfZ3lQzfrvEVsTaUCJOKuHC/yYIKIQZRryFqc4t0jxZeCUNnm\n",
              "NwOshpYM0kYpR/+lZdXf/XhcrV3ZifsNk//zRZUfNo7b+C6sutfWZeKaH4R1HReywoN3tt7OVvAV\n",
              "d+VkbHigacXiswTFqoHzAAAAjkGeQUUVLCv/AFi5JaQRE5t8wcgauOW5K7QMpjmUjrGDla8keIqS\n",
              "fjXQmrxds8UwR4vwMC9/g5MDKnbBgVK0ByEpJV93oFuzwDJL2ABp6mIGPUs4ee/VY3cyhtrdgVZQ\n",
              "ASLk7ca4JMZFfyVd+AuMFFwyEypa7vaqN8BpjoTSVc8r0XKVgPTTy+XsCoiUJuAAAABdAZ5gdEJ/\n",
              "AHE2xWM0ezJWv3NUfaO2TVAJwJatmOjJ6ViC2GxzjGsnwMDtNe+JR7uu9nSgZYHhmpQeeSOfcarL\n",
              "bQs4wn/0fU2c3CBCd/wAAJyidw5ueUNDRH3YYlBxAAAAVwGeYmpCfwBxXmPwNfRybpf8BACXgcYm\n",
              "IJr1bBZhvAF74hPMUx4ozXo6grZO6JAAuZAKKJkOPNpR4y/+//RCIeSTjEGJ3SfZlcspsyZEHZTi\n",
              "uIhdDGP0WgAAAOJBmmRJqEFsmUwIb//+p4QA0b/uAoQVdaKLOgofWnPkAQZsxsSxcXbBWwcoAL67\n",
              "P4rcK9khF8KAjxUwGxWhcFxoDTTh0bmyeY6OLP/rHXr0k29G8idQbvVj3zcWs1ZOksMVwuxN4poj\n",
              "hRvDgYhKma6Y4WV6X0ObgJOoc2z9qDPsaSgnxHSKWSlnAZ+pnn1wTtJiRxsmiuVH8cBPhe4iB7A7\n",
              "86hCO4wE2oSojuiNaWBAPKuvCpwcPCsHjtF+NQhxrouRpOOaCL0+u2V3Zi6AUSVuullXuYJIZ0XY\n",
              "UHwc6P7iq5qxAAABz0GaiEnhClJlMCG//qeEANwKnLqgDv+0zjXQ/BHl6aXbVobPEimL7gPmE55w\n",
              "jzLPZiU2TOnueT76cqI5eo65qp12ssfTOguPcmhGY+MdXM6iST78OX4E/0NvlbznxtYWLoS3klQ7\n",
              "Ns0px7IsGQb8wHzv+OO6bgEr1bcw7iN45M9axZ19NRzfnvWwm1HLCFJAc/Nshy3ObDxqbyWVcLu8\n",
              "Jkm1IZn50L+SJnhHB/uz8+1cKUnFVlKngaK/9nuenMNxbiEZAzYh90Mp8W3p/PA/qLVAvOIVIWCV\n",
              "QZCwBlyOe4PdYzj0lIchWouEyj5IMzCBO7aWjz4KzJ+6Xjf3bR73eMqS2A6E7khDtyYYGHcPsdru\n",
              "2pVS8OH5ByQpUm+rx/aKLsfoory3mDbdwqg3hiia9PagS6T84CtlbuTRNImw7Tx8HaeEVM76ZBdV\n",
              "vfEAzBEkGBtV+otcJxEDtwijP4HrfG7ZX6C2vEFXiQBw+a3W8EIEEnk00iFzRXPT5mKNLkl1ZrZS\n",
              "HUeXbSAVQGnN+WpwmYDUER4X/DcFwFxxWrHBNCWu96RLjxMTPpiA5RYV4b919+pZgy8DFl3fh/uL\n",
              "u/fv+yIzdBrzizj4hDeJZJyZ1mkAAAB/QZ6mRTRMK/8AWLNuuiUkAek0/7OXf/lG5IrIhY4rNIYS\n",
              "Wu43nBIV7CKEnIViieWiAzOvTr20NVwKmHaxfvXyK7+JhUpAz3QTxpzDoiyFpxDnJOWqT8ErLJWP\n",
              "9/MLDEBQHDZwZYgEpRALZHg6pzCSWEf2gf6L1OYntspKJ0ADCwAAAFUBnsV0Qn8AcTa0ttZiNi8w\n",
              "d3oXiLQBotrSYMI3CSocQ330Y2Xnsz3fr3GP9Pp/qHV2K3qo4NrIzZh+dSYuOTMyT5+sfuiAD7bp\n",
              "Epoc0DpDQVqKgVxdAAAAUgGex2pCfwBxXmPwPIuSJ7dGAvLzAP4sm9rcrWAI2sEPEwtDtbF6lb3m\n",
              "0U0qS5z5HpzSvcZsdeEQGsrDs8uAaa12x3yAEk7fNUPrH9hcxOjeKggAAAGoQZrMSahBaJlMCG//\n",
              "/qeEANcDlV0gF4rAF7+9PlJbpA7GMj0HjuIPeng+bnlTUSsp9xNqEMNcmDfozEwR4wLyvthDeUA8\n",
              "yggJjtu6/W8EgoStq5LiNrVLewaUFtmws8rkfM2uyHn32vAEAWIs1rTYvjiJKxXkzAjc0IU9BOqa\n",
              "nNgOqqvTDsFuQMtNviVeed8LZUE6hWhXktesZSI0fDXGBIrE3DH0W5HR9MW0WZIgj3jtzvmTSEoE\n",
              "Ex6Mh246MRk/sTen5NNqDxRaAiJ4HWsi/u036sTGgzjmcn5LBp/LasAP50rfFpKgfULLkSD+1zPL\n",
              "7i2Xy/el4yGLKcGngkMlSbLECpPqX2qQkXnJQaqjwXBHY/WQnKbMnyArMGBvc1fHJwNAAqF8I1Iv\n",
              "g0Fv6rwN1T2qlsBfMCkHjZd5kDW3kLRGJYwKFVh1TLMaR4ohZK9CNUlCsmLZ7D3VfZmwAJbdL10+\n",
              "fw2/HpoLFKhjYUC+AAlpo9KiT26k/SbZ9truL1GXXoH31WmyGe4+R+/c90A6DywomdX9RQ09oZ0B\n",
              "9gAAAwAAC2R4c1U1IAAAAHVBnupFESwr/wBYuUDdw7uUcg9/9tGRxf31MFJ1rbpc/FsLFwXSQJD9\n",
              "JUhNYGoASG4AOs4euZejHeKIkxye6CD5JrKOUKuD3sgN8xb+V0xsKUb9CbbTkTG8aq3soM7mhBmk\n",
              "cyBjIMjjaJouBmchaR7oH0P7aZkAAABdAZ8JdEJ/AHE2vLbbmlaZvJYwTddNQAo3FpTej+OZgDBY\n",
              "PgtEZ7nlxRRHU8qBnYfD13uCwWEokP7l+Cb3j9Jjsk20ttgIngAXUKX9Thm8PN/YoyUfagbD4eZ8\n",
              "IEPAAAAAWQGfC2pCfwBm/rag4peiHgNxqCWT+LlZDXKFEDNZKKzI4yiYI/Lf4qulnEXOm+b0l7xy\n",
              "Way8M/y7ntD58p0aV3P/Iq42xvGuN7OcAE016qOuw51pYYPzwGLAAAAB6UGbEEmoQWyZTAhv//6n\n",
              "hADbxckAJ1NxLcUC6fQaVgJP38WNeZPdbQok3MKp92Vt/KH8xxIeBaNxGqc0EUkrmDmqF+TrqtiG\n",
              "BLAFjJIFaA0p0ufQqX1iA1ImbTYcPC2/Bzg9/7eRxWeKH/rW/hVN/r8TJ2ERomTLya/1GGDQUvMI\n",
              "SMg5lNkAhj3boIdozwZxHlQZ2t81c+ggDzG8JZQ+N2W9JSK9EmEzcBZBHtivD/8jbR66e3kasWeC\n",
              "eblA6XaY8dAeZisMvT6DUXwkIrYTw9KXsOIxgozC//1hVgDxJhJ1ojzKvVWacjk/JBTnib2XfAsk\n",
              "LLd21TT0p/z3JLSETUbk1v0VUvDIBlyWXAa8+W3kefL/UEwAd1ElB4tojzVVPCAR/rGeDNiI3uaX\n",
              "+IDGZ2hT0wBULZK9zueFE/T6oG/ItlEYmSibepEruEPySJaU1R9gdfUyiWALRZVsPabumsJElhNn\n",
              "IzREzPNeoB7IM3FxACmwavr5Xck5JoLYJ9nhCPVCXJ6wRS/53gzIToyrw2HSmxcwXUedyOPLdKB5\n",
              "qLpIPwAjkWDZd5cqOb4wlmI004N/faKCkFD9QsMEgrUqdMrfL5Aumtyqv4AFRDWh//V10of3AdLx\n",
              "MT18dpoc9Wvo+FtYLcuVzMeqIQAAAIBBny5FFSwr/wCoKjPm6lygW6LUjXw8AVnJDsv7i3l9sfsg\n",
              "LxxAlS/Vh2TM2wtkHoHtPeBJUPKyBuMQxSaoyP1ocCXCgi5hWK6VR8ELIyv/YOrAzReAG9443U6y\n",
              "7/9+A9NpBCyAUo4/ARBDw1vnrNy1B32op/lO4zJbcZBeHP3D0wAAAEMBn010Qn8AYfi3b8VsAV82\n",
              "mgC8W8KNAC7mS2yAdnH838oh0QoMWprkd+z3eZUwZxwUi4UcW6zF8WmgI1oXHd/8krBhAAAAQAGf\n",
              "T2pCfwBnGtKwVTlvOl+5g4vD9854fz3kQwE1S7Xg1UrMID60DE2+mTZpzdqb44Gdj8KCEfHCnAfJ\n",
              "9XHUsoAAAAH8QZtUSahBbJlMCG///qeEANwKmuDlSSk3ifY5Vpm9fakgEzZD0cwTrpj6fOsm2Xdj\n",
              "UoS+i4ZR8bl1UQrGJucFi6qHL6wjyi6RkrsqGPNz4E9T918j0gsf6x6ubTPXqTn52CzBIe5layqk\n",
              "fihTDE6IXs7jVmJe1IFFdKC4UK8lJVL893AGGL1FdfZGD4hynpuiD7ZR2M0TTBoSvM82FY7FXFeV\n",
              "tSfMuAmNBWMFpPzfnWsIkm+kLX6Z3IRhjXfr+cmllCXImtoY/OL7JBu7KDnuXw7+ycw8dnyIBPgD\n",
              "Hh3y+V9JH7DwvCq/WG0134lTrvCLPimcDWSv1UxQwfnxzdp6NbbLIhxr2+5Xd5P6gwW8RQVNQSok\n",
              "ktGJfUvrVDZl2Qe0yqzqxG0U+syQugo+6znK/oNOdZSYla4og826dS+biMjmU1Pdv/ECRHhO9BN3\n",
              "ZeswTR/nl5aOifs1pXNlXrIfzl09Buo0QROcFySnAMkRZEDqwlKuYQcykNJR/P4TFYcg5HHQLitY\n",
              "wA7VIOYQqX4PENn0AuQnW8If8i8qKC14tk5ysJb6P3sXl3QgmCNNV7NXxuAlzRR/Gvoqn6eEM7ve\n",
              "SDfrFV5hH4z5E45lGtpoPOkSQafW93Le84YIoSVdYhUCdsrbacVE20C5NL8VwXP6/NgWOuoLkolm\n",
              "36TT4AAAAIRBn3JFFSwr/wCoU0r0fLnL/qS0cNB1QQdob13otLAS86L5L2X+pjTEaq8oY2tmM5pU\n",
              "xrySZvl5bA3WtfJbg0cgQCo0MqVpa7DcsDXS09NR2utxPOgzr3TLDBj/nTK/SOstMYy7rVMm43c4\n",
              "GAeZH7r2ovFugGDefJhbf/YFgTVI+0wuM6EAAABfAZ+RdEJ/AG59FAHKcEx4T7tA1Z5ylU6d8jag\n",
              "DCI05zVziDnVaOWCvo9/6cBdjlcJyC8Shh+QBzYACdVsgmzRcPm+sxOk3YSGM+cfdFR5J1wSmPgQ\n",
              "I9R9kLriRnVHNoQAAABRAZ+TakJ/AGH9u0N/HoXSl9fNZgeQrQ9yZiz9RdattglvJ5BzBrXMwSeV\n",
              "AAHbQxnzmEmqTZQ1fcNez+Em91EMvxYlbv+iR0WfH0TMx+sVRAQcAAABsEGbmEmoQWyZTAhv//6n\n",
              "hADXA5RZKJscgAOE9eqplFCPfgbhX5HzFIS7UDhbTC7zoDgag2SiBGfBUpgpdbGnneticTvwWnoU\n",
              "uFNtKXEysQH3F1fF4KZkTQ7n1FTQeMsGdI1jnOp6BIJv0npl9GqjdxRohyvibnGmhgoNrvo6wzVn\n",
              "Sm6f+s/nILqjzCw/WNtBaqcP5KQYt1lFBeqr7juKS3nkV/oc+g3kFnW3fahoKaXEJNXyE7bXxJ96\n",
              "7rowriEZZt8atdGTNxk9qIj/4s4ercDNPtQrl9fQyuqTPpOA2TH+65UToU1Yrtr/NEJX9HEt+GyF\n",
              "8lawpH0hOh7/T7GbroOLVYG2gsaBuZe5LJvbQcL4bWyMBJV3SSoRFeGsNVXp0RJkmyj3AuqiWsco\n",
              "HCWW3WfpHPmwedAG/WS4Vdd8OivxKHtxr9LP3PFuaA03FU7/h01qF79/+7yqIiOtjrfEwqAURa+q\n",
              "mKN+GqJ7IWT/zHXX7mmMEDgZRd0W7X55lYECS+sXfTn92DCoBfzOp8/w/+0XIS7Na9tn1ecgQwMM\n",
              "9iLzrkLSkUztWjyAC5DiByajgQAAAJlBn7ZFFSwr/wCoUwtx920t5rWlTuNU/N1se4HvDHssiU7l\n",
              "UJjCyovlD4BjA6iRY/25V07P3aj8ss+5/U1CNsGHNFWoZqO1MoGgFekoepQeZC2KStzOp/U4HjYF\n",
              "5wAigjHtbW1lmArlxeGHGxHH66JVA2kQFhEKmpCH1YH7TcW6O1mEvkQXJnvpaQYyJ4hMAWqLhAS8\n",
              "i3xTqSgAAABDAZ/VdEJ/AF+c4rcLt082Ue4QaPHBOYEwG351/s4zqViWB+KxIzs70xIoRJu6Lkqi\n",
              "JOLvifTCThaaF8LahMxTxgvvKwAAAEUBn9dqQn8AX3uRhMXBTRje8oAud3jskIUNDw90w3PqXjkK\n",
              "1xkUOn6VxrmFqPWPuKVs5EGvEqb18lHKfbIIlyDCUUayQ/kAAAGvQZvcSahBbJlMCG///qeEANvF\n",
              "yQAcugNVFBZCA7MO9i9ZKTYyYzVSFdcwPUa/yDNs2eA2erSRsVNEsm/bJOaVqtHWI+k+2vNlK+Pa\n",
              "pq/AKw8F39Eukug4V9umDI6xOblMd21FP+Hyfy3QpPDb0uZdD+srzxK9h/qi4zxDbWFOUkfKTlzA\n",
              "sJJrd+LvQaMOxvpsgG+ReKMG51mnF8SmCuG9EYXd+OlcwWjns4dxed8PyGXbxeR1wiCGxkNHoLsG\n",
              "ucFFCIxTn+dTD367jojom5ooav4MsD7XNkZv4HVXWub+8H4XyaYKGJJgcaXB4aOXNuTh5SpUhi7Y\n",
              "SC+z9Z8szQ+j7rtwbi/tuL0/iljawaSR9ebN0qd0yvpa1y9ahlrrbhlh3MhRcY3j4eCaJpKIbLzP\n",
              "L63eN8NhTnZsit6dGtANZQplUIGNGq7NXGlgYOKzuUdnPL6En9Wn//Uc/co3ITb9ryVw4UGFQTi8\n",
              "zY9Qsw++rjxcwXQK8r3Q5DcS8jSmogqX3faGA/Aq8fMPGCzYyPC3dnKweTvybdvBTgCSqhbQ7xO8\n",
              "yFoxAyA9oBFndOv+z+AAAACBQZ/6RRUsK/8Ao6XyxObbMnewwo9C2EJ8UE0uZ9LlmigBdPSgJQ/J\n",
              "cibJNAahO6pKb1oKuaS539WrIlDDSwj1FFWPmHBibQqTkCtCXp9O2TJH3NC/sTet/ouWAGbSK/EY\n",
              "kD+HGPTXmS7fEIgjlyv+53GkzxmGjYQ+MDvn5plN6USBAAAATwGeGXRCfwBka/cpzIZPgUHrWj2i\n",
              "RgtNwODR+5DaHu3vdQMjZS6nKmKKRpmWgPqX1kvQuhwTibg606g94oZF47qzPNhzU0g4zE1zHZky\n",
              "4GAAAABcAZ4bakJ/AGIZYV9L31MOELSgflPYXdPq1IZsy9ftkfy4FIE/rfZY9glGcdPr6qEbr40A\n",
              "HhQs6Bq+03HiiDZY02rJ2Lz8097ACdVqNYfU88Qs968BGNKlLWzWg/0AAAGlQZoASahBbJlMCG//\n",
              "/qeEANwKmywYgGPubdNC8p2TNADdBG01UiuSEPWcB4aOuEJYWGkP77v2D7FV3LbSiWKGkNWsxUBS\n",
              "CaHPtRGXUnFqGh64AoL1pPfDFBiFlfNLfh+R9lG+7j5xi+Yf6kOZi5jP8RPK8afMgYoMJZ/ihEDe\n",
              "GPfaowdrz5xiEwGYgvU0GE5L3BO5dMl1X9khprQjUnuR01qPg3KlsZU2k48VVVrrimzSkWcsNfMA\n",
              "rR6CpAogbybbc/Yy4NKrj69fyQIMcWr+d7YaXsot1h+4VfvPuawipEpM6cn9FtMEnXrvgVVuodY7\n",
              "nio9ZcD8GyGsD8xeVvH8+bMVzL/7qcOak2cMTesFuEaT3BaFpb/u17Z7cf7LPYHL6rieLx3hv6h3\n",
              "3e3LrToMRnHULIQ+cEjSz0/LihiopCRjwnsmWQdsTnF8j/jt0jxIg+EaZHPgeTeJ5mWsWQhIHE12\n",
              "5JjZhlMBQnxIHMcNo67B6+JA8OQslb0uA5V2liVAF2Qtdso6apVfK74NubFI5kc3OWVfm9FaVFwe\n",
              "AECk+4dUnElcwQAAAJNBnj5FFSwr/wCoKUJQs656rse6aaZoo3qTr1FQ8g7cSnJTMWSfCGguVfiB\n",
              "g8aVbc+abCU7eOp090VhOWpvEFBx7o0lvuIFm5jLLnShHmIKa9AgepwdJnBFtcK83L446uIk7lLi\n",
              "Nlgc5/qiuUPodOLb/AbpQGBbpqp/f/I/kRkDRff1Pjhmw6k6tsKH0bNqpERr7YAAAABQAZ5ddEJ/\n",
              "AM5MnDnJXQ7iqml0ngVlFCOhpHeIEprNszyDC1u+qxFRMXsV/aWZ9E0SPmMzQLq75CeBaUqKg19B\n",
              "8ep8Nlt7/eq6XQ5ctvUFLaAAAABgAZ5fakJ/AGb9/h4EaPjp17mhncRxYKlhfs5I4Z7HqGFVLMTy\n",
              "mX48lnlnTHQ8zhm1Ob5eEUiyASDUoV7A6EeazAKIX/CfJlHZseYBXKugL6So5bTixvCSowypDf8M\n",
              "+sXxAAABaUGaREmoQWyZTAhv//6nhADXA5LjemKw87qWrEkXQLzf2nmBzKUCsAHFGNMi8CFXzSSX\n",
              "nwnZO1JXqJxZkdECWspMi++mR7ykvxFR7WvqLY+TssWygJyahDwhbMjau612iKEdDAM/xkpdFovr\n",
              "ZIzyN5+tciArekHgf455aiYFy1KpIRx31OILUKa5ATnvM2M5dj88QON8LhdSHLFFH605l0zpPg7y\n",
              "gnyRqoXY1RUJO/Ulz6kytSvMPRoZBr1lPq8i607WfrSB2XuaWzm8xpJ/q1FSq+ERCl3agPgJBLwI\n",
              "ItgttC9+K7OFSVFaxiPMCvODheyGS7IwddYhV5bpgHPgyauCknKpcHLykKjdMNUug4fA02VDIfmq\n",
              "rA8uuYFQ0Tqn5U7S7K0SJOOWlb16ttdstc+1IbszaJIN85JiMDdr3nDNCR08olbh9y9lwYO7tQmF\n",
              "N29J3jPUQnqjaSln9WdEujssezAV12EduxAAAACAQZ5iRRUsK/8Ao9Ga3elK5xOwwVrQld3mQovF\n",
              "i4F/7xy2RNgnDVT+FXYYNDqVQef+E2GgKFTW78l1fHENmYmXsCwsvwx5ls0NbuW1Ew5JZwYX4IZU\n",
              "cdEpoxlC145plE1J/hypiX6KRq0LUx1hDZw+P728ZAqsMoKQyEAEuQ9RzcEAAABVAZ6BdEJ/AGSc\n",
              "47kMEpy1oo5bz7hcs6yhcmrJW8irUWQLJsoxcyLr1b6Zhc3+tE/hn2Jfar2e1xM4qzrKigVxWGow\n",
              "AEwPY2m0l+2mwTZgxQwR1G6mgAAAAFwBnoNqQn8AYfvXeDUN6Pjy7TvoJ27E+2XN24Rpnurx0ia1\n",
              "mNquviRWq8ISAhwLT3v3vU3rG4ydo/o2uet5FCWggBJTx9KRmBCZ2jGgWwRuYaBUtU2KWmYAazQo\n",
              "gQAAAbRBmodJqEFsmUwIb//+p4QA28XJABXEQk0bjUcCBZJvN5MKRpi16NqVnyoNUYIsDmmva9Dh\n",
              "JQur6XMtdvDvhYBwRrwSCiQvLBCqJqtbxzJWNovRuQDQ8JdcYHctA8YFrDj+aQvHGnEfYHDeaxRL\n",
              "KTceqjToqmMRAub08ndPaSpbMYlgI9VwbDv/HFrz/ylmPFuaDBAQV5I1v/xExb0lEitbRlDWCfz0\n",
              "PbKU3RcuBShCHkmyH1NTOfHZB0h0G0y7PrNy1X//vimEcZKxRF2HinLuSPEVng/ysv3FQJ3skc6Q\n",
              "iLumTCsHnMCVNuLB3DfT9Nhy5YO+hJn84uwZXhN/40rTzC0tOaWxeIlof1XeF47I2BZZQo3EAhQw\n",
              "ZIFB6uZvoR7nzzFsbCTgqqUOQR/NEyatwcpPdgO5nd+7Ou91fPWYudTJGYSOR1EGx+yyrgZWZ+Fx\n",
              "XxO7a0sP3k7ksEuwoJL9JO8/648cD2X0QVhfIAmR7Zbgeu98WAV+g0uUmV2IBrvFLZNse9KJjOoy\n",
              "Za0TopGpY+eAfuAGmHtKTsTz0Ahm/1qta/1IVRVD9ZlAhF8H/9swbOBlAAAAeUGepUUVLCv/AJrs\n",
              "UyTOwEb8O4oBs0R6lTteQH8kSnvtzTH269qiaO4fX1nH8TDK6mYRDuNjx2yQ6Qa1iw/+kICv/n3x\n",
              "7KEfWAVH4djPWmcciYMvhMuoAV1ZB0CGDpfVBQLlfjHOXmTO5mQyx5F3Au5Bs6i9kizgE5EAAABX\n",
              "AZ7GakJ/AGR7knl9k/kD9wgvRQN1BCRKd34HMceAggP0xY+ThdKX4ZirMbC20BgvOeinojw/udla\n",
              "SR5+RHkwYsIao/4C1EoAPqpMOrJRZMPygGqVYz+hAAABqEGay0moQWyZTAhv//6nhADbxesABD3l\n",
              "7iCJZJ51Ztl1+F0UJMCU9ClaM6bgCAQ25QkgVnQaEA6dir5kcAKta51M+RnlkQO7zfP45Fzlnx+a\n",
              "jHFnOLbbIDUn65NC65fgkBeXiNmhSqvhXE/7ixdl6b+jkMmgtQ9RrxI8wrCq03jOw8N0NqF1CCRu\n",
              "ft0JKRrLZE8EOPc8zH+usUkTjJAnK7ZLt21xdvNgJMs1OI3bSpsjhKpZc2z1QN73PsR6o/NYyDgu\n",
              "464Sn3eeoK6BUN4mnwvFMpgoHZ3Nk+NfXkqX9oh639B31kjyInDUnCh13epiHFpQ/bn4Rw0X/cxI\n",
              "vpJeCBSPcM2Ottnc273J0+0B6Z96Lh9lLWJ/rQszldFWxfmrsL7lXD9GH2jtqxIG89Gv9OBIt/iv\n",
              "LqitzpH6S30tNTBhAJB0xMNYOzRqG9HHd5Ms2CYCH23lDei5zVnC2AN82RiMouPIztiBMwrmI6ws\n",
              "YHmiEt0JLEbF//K0+QnPumj39sKHgaOs+M/DXLBrIA8DivTd6Ii7nrQKBkxET4O6xFV3XpXRAipj\n",
              "w/gAAACIQZ7pRRUsK/8Ao9HJt4fjj4YiM3jHsDp5sPcXMEMkOlQ2a5hLxPCXmZ//EI+ZzmKeFQCk\n",
              "pkLWoHHeYkBZk8D2w5OkFPrhCs9lPXdFavPVLn1Rkffu9RsXUgaaX4s85ZVwfEq8Snu/aK91b22C\n",
              "JEOSo7b3dpnoAVWPKfUrBalOZMASY/QxDDs/wAAAAFEBnwh0Qn8AYfeHTWLHepMw+wFYboCXKf8Q\n",
              "fjCGskyXKInteWPO/Iad7jv5ofCiSF6AxMCRXxVjTBHqoVH9zVn0RuGpdFSuTmqw2afyyCPDs3EA\n",
              "AABZAZ8KakJ/AGmFsSttGpQ2RrRFVfSLZ/NlMlc5gdoXr1XvbIRmMql8cVf6K/hputYxRb05em/E\n",
              "wAUliBS+33YH9dM19tXV//iAAXQAAAMAAeVNw95q9aQYaeYAAAErQZsPSahBbJlMCGf//p4QA0a2\n",
              "0eob6bUdd888W8oiT4GQ8ssfVYxmC2DJjjWzfuwAOFKdjRPl699MlHZ62cwDOpqMUO8/sPegInJu\n",
              "gSxj1RGyEIVt0s81kmqpqHxwPZ/eDh+4AKhRcdFZDp7aQ8I7qJVO1ylNIazTu81egzyRdHvuk+3J\n",
              "J4CKZtch01shOBhiBPjb0bqCLm3igOE6vPh3YH6Cm/wfSkk3trbbJPed/QrocHQmc2hWYcVSMgHv\n",
              "fOdL9MxS9yZsqnFPFcsEd8rDICgbmXcmIZZY5SBdndgl1/1MG5gncOt5Krg8x4xsDqHiYmcCLiaD\n",
              "If63xvkbdOZTsKqPMECg7yCWVMd+U8plckKeahf/ZHcpd9La9DkK/LDR6RrkjT+AriqZaI0AAACR\n",
              "QZ8tRRUsK/8Ao9H4XjZOGAvLAz9fy97uQaYfOZqQVBOXf0IyVQArsuY4adGdZIDg6Q4MqrQf3bWw\n",
              "WnqqNBFY9LlbIkYZQtACM9/UmRyTrqwLiy7LXgc2LCenfy24dWcf3L6O8oW4/N9eVgAAAwAr9anc\n",
              "eeVGs0rwqi6N520ax3YyKa17n/w/uhI9JElBTK6/hQAAAFoBn0x0Qn8AcTas1opTOHaR5S/4PYSA\n",
              "7wUUxKAIVb4Kex0LtIHmAAnTAAADAD3sVOQCkmi53aTQcc41/NH3O1zVoe5PoeAPr5IPkgpDePUL\n",
              "Iu9PjETIUxMxtUEAAABXAZ9OakJ/AF98pGvMntRvQ0/ApgZU0ngBB1Zh4m5mKcO/dvHJ1RzZ0s4m\n",
              "ZybGPKQRje6uEnRskjPVKyjPJ5gRs4RgeTepl4wvYJAAEt4ai9begygUCCnBAAAA3kGbU0moQWyZ\n",
              "TAhf//6MsANmKuzELH/qYXGXXNv0TX9Lv5PD3AwhY2R0weszf67egKZzEYSuaMNfqchAeJIUU9d3\n",
              "gxEeqjC5yt9+ABL282v8Xu6CwobBt3HxQ5ID7xAMGk3M7TGfzjhUlvxapMp1AcadpEFlXrVo+YeU\n",
              "VF7k6ia9OHR4MO/yWij6SWnLB4WxJzV58FMx+RvcTtttAlWAtyqs7xs74zkQQmuIXyV/FvcDG6bR\n",
              "vpFL3l62b7f3X74xRzunzifbfeSXi5aD1CaxwI67kvhPN3yJ0/EKx3xFpwAAAJdBn3FFFSwr/wCj\n",
              "0gY17AOZ2wbZ5rhexBW6arhrCw2m6C/YPw1l0P0KB700dD0SKROqpuvJSmjvPT1QAlDkAAADAdP6\n",
              "tfPJX09vRLeT3n4ACTL+I5gP1tVvXhU8E9fFUPbKtl8K2ZYj7NR9y0BljNFfN87c8yP+5u7dmp1T\n",
              "Rd6sfgVqCVpLTfB0viqWqDoZX2kXAgEBweHjAAAAUAGfkHRCfwC/TKErQEUD+DLXSjo336uZijIU\n",
              "2hAHsVrfsv/PflBZSlM7V60/Omd4A5VOVsFlR42qIRwGkIhs2JxUHzVvCsQHTg2vquUWGhHBAAAA\n",
              "SwGfkmpCfwBfmez99WsQTmJ8IJwS6SKWzgFCZdZOmD8wtkR+xBFlQiV9Q443YhkFBbxv0JuLcf8a\n",
              "iEhpIo5ugboIRAKxyYF2Ew9iDgAAAJ5Bm5VJqEFsmUwUTCf//fEAHuvj24yRD22DLxe/2KpaoK7o\n",
              "bwpFpnrsaqjpZzoJhOXdmVfYpbIHbnhamRjTxBjn+QSgezjdB6Kkz8rWiStDaJlWdL0aKU2z51ID\n",
              "6xBMhF2vsxFl2mlfcWwtbpZ7fuGqiGa6ut6KFejhIrCkilQAsSDFNUGH3rhcW//5fkW5hBwLpI6C\n",
              "1vFV+9FTloBBwAAAAGMBn7RqQn8AuiK83RJi/IprSmX5S7/4XVj/fhccdLOvIr6d2GAAuBK2+l2V\n",
              "H8nsWexKK6X+r1LSM9FiYZrxHVEU6BURCMmFMJdO7sHm69hx1XmzVEgUMpuK54tNVCvHjWxVV0EA\n",
              "AAombW9vdgAAAGxtdmhkAAAAAAAAAAAAAAAAAAAD6AAAE4gAAQAAAQAAAAAAAAAAAAAAAAEAAAAA\n",
              "AAAAAAAAAAAAAAABAAAAAAAAAAAAAAAAAABAAAAAAAAAAAAAAAAAAAAAAAAAAAAAAAAAAAAAAAAA\n",
              "AgAACVB0cmFrAAAAXHRraGQAAAADAAAAAAAAAAAAAAABAAAAAAAAE4gAAAAAAAAAAAAAAAAAAAAA\n",
              "AAEAAAAAAAAAAAAAAAAAAAABAAAAAAAAAAAAAAAAAABAAAAAAbAAAAEgAAAAAAAkZWR0cwAAABxl\n",
              "bHN0AAAAAAAAAAEAABOIAAAEAAABAAAAAAjIbWRpYQAAACBtZGhkAAAAAAAAAAAAAAAAAAA8AAAB\n",
              "LABVxAAAAAAALWhkbHIAAAAAAAAAAHZpZGUAAAAAAAAAAAAAAABWaWRlb0hhbmRsZXIAAAAIc21p\n",
              "bmYAAAAUdm1oZAAAAAEAAAAAAAAAAAAAACRkaW5mAAAAHGRyZWYAAAAAAAAAAQAAAAx1cmwgAAAA\n",
              "AQAACDNzdGJsAAAAs3N0c2QAAAAAAAAAAQAAAKNhdmMxAAAAAAAAAAEAAAAAAAAAAAAAAAAAAAAA\n",
              "AbABIABIAAAASAAAAAAAAAABAAAAAAAAAAAAAAAAAAAAAAAAAAAAAAAAAAAAAAAAAAAAGP//AAAA\n",
              "MWF2Y0MBZAAV/+EAGGdkABWs2UGwloQAAAMABAAAAwDwPFi2WAEABmjr48siwAAAABx1dWlka2hA\n",
              "8l8kT8W6OaUbzwMj8wAAAAAAAAAYc3R0cwAAAAAAAAABAAAAlgAAAgAAAAAUc3RzcwAAAAAAAAAB\n",
              "AAAAAQAABLBjdHRzAAAAAAAAAJQAAAABAAAEAAAAAAEAAAYAAAAAAQAAAgAAAAABAAAIAAAAAAIA\n",
              "AAIAAAAAAQAABgAAAAABAAACAAAAAAEAAAoAAAAAAQAABAAAAAABAAAAAAAAAAEAAAIAAAAAAQAA\n",
              "CgAAAAABAAAEAAAAAAEAAAAAAAAAAQAAAgAAAAABAAAKAAAAAAEAAAQAAAAAAQAAAAAAAAABAAAC\n",
              "AAAAAAEAAAoAAAAAAQAABAAAAAABAAAAAAAAAAEAAAIAAAAAAQAACgAAAAABAAAEAAAAAAEAAAAA\n",
              "AAAAAQAAAgAAAAABAAAKAAAAAAEAAAQAAAAAAQAAAAAAAAABAAACAAAAAAEAAAoAAAAAAQAABAAA\n",
              "AAABAAAAAAAAAAEAAAIAAAAAAQAACgAAAAABAAAEAAAAAAEAAAAAAAAAAQAAAgAAAAABAAAKAAAA\n",
              "AAEAAAQAAAAAAQAAAAAAAAABAAACAAAAAAEAAAoAAAAAAQAABAAAAAABAAAAAAAAAAEAAAIAAAAA\n",
              "AQAACgAAAAABAAAEAAAAAAEAAAAAAAAAAQAAAgAAAAABAAAKAAAAAAEAAAQAAAAAAQAAAAAAAAAB\n",
              "AAACAAAAAAEAAAoAAAAAAQAABAAAAAABAAAAAAAAAAEAAAIAAAAAAQAACgAAAAABAAAEAAAAAAEA\n",
              "AAAAAAAAAQAAAgAAAAABAAAKAAAAAAEAAAQAAAAAAQAAAAAAAAABAAACAAAAAAEAAAoAAAAAAQAA\n",
              "BAAAAAABAAAAAAAAAAEAAAIAAAAAAQAACgAAAAABAAAEAAAAAAEAAAAAAAAAAQAAAgAAAAABAAAK\n",
              "AAAAAAEAAAQAAAAAAQAAAAAAAAABAAACAAAAAAEAAAoAAAAAAQAABAAAAAABAAAAAAAAAAEAAAIA\n",
              "AAAAAQAACgAAAAABAAAEAAAAAAEAAAAAAAAAAQAAAgAAAAABAAAKAAAAAAEAAAQAAAAAAQAAAAAA\n",
              "AAABAAACAAAAAAEAAAoAAAAAAQAABAAAAAABAAAAAAAAAAEAAAIAAAAAAQAACgAAAAABAAAEAAAA\n",
              "AAEAAAAAAAAAAQAAAgAAAAABAAAEAAAAAAEAAAoAAAAAAQAABAAAAAABAAAAAAAAAAEAAAIAAAAA\n",
              "AQAACgAAAAABAAAEAAAAAAEAAAAAAAAAAQAAAgAAAAABAAAKAAAAAAEAAAQAAAAAAQAAAAAAAAAB\n",
              "AAACAAAAAAEAAAoAAAAAAQAABAAAAAABAAAAAAAAAAEAAAIAAAAAAQAACgAAAAABAAAEAAAAAAEA\n",
              "AAAAAAAAAQAAAgAAAAABAAAKAAAAAAEAAAQAAAAAAQAAAAAAAAABAAACAAAAAAEAAAoAAAAAAQAA\n",
              "BAAAAAABAAAAAAAAAAEAAAIAAAAAAQAACgAAAAABAAAEAAAAAAEAAAAAAAAAAQAAAgAAAAABAAAI\n",
              "AAAAAAIAAAIAAAAAAQAACgAAAAABAAAEAAAAAAEAAAAAAAAAAQAAAgAAAAABAAAKAAAAAAEAAAQA\n",
              "AAAAAQAAAAAAAAABAAACAAAAAAEAAAoAAAAAAQAABAAAAAABAAAAAAAAAAEAAAIAAAAAAQAABgAA\n",
              "AAABAAACAAAAABxzdHNjAAAAAAAAAAEAAAABAAAAlgAAAAEAAAJsc3RzegAAAAAAAAAAAAAAlgAA\n",
              "EaQAAACbAAAAIgAAAIQAAAASAAAAEQAAAJ0AAAAcAAAA8QAAAEAAAAAdAAAAIQAAAQ0AAABHAAAA\n",
              "IwAAACMAAAExAAAAZAAAACoAAAAqAAABLQAAAFoAAAA1AAAAMgAAATUAAABgAAAAMwAAADIAAAE+\n",
              "AAAAWgAAADUAAAA4AAABdQAAAGQAAAA3AAAAOQAAAbMAAABeAAAAOgAAADoAAAGkAAAAZwAAADcA\n",
              "AABJAAABywAAAGcAAABAAAAATAAAAd8AAABwAAAAPwAAADwAAAGlAAAAagAAAEQAAABHAAABjwAA\n",
              "AGcAAABKAAAASgAAAXQAAABjAAAAUAAAAEoAAAHHAAAAaAAAAEYAAABKAAABrwAAAHEAAABNAAAA\n",
              "PgAAAWgAAAB2AAAASAAAAEEAAAG+AAAAdQAAAEsAAABNAAABpgAAAHMAAABMAAAATAAAAbYAAAB7\n",
              "AAAATQAAAF4AAAGbAAAAfgAAAFEAAABRAAABgQAAAIYAAABZAAAAUQAAAZYAAACSAAAAYQAAAFsA\n",
              "AADmAAAB0wAAAIMAAABZAAAAVgAAAawAAAB5AAAAYQAAAF0AAAHtAAAAhAAAAEcAAABEAAACAAAA\n",
              "AIgAAABjAAAAVQAAAbQAAACdAAAARwAAAEkAAAGzAAAAhQAAAFMAAABgAAABqQAAAJcAAABUAAAA\n",
              "ZAAAAW0AAACEAAAAWQAAAGAAAAG4AAAAfQAAAFsAAAGsAAAAjAAAAFUAAABdAAABLwAAAJUAAABe\n",
              "AAAAWwAAAOIAAACbAAAAVAAAAE8AAACiAAAAZwAAABRzdGNvAAAAAAAAAAEAAAAsAAAAYnVkdGEA\n",
              "AABabWV0YQAAAAAAAAAhaGRscgAAAAAAAAAAbWRpcmFwcGwAAAAAAAAAAAAAAAAtaWxzdAAAACWp\n",
              "dG9vAAAAHWRhdGEAAAABAAAAAExhdmY1Ny44My4xMDA=\n",
              "\">\n",
              "  Your browser does not support the video tag.\n",
              "</video>"
            ]
          },
          "metadata": {},
          "execution_count": 44
        }
      ]
    },
    {
      "cell_type": "code",
      "source": [
        "system.get_state_variables()"
      ],
      "metadata": {
        "id": "0DIo5wVZkD8T",
        "colab": {
          "base_uri": "https://localhost:8080/"
        },
        "outputId": "412f9dec-6495-452c-d323-ee1dee48d862"
      },
      "execution_count": null,
      "outputs": [
        {
          "output_type": "execute_result",
          "data": {
            "text/plain": [
              "[qA, qB, qC1, qC2, qD, qA_d, qB_d, qC1_d, qC2_d, qD_d]"
            ]
          },
          "metadata": {},
          "execution_count": 49
        }
      ]
    },
    {
      "cell_type": "markdown",
      "source": [
        "End effector displacement / Torque = End effector output force"
      ],
      "metadata": {
        "id": "DgZ7GEIb84_6"
      }
    }
  ]
}