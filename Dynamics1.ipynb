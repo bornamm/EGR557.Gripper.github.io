{
  "nbformat": 4,
  "nbformat_minor": 0,
  "metadata": {
    "colab": {
      "name": "DynamicsUpdated.ipynb",
      "provenance": [],
      "collapsed_sections": []
    },
    "kernelspec": {
      "name": "python3",
      "display_name": "Python 3"
    },
    "language_info": {
      "name": "python"
    }
  },
  "cells": [
    {
      "cell_type": "code",
      "execution_count": null,
      "metadata": {
        "colab": {
          "base_uri": "https://localhost:8080/"
        },
        "id": "FMTq-yf0pRmR",
        "outputId": "25b2c013-0548-47c8-cc4c-c8d0d983f87b"
      },
      "outputs": [
        {
          "output_type": "stream",
          "name": "stdout",
          "text": [
            "Collecting pynamics\n",
            "  Downloading pynamics-0.2.0-py2.py3-none-any.whl (87 kB)\n",
            "\u001b[?25l\r\u001b[K     |███▊                            | 10 kB 16.1 MB/s eta 0:00:01\r\u001b[K     |███████▌                        | 20 kB 12.8 MB/s eta 0:00:01\r\u001b[K     |███████████▏                    | 30 kB 6.4 MB/s eta 0:00:01\r\u001b[K     |███████████████                 | 40 kB 5.7 MB/s eta 0:00:01\r\u001b[K     |██████████████████▋             | 51 kB 2.9 MB/s eta 0:00:01\r\u001b[K     |██████████████████████▍         | 61 kB 3.4 MB/s eta 0:00:01\r\u001b[K     |██████████████████████████      | 71 kB 3.9 MB/s eta 0:00:01\r\u001b[K     |█████████████████████████████▉  | 81 kB 4.4 MB/s eta 0:00:01\r\u001b[K     |████████████████████████████████| 87 kB 2.7 MB/s \n",
            "\u001b[?25hRequirement already satisfied: scipy in /usr/local/lib/python3.7/dist-packages (from pynamics) (1.4.1)\n",
            "Requirement already satisfied: sympy in /usr/local/lib/python3.7/dist-packages (from pynamics) (1.7.1)\n",
            "Requirement already satisfied: matplotlib in /usr/local/lib/python3.7/dist-packages (from pynamics) (3.2.2)\n",
            "Requirement already satisfied: numpy in /usr/local/lib/python3.7/dist-packages (from pynamics) (1.21.5)\n",
            "Requirement already satisfied: pyparsing!=2.0.4,!=2.1.2,!=2.1.6,>=2.0.1 in /usr/local/lib/python3.7/dist-packages (from matplotlib->pynamics) (3.0.7)\n",
            "Requirement already satisfied: kiwisolver>=1.0.1 in /usr/local/lib/python3.7/dist-packages (from matplotlib->pynamics) (1.4.0)\n",
            "Requirement already satisfied: cycler>=0.10 in /usr/local/lib/python3.7/dist-packages (from matplotlib->pynamics) (0.11.0)\n",
            "Requirement already satisfied: python-dateutil>=2.1 in /usr/local/lib/python3.7/dist-packages (from matplotlib->pynamics) (2.8.2)\n",
            "Requirement already satisfied: typing-extensions in /usr/local/lib/python3.7/dist-packages (from kiwisolver>=1.0.1->matplotlib->pynamics) (3.10.0.2)\n",
            "Requirement already satisfied: six>=1.5 in /usr/local/lib/python3.7/dist-packages (from python-dateutil>=2.1->matplotlib->pynamics) (1.15.0)\n",
            "Requirement already satisfied: mpmath>=0.19 in /usr/local/lib/python3.7/dist-packages (from sympy->pynamics) (1.2.1)\n",
            "Installing collected packages: pynamics\n",
            "Successfully installed pynamics-0.2.0\n"
          ]
        }
      ],
      "source": [
        "pip install pynamics"
      ]
    },
    {
      "cell_type": "code",
      "source": [
        "pip install idealab_tools"
      ],
      "metadata": {
        "colab": {
          "base_uri": "https://localhost:8080/"
        },
        "id": "5ncnuGPQpUVT",
        "outputId": "ab213f95-7ba7-47a7-b9dd-621aea28e0f0"
      },
      "execution_count": null,
      "outputs": [
        {
          "output_type": "stream",
          "name": "stdout",
          "text": [
            "Collecting idealab_tools\n",
            "  Downloading idealab_tools-0.0.24-py2.py3-none-any.whl (28 kB)\n",
            "Requirement already satisfied: imageio in /usr/local/lib/python3.7/dist-packages (from idealab_tools) (2.4.1)\n",
            "Requirement already satisfied: numpy in /usr/local/lib/python3.7/dist-packages (from imageio->idealab_tools) (1.21.5)\n",
            "Requirement already satisfied: pillow in /usr/local/lib/python3.7/dist-packages (from imageio->idealab_tools) (7.1.2)\n",
            "Installing collected packages: idealab-tools\n",
            "Successfully installed idealab-tools-0.0.24\n"
          ]
        }
      ]
    },
    {
      "cell_type": "code",
      "source": [
        "%matplotlib inline"
      ],
      "metadata": {
        "id": "7PUJhCWapbVb"
      },
      "execution_count": null,
      "outputs": []
    },
    {
      "cell_type": "code",
      "source": [
        "use_constraints = True"
      ],
      "metadata": {
        "id": "v8saEZH4vNez"
      },
      "execution_count": null,
      "outputs": []
    },
    {
      "cell_type": "code",
      "source": [
        "import pynamics\n",
        "from pynamics.frame import Frame\n",
        "import idealab_tools.units\n",
        "from pynamics.variable_types import Differentiable,Constant\n",
        "from pynamics.system import System\n",
        "from pynamics.body import Body\n",
        "from pynamics.dyadic import Dyadic\n",
        "from pynamics.output import Output,PointsOutput\n",
        "from pynamics.particle import Particle\n",
        "import pynamics.integration\n",
        "from pynamics.constraint import KinematicConstraint,AccelerationConstraint"
      ],
      "metadata": {
        "id": "OGg8jgyCpbxU"
      },
      "execution_count": null,
      "outputs": []
    },
    {
      "cell_type": "code",
      "source": [
        "import sympy\n",
        "import numpy\n",
        "import matplotlib.pyplot as plt\n",
        "plt.ion()\n",
        "from math import pi\n",
        "system = System()\n",
        "pynamics.set_system(__name__,system)"
      ],
      "metadata": {
        "id": "g8vkSwHzpfV7"
      },
      "execution_count": null,
      "outputs": []
    },
    {
      "cell_type": "code",
      "source": [
        "idealab_tools.units.Unit.set_scaling(meter=1)"
      ],
      "metadata": {
        "id": "z4Dh73j5ph1_"
      },
      "execution_count": null,
      "outputs": []
    },
    {
      "cell_type": "code",
      "source": [
        "lA = Constant(4.5*idealab_tools.units.length,'lA',system)\n",
        "lB = Constant(9*idealab_tools.units.length,'lB',system)\n",
        "lC = Constant(7*idealab_tools.units.length,'lC',system)\n",
        "lD = Constant(13*idealab_tools.units.length,'lD',system)\n",
        "\n",
        "m = Constant(1*idealab_tools.units.mass,'m',system)\n",
        "\n",
        "g = Constant(9.81*idealab_tools.units.acceleration,'g',system)\n",
        "b = Constant(1e1,'b',system) #dampening coefficient\n",
        "k = Constant(1e2,'k',system) \n",
        "\n",
        "preload1 = Constant(-135*pi/180,'preload1',system)\n",
        "preload2 = Constant(50*pi/180,'preload2',system)\n",
        "preload3 = Constant(15*pi/180,'preload3',system)\n",
        "preload4 = Constant(-90*pi/180,'preload4',system)\n",
        "\n",
        "Ixx_A = Constant(1*idealab_tools.units.inertia,'Ixx_A',system)\n",
        "Iyy_A = Constant(1*idealab_tools.units.inertia,'Iyy_A',system)\n",
        "Izz_A = Constant(1*idealab_tools.units.inertia,'Izz_A',system)\n",
        "Ixx_B = Constant(1*idealab_tools.units.inertia,'Ixx_B',system)\n",
        "Iyy_B = Constant(1*idealab_tools.units.inertia,'Iyy_B',system)\n",
        "Izz_B = Constant(1*idealab_tools.units.inertia,'Izz_B',system)\n",
        "Ixx_C = Constant(1*idealab_tools.units.inertia,'Ixx_C',system)\n",
        "Iyy_C = Constant(1*idealab_tools.units.inertia,'Iyy_C',system)\n",
        "Izz_C = Constant(1*idealab_tools.units.inertia,'Izz_C',system)\n",
        "Ixx_D = Constant(1*idealab_tools.units.inertia,'Ixx_D',system)\n",
        "Iyy_D = Constant(1*idealab_tools.units.inertia,'Iyy_D',system)\n",
        "Izz_D = Constant(1*idealab_tools.units.inertia,'Izz_D',system)\n",
        "\n",
        "torque = Constant(4e2,'torque',system)\n",
        "freq = Constant(1e0,'freq',system)"
      ],
      "metadata": {
        "id": "ZWssIy2rpjMP"
      },
      "execution_count": null,
      "outputs": []
    },
    {
      "cell_type": "code",
      "source": [
        "qA,qA_d,qA_dd = Differentiable('qA',system)\n",
        "qB,qB_d,qB_dd = Differentiable('qB',system)\n",
        "qC,qC_d,qC_dd = Differentiable('qC',system)\n",
        "qD,qD_d,qD_dd = Differentiable('qD',system)"
      ],
      "metadata": {
        "id": "tXJXVNvtpksK"
      },
      "execution_count": null,
      "outputs": []
    },
    {
      "cell_type": "code",
      "source": [
        "initialvalues = {}\n",
        "initialvalues[qA]=-135*pi/180*idealab_tools.units.radian\n",
        "initialvalues[qA_d]=0*pi/180*idealab_tools.units.rotational_speed\n",
        "initialvalues[qB]=50*pi/180*idealab_tools.units.radian\n",
        "initialvalues[qB_d]=0*pi/180*idealab_tools.units.rotational_speed\n",
        "initialvalues[qC]=15*pi/180*idealab_tools.units.radian\n",
        "initialvalues[qC_d]=0*pi/180*idealab_tools.units.rotational_speed\n",
        "initialvalues[qD]=-90*pi/180*idealab_tools.units.radian\n",
        "initialvalues[qD_d]=0*pi/180*idealab_tools.units.rotational_speed"
      ],
      "metadata": {
        "id": "ZfQIX77mprb0"
      },
      "execution_count": null,
      "outputs": []
    },
    {
      "cell_type": "code",
      "source": [
        "statevariables = system.get_state_variables()"
      ],
      "metadata": {
        "id": "kMGRNNbtps7t"
      },
      "execution_count": null,
      "outputs": []
    },
    {
      "cell_type": "code",
      "source": [
        "N = Frame('N',system)\n",
        "A = Frame('A',system)\n",
        "B = Frame('B',system)\n",
        "C = Frame('C',system)\n",
        "D = Frame('D',system)"
      ],
      "metadata": {
        "id": "A7kdpzXhpuQA"
      },
      "execution_count": null,
      "outputs": []
    },
    {
      "cell_type": "code",
      "source": [
        "system.set_newtonian(N)"
      ],
      "metadata": {
        "id": "Zd_ydl7wpveV"
      },
      "execution_count": null,
      "outputs": []
    },
    {
      "cell_type": "code",
      "source": [
        "A.rotate_fixed_axis(N,[0,0,1],qA,system)\n",
        "B.rotate_fixed_axis(A,[0,0,1],qB,system)\n",
        "C.rotate_fixed_axis(N,[0,0,1],qC,system)\n",
        "D.rotate_fixed_axis(C,[0,0,1],qD,system)"
      ],
      "metadata": {
        "id": "bTixo2UVpwrm"
      },
      "execution_count": null,
      "outputs": []
    },
    {
      "cell_type": "code",
      "source": [
        "pNA = 0*N.x\n",
        "pAB = pNA + lA*A.x\n",
        "pBD = pAB + lB*B.x\n",
        "pCD = pNA + lC*C.x\n",
        "#pCtip = pBD + lC*C.x\n",
        "pDB = pCD + lD*D.x\n",
        "#eq = [lA*A.x + lB*B.x - lC*C.x - lD*D.x]"
      ],
      "metadata": {
        "id": "GBoTehp2pyHZ"
      },
      "execution_count": null,
      "outputs": []
    },
    {
      "cell_type": "code",
      "source": [
        "points = [pBD,pAB,pNA,pCD,pDB]"
      ],
      "metadata": {
        "id": "Lotehy81p5jj"
      },
      "execution_count": null,
      "outputs": []
    },
    {
      "cell_type": "code",
      "source": [
        "statevariables = system.get_state_variables()\n",
        "ini0 = [initialvalues[item] for item in statevariables]"
      ],
      "metadata": {
        "id": "CLavBO-Fp7Fg"
      },
      "execution_count": null,
      "outputs": []
    },
    {
      "cell_type": "code",
      "source": [
        "eq = []\n",
        "#eq.append(pBD-pCD)\n",
        "eq.append(pBD-pDB)\n",
        "\n",
        "print(pNA - pAB)\n",
        "print(pNA - pBD)\n",
        "print(pNA - pCD)\n",
        "print(pNA - pDB)\n",
        "\n",
        "print(pAB - pBD)\n",
        "print(pAB - pCD)\n",
        "print(pAB - pDB)\n",
        "\n",
        "print(pBD - pCD)\n",
        "print(pBD - pDB)\n",
        "\n",
        "print(pCD - pDB)\n",
        "print(pDB - pAB)\n",
        "\n",
        "\n",
        "\n"
      ],
      "metadata": {
        "colab": {
          "base_uri": "https://localhost:8080/"
        },
        "id": "8tN6ulpcp8Xt",
        "outputId": "ce0bd076-d1b4-4c6d-fca3-794cbeee2aeb"
      },
      "execution_count": null,
      "outputs": [
        {
          "output_type": "stream",
          "name": "stdout",
          "text": [
            "-lA*A.x\n",
            "-lA*A.x - lB*B.x\n",
            "-lC*C.x\n",
            "-lC*C.x - lD*D.x\n",
            "-lB*B.x\n",
            "lA*A.x - lC*C.x\n",
            "lA*A.x - lC*C.x - lD*D.x\n",
            "lA*A.x + lB*B.x - lC*C.x\n",
            "lA*A.x + lB*B.x - lC*C.x - lD*D.x\n",
            "-lD*D.x\n",
            "-lA*A.x + lC*C.x + lD*D.x\n"
          ]
        }
      ]
    },
    {
      "cell_type": "code",
      "source": [
        "eq_scalar = []\n",
        "eq_scalar.append(eq[0].dot(N.x))\n",
        "eq_scalar.append(eq[0].dot(N.y))\n",
        "#eq_scalar.append(eq[0].dot(C.x))\n",
        "#eq_scalar.append(eq[0].dot(C.y))"
      ],
      "metadata": {
        "id": "l7VqAKRcp9w1"
      },
      "execution_count": null,
      "outputs": []
    },
    {
      "cell_type": "code",
      "source": [
        "c=KinematicConstraint(eq_scalar)"
      ],
      "metadata": {
        "id": "JFiHYqHbp-9A"
      },
      "execution_count": null,
      "outputs": []
    },
    {
      "cell_type": "code",
      "source": [
        "#variables = [qB,qD]\n",
        "variables = [qA,qB,qC,qD]"
      ],
      "metadata": {
        "id": "MbWfJ3i7qAa5"
      },
      "execution_count": null,
      "outputs": []
    },
    {
      "cell_type": "code",
      "source": [
        "constant_states = list(set(system.get_q(0))-set(variables))"
      ],
      "metadata": {
        "id": "xtVtKsJ3qB2W"
      },
      "execution_count": null,
      "outputs": []
    },
    {
      "cell_type": "code",
      "source": [
        "constants = system.constant_values.copy()"
      ],
      "metadata": {
        "id": "linYDMBdqDJi"
      },
      "execution_count": null,
      "outputs": []
    },
    {
      "cell_type": "code",
      "source": [
        "for key in constant_states:\n",
        "    constants[key] = initialvalues[key] "
      ],
      "metadata": {
        "id": "qGt5_CZeqEMN"
      },
      "execution_count": null,
      "outputs": []
    },
    {
      "cell_type": "code",
      "source": [
        "guess = [initialvalues[item] for item in variables]"
      ],
      "metadata": {
        "id": "wOlwAM2CqFZG"
      },
      "execution_count": null,
      "outputs": []
    },
    {
      "cell_type": "code",
      "source": [
        "result = c.solve_numeric(variables,guess,constants)\n"
      ],
      "metadata": {
        "id": "VbxCXP1fqGzE"
      },
      "execution_count": null,
      "outputs": []
    },
    {
      "cell_type": "code",
      "source": [
        "ini = []\n",
        "for item in system.get_state_variables():\n",
        "    if item in variables:\n",
        "        ini.append(result[item])\n",
        "    else:\n",
        "        ini.append(initialvalues[item])"
      ],
      "metadata": {
        "id": "gwlecPWbqH_s"
      },
      "execution_count": null,
      "outputs": []
    },
    {
      "cell_type": "code",
      "source": [
        "points = PointsOutput(points, constant_values=system.constant_values)\n",
        "points.calc(numpy.array([ini0,ini]),[0,1])\n",
        "points.plot_time()"
      ],
      "metadata": {
        "colab": {
          "base_uri": "https://localhost:8080/",
          "height": 317
        },
        "id": "eJi8oMXEqKLE",
        "outputId": "70ffb750-40c1-4f3b-aa83-ed095308e69d"
      },
      "execution_count": null,
      "outputs": [
        {
          "output_type": "stream",
          "name": "stderr",
          "text": [
            "2022-04-07 06:32:05,937 - pynamics.output - INFO - calculating outputs\n",
            "2022-04-07 06:32:05,940 - pynamics.output - INFO - done calculating outputs\n"
          ]
        },
        {
          "output_type": "execute_result",
          "data": {
            "text/plain": [
              "<matplotlib.axes._subplots.AxesSubplot at 0x7f4dfe037450>"
            ]
          },
          "metadata": {},
          "execution_count": 30
        },
        {
          "output_type": "display_data",
          "data": {
            "text/plain": [
              "<Figure size 432x288 with 1 Axes>"
            ],
            "image/png": "[encoded data removed]"
          },
          "metadata": {
            "needs_background": "light"
          }
        }
      ]
    },
    {
      "cell_type": "code",
      "source": [
        "pAcm=pNA+lA/2*A.x\n",
        "pBcm=pAB+lB/2*B.x\n",
        "pCcm=pNA+lC/2*C.x\n",
        "pDcm=pCD+lD/2*D.x"
      ],
      "metadata": {
        "id": "F9x-iXf6qLe8"
      },
      "execution_count": null,
      "outputs": []
    },
    {
      "cell_type": "code",
      "source": [
        "wNA = N.get_w_to(A)\n",
        "wAB = A.get_w_to(B)\n",
        "wBC = B.get_w_to(C)\n",
        "wND = N.get_w_to(D)"
      ],
      "metadata": {
        "id": "K8ZrSxSDqNEG"
      },
      "execution_count": null,
      "outputs": []
    },
    {
      "cell_type": "code",
      "source": [
        "IA = Dyadic.build(A,Ixx_A,Iyy_A,Izz_A)\n",
        "IB = Dyadic.build(B,Ixx_B,Iyy_B,Izz_B)\n",
        "IC = Dyadic.build(C,Ixx_C,Iyy_C,Izz_C)\n",
        "ID = Dyadic.build(D,Ixx_D,Iyy_D,Izz_D)\n",
        "\n",
        "BodyA = Body('BodyA',A,pAcm,m,IA,system)\n",
        "BodyB = Body('BodyB',B,pBcm,m,IB,system)\n",
        "BodyC = Body('BodyC',C,pCcm,m,IC,system)\n",
        "BodyD = Body('BodyD',D,pDcm,m,ID,system)"
      ],
      "metadata": {
        "id": "GKWuRkrIqVif"
      },
      "execution_count": null,
      "outputs": []
    },
    {
      "cell_type": "code",
      "source": [
        "system.addforce(torque*sympy.sin(freq*2*sympy.pi*system.t)*A.z,wNA)\n",
        "\n",
        "#Damper\n",
        "system.addforce(-b*wNA,wNA)\n",
        "system.addforce(-b*wAB,wAB)\n",
        "system.addforce(-b*wBC,wBC)"
      ],
      "metadata": {
        "colab": {
          "base_uri": "https://localhost:8080/"
        },
        "id": "OjwtpRkXuLrs",
        "outputId": "4b52bfff-1c76-48f1-8d6a-f4699c5e87a7"
      },
      "execution_count": null,
      "outputs": [
        {
          "output_type": "execute_result",
          "data": {
            "text/plain": [
              "<pynamics.force.Force at 0x7f4e08cad810>"
            ]
          },
          "metadata": {},
          "execution_count": 34
        }
      ]
    },
    {
      "cell_type": "code",
      "source": [
        "#Spring forces are a special case because the energy stored in springs is conservative and should be considered when calculating the system’s potential energy.\n",
        "#To do this, use the add_spring_force command. In this method, the first value is the linear spring constant.\n",
        "#The second value is the “stretch” vector, indicating the amount of deflection from the neutral point of the spring\n",
        "#The final parameter is, as above, the linear or angluar velocity vector (depending on whether your spring is a linear or torsional spring)\n",
        "#In this case, the torques applied to each joint are dependent upon whether qA, qB, and qC are absolute or relative rotations, as defined above.\n",
        "system.add_spring_force1(k,(qA-preload1)*N.z,wNA) \n",
        "system.add_spring_force1(k,(qB-preload2)*A.z,wAB)\n",
        "system.add_spring_force1(k,(qC-preload3)*B.z,wBC)"
      ],
      "metadata": {
        "colab": {
          "base_uri": "https://localhost:8080/"
        },
        "id": "tdjG5O7KuNa3",
        "outputId": "b1160607-d8a6-43a5-830c-450761d86f81"
      },
      "execution_count": null,
      "outputs": [
        {
          "output_type": "execute_result",
          "data": {
            "text/plain": [
              "(<pynamics.force.Force at 0x7f4dfda9e5d0>,\n",
              " <pynamics.spring.Spring at 0x7f4dfda9e6d0>)"
            ]
          },
          "metadata": {},
          "execution_count": 35
        }
      ]
    },
    {
      "cell_type": "code",
      "source": [
        "system.addforcegravity(-g*N.y)"
      ],
      "metadata": {
        "id": "PKEOgeDRqZ9b"
      },
      "execution_count": null,
      "outputs": []
    },
    {
      "cell_type": "code",
      "source": [
        "eq_d = [item.time_derivative() for item in eq]\n",
        "eq_dd = [item.time_derivative() for item in eq_d]\n",
        "eq_dd_scalar = []\n",
        "eq_dd_scalar.append(eq_dd[0].dot(N.x))\n",
        "eq_dd_scalar.append(eq_dd[0].dot(N.y))"
      ],
      "metadata": {
        "id": "HFmjocZvqbv1"
      },
      "execution_count": null,
      "outputs": []
    },
    {
      "cell_type": "code",
      "source": [
        "system.add_constraint(AccelerationConstraint(eq_dd_scalar))"
      ],
      "metadata": {
        "id": "44v6YJSSqdR4"
      },
      "execution_count": null,
      "outputs": []
    },
    {
      "cell_type": "code",
      "source": [
        "f,ma = system.getdynamics()\n",
        "func1 = system.state_space_post_invert(f,ma)"
      ],
      "metadata": {
        "colab": {
          "base_uri": "https://localhost:8080/"
        },
        "id": "8DYh_3z0qetx",
        "outputId": "a36c1b62-6a54-4a9c-bbbc-2f187c2cd8c3"
      },
      "execution_count": null,
      "outputs": [
        {
          "output_type": "stream",
          "name": "stderr",
          "text": [
            "2022-04-07 06:32:06,743 - pynamics.system - INFO - getting dynamic equations\n",
            "2022-04-07 06:32:07,144 - pynamics.system - INFO - solving a = f/m and creating function\n",
            "2022-04-07 06:32:07,392 - pynamics.system - INFO - substituting constrained in Ma-f.\n",
            "2022-04-07 06:32:07,627 - pynamics.system - INFO - done solving a = f/m and creating function\n"
          ]
        }
      ]
    },
    {
      "cell_type": "code",
      "source": [
        "fps = 30/(1*idealab_tools.units.time)\n",
        "tinitial = 0*idealab_tools.units.time\n",
        "tfinal = 5*idealab_tools.units.time\n",
        "tstep = 1/fps\n",
        "t = numpy.r_[tinitial:tfinal:tstep]\n",
        "tolerance = 1e-12"
      ],
      "metadata": {
        "id": "PChsPSpqqf_g"
      },
      "execution_count": null,
      "outputs": []
    },
    {
      "cell_type": "code",
      "source": [
        "states=pynamics.integration.integrate_odeint(func1,ini,t,rtol=tolerance,atol=tolerance,args=({'constants':system.constant_values},))"
      ],
      "metadata": {
        "colab": {
          "base_uri": "https://localhost:8080/"
        },
        "id": "V9uTI0UOqiIJ",
        "outputId": "8d037014-6fcb-454b-d030-7fd52bfce694"
      },
      "execution_count": null,
      "outputs": [
        {
          "output_type": "stream",
          "name": "stderr",
          "text": [
            "2022-04-07 06:32:07,670 - pynamics.integration - INFO - beginning integration\n",
            "2022-04-07 06:32:07,672 - pynamics.system - INFO - integration at time 0000.00\n",
            "2022-04-07 06:32:08,133 - pynamics.system - INFO - integration at time 0001.00\n",
            "2022-04-07 06:32:08,649 - pynamics.system - INFO - integration at time 0002.75\n",
            "2022-04-07 06:32:09,521 - pynamics.system - INFO - integration at time 0004.35\n",
            "2022-04-07 06:32:10,198 - pynamics.integration - INFO - finished integration\n"
          ]
        }
      ]
    },
    {
      "cell_type": "code",
      "source": [
        "KE = system.get_KE()\n",
        "PE = system.getPEGravity(pNA) - system.getPESprings()"
      ],
      "metadata": {
        "id": "Um-_uqCbqjrr"
      },
      "execution_count": null,
      "outputs": []
    },
    {
      "cell_type": "code",
      "source": [
        "points.calc(states,t)\n",
        "points.plot_time()"
      ],
      "metadata": {
        "colab": {
          "base_uri": "https://localhost:8080/",
          "height": 317
        },
        "id": "8xFLpYswqlgP",
        "outputId": "1edfd1d3-d6b1-4654-d824-46a682252b58"
      },
      "execution_count": null,
      "outputs": [
        {
          "output_type": "stream",
          "name": "stderr",
          "text": [
            "2022-04-07 06:32:10,286 - pynamics.output - INFO - calculating outputs\n",
            "2022-04-07 06:32:10,304 - pynamics.output - INFO - done calculating outputs\n"
          ]
        },
        {
          "output_type": "execute_result",
          "data": {
            "text/plain": [
              "<matplotlib.axes._subplots.AxesSubplot at 0x7f4dfcee0b10>"
            ]
          },
          "metadata": {},
          "execution_count": 43
        },
        {
          "output_type": "display_data",
          "data": {
            "text/plain": [
              "<Figure size 432x288 with 1 Axes>"
            ],
            "image/png": "[encoded data removed]"
          },
          "metadata": {
            "needs_background": "light"
          }
        }
      ]
    },
    {
      "cell_type": "code",
      "source": [
        "points.animate(fps = fps,movie_name = 'four_bar.mp4',lw=2)"
      ],
      "metadata": {
        "colab": {
          "base_uri": "https://localhost:8080/",
          "height": 282
        },
        "id": "mq0AjrAaqmrt",
        "outputId": "b0dea7fb-d83b-48a8-80cc-4947bdd626b4"
      },
      "execution_count": null,
      "outputs": [
        {
          "output_type": "execute_result",
          "data": {
            "text/plain": [
              "<matplotlib.axes._subplots.AxesSubplot at 0x7f4dfac7d3d0>"
            ]
          },
          "metadata": {},
          "execution_count": 44
        },
        {
          "output_type": "display_data",
          "data": {
            "text/plain": [
              "<Figure size 432x288 with 1 Axes>"
            ],
            "image/png": "[encoded data removed]"
          },
          "metadata": {
            "needs_background": "light"
          }
        }
      ]
    },
    {
      "cell_type": "code",
      "source": [
        "from matplotlib import animation, rc\n",
        "from IPython.display import HTML\n",
        "HTML(points.anim.to_html5_video())"
      ],
      "metadata": {
        "colab": {
          "base_uri": "https://localhost:8080/",
          "height": 309
        },
        "id": "Tiymk8Xwqovx",
        "outputId": "25d5b8d4-9dfb-464e-a07a-287023823993"
      },
      "execution_count": null,
      "outputs": [
        {
          "output_type": "execute_result",
          "data": {
            "text/plain": [
              "<IPython.core.display.HTML object>"
            ],
            "text/html": [
              "<video width=\"432\" height=\"288\" controls autoplay loop>\n",
              "  <source type=\"video/mp4\" src=\"data:video/mp4;base64,AAAAHGZ0eXBNNFYgAAACAGlzb21pc28yYXZjMQAAAAhmcmVlAADz1G1kYXQAAAKuBgX//6rcRem9\n",
              "5tlIt5Ys2CDZI+7veDI2NCAtIGNvcmUgMTUyIHIyODU0IGU5YTU5MDMgLSBILjI2NC9NUEVHLTQg\n",
              "QVZDIGNvZGVjIC0gQ29weWxlZnQgMjAwMy0yMDE3IC0gaHR0cDovL3d3dy52aWRlb2xhbi5vcmcv\n",
              "eDI2NC5odG1sIC0gb3B0aW9uczogY2FiYWM9MSByZWY9MyBkZWJsb2NrPTE6MDowIGFuYWx5c2U9\n",
              "MHgzOjB4MTEzIG1lPWhleCBzdWJtZT03IHBzeT0xIHBzeV9yZD0xLjAwOjAuMDAgbWl4ZWRfcmVm\n",
              "PTEgbWVfcmFuZ2U9MTYgY2hyb21hX21lPTEgdHJlbGxpcz0xIDh4OGRjdD0xIGNxbT0wIGRlYWR6\n",
              "b25lPTIxLDExIGZhc3RfcHNraXA9MSBjaHJvbWFfcXBfb2Zmc2V0PS0yIHRocmVhZHM9MyBsb29r\n",
              "YWhlYWRfdGhyZWFkcz0xIHNsaWNlZF90aHJlYWRzPTAgbnI9MCBkZWNpbWF0ZT0xIGludGVybGFj\n",
              "ZWQ9MCBibHVyYXlfY29tcGF0PTAgY29uc3RyYWluZWRfaW50cmE9MCBiZnJhbWVzPTMgYl9weXJh\n",
              "bWlkPTIgYl9hZGFwdD0xIGJfYmlhcz0wIGRpcmVjdD0xIHdlaWdodGI9MSBvcGVuX2dvcD0wIHdl\n",
              "aWdodHA9MiBrZXlpbnQ9MjUwIGtleWludF9taW49MjUgc2NlbmVjdXQ9NDAgaW50cmFfcmVmcmVz\n",
              "aD0wIHJjX2xvb2thaGVhZD00MCByYz1jcmYgbWJ0cmVlPTEgY3JmPTIzLjAgcWNvbXA9MC42MCBx\n",
              "cG1pbj0wIHFwbWF4PTY5IHFwc3RlcD00IGlwX3JhdGlvPTEuNDAgYXE9MToxLjAwAIAAAA0DZYiE\n",
              "ADf//vbw/gU2O5jQlxHN6J0zH78VuLo0N73OAAADAAA33OZE/sqTBubAAALgmN07/KKf5gGA3v8i\n",
              "sovGByrzO0VVcqOkI7i0bkbr+VKApDQtY6gaG3hrtn9GZVJGN45FhMSf8NULR5FVxnlo0uNlk8Ot\n",
              "OMqS46Kji+y4zsueGjnFkCKRK9mtxmTHl58wdtgj4Fz4Jtkdfs7qZzvRsI7uckgTK1rySwVsJf0L\n",
              "22gwyEcf8K316BHlp/hTiRSezmCYxxIAp13ZQGhs5qn9YRQAaIE9L76+2OpSEwaQq91xA1x5b0/g\n",
              "Vfhe/mwJAXX9nz5Q6QdWrWI0sfoQmWXmHhAHc6CBe4m7u1I76T/CybdVbfRZrhx8bXHneEd6vV57\n",
              "K4XDlup7/PPFqTktj3kFkyu76ESImVYp9xtixv4UaM/I3VD8k5rKS32lLpgvayyS+5VGAViMT7s4\n",
              "Gwrz7tklAV7zzWCijkexdCY6RrPsT7JS41NmfK0kO22aXRqhjNYMWIWLgqQiO5eRR3a16yhLvGE6\n",
              "tQVhD7vjpH7U4QBoO5U22u/2nilamY4Si6LuuGGCk6b2grcKIhgz2LYZGMGn0o3K0doQ1ZYvqxbT\n",
              "ZZuT4IzQBnhjb2y8n43rvRHtGgo/UR0oEJvVu0mg9NBghiPGvq1hIfZlXxA7yMWfR5hRrX4QpR5k\n",
              "/JsSgvYBdayB6tYqUFIMKoZRyJhJhI8CTlUUCghEQ+6ZcMubgapjzRXCunYtWrIi6yS1qg0l6hw2\n",
              "uuxLxo1RAyGfRy0IlP62RPNjQ90RsSwM0uAzVmZyJlsKobTQ/D2qiIdcq3efP43XZUMR3awGhwD3\n",
              "wI2YzGqgaGGx5zsujnJMjTxvWBQk7J1HuWEIZcoA0LlFAqcHo1EthVAVeSBWvQpoU2zraga29wBb\n",
              "NW2XoxSmUocAoXVZkjc77udbT5HHTpmUoVPmZrKRDbk6wNbhahHJNJbMe+cQOtma04CEsNSG0I6N\n",
              "mPUenWkW0NzfAqias/pa3YLfHDfFex8YyF4lIW9d4w7lqZxfKDRjMs85uBL6EKfc0Iof61RrdbDn\n",
              "4PgQr78SZIpi8myp3Y3F0H9C66dzDjIHBQnDy3VpPscLYA7MJ2mzfu6O3v88+lYepiLMrpnH9Mie\n",
              "dxQpbuCSR50sZYnOxl0Uo0Pxg3xJG/SR2tXAVlIafH/sXZ1iRfmDcu6autADp13OXfu9rdyLOPuZ\n",
              "UAAy6OdijT7h1sPAoC3rwSXcneZRUffinoZVyhnHGWQw1WxX+GFkCObJNU1glwq9p/+7ufyKVRTU\n",
              "vsx7uOedrNPXfackczU+bXnp519txqOd9gAa+1H027AI9I6uKIxxWrjaw8wSdQyy6U3UEWT9Wd/n\n",
              "6Rcl7JvHOaQ3iA7ZI+/WhRjGHNQVhDLIiIAAj16oaq6NEu5opzlTJgzYy1igvrv4RJA/zbnX2CMa\n",
              "YD3bs0I/+5PXd/KlH1+fBCX3exusy3zkObXMYsymq6mHfG7j1WI8AJB3FLxsx3iR6rYjeVXOHFq4\n",
              "PLqGMlwCnXrJa0lGWhOpF9QPL2+97WweLya1tC80W1fG8dDDa4X0B8NlJy4x50SqSSNK9wtuWSlN\n",
              "+nq+claoaORehJ7IU3ScE68XXFnlKj64Of1HzBHzElVVqwoJXDkVxDbE+0tGqT49ZFXT7s+4XDpN\n",
              "RCALJfr6yfh0dXAlUddJ7jlvxEQ1UepMnnCQRoAufDiZfZLHqmv0S/VWAsv9nW8Nomwcb2GxnDro\n",
              "cT0Zl3dObAysl+G3by1LQ0heI2BGyeezUEiOgTFItk5rive9C4fGPP7k1yntknKUe9Mr6mfR09E8\n",
              "57gBYybSb6UFcDZE0D+sUPq7j0+4o79oDP4TcAJ2s22VsFdEhNvekDp7Eh+vg+P4BnaxHZN/ijZ1\n",
              "bB9GWzEbA31s6HVay3dtArSv/XjP34C5NpvHh4nUZZ4ZxOIJ/N1xS2cPaN+xxxlyWBnO3g+cnavy\n",
              "MFwsWDcmfU7Q6WkiZTLzPfFTCcpqESpa7eT/xqKb+tdus8hCe6cll9gvOFZfOhkUeC9enZuuAXlt\n",
              "kajSvgsI0GmgeqCtXVvOtFWgcKYRjW2wanZEIQZ4JUn5hWxJ33UP1eRl/ruQlCWwsgZ/uo3j0h1S\n",
              "F09vV6HK0W+KpfYwmQIZc+RNFDMLsfYhskmjOYqyD3cNdBeKtwb4o7/a0CS4Ke2wC5U3OUyhju1u\n",
              "zuu9vpjkfnzETWuHy3c9SeG6DOsHUffbro2Cl+VRKSDO6YG31fIJLO0otX+Yo2plmxFDDq5C0zoq\n",
              "fp6ROv1WdWwOjNqUulXkVaB3InVU47LFzVdRFyavvdfhFE7ZrNBcDpAuatUIlDkdJQBg3qU8dcLX\n",
              "I8hKuUCY3tYJx7BgFk8Cm0uto7K7LeAkp2Pv+hdYyr949Ot4p1OltqyZkSzR7Ftm88BL0z1kl4k6\n",
              "VDKzNFTZz6thgntVriLoL6FczsBhIsByl6vrp/xOHCirYGwBgFdmlHEF6KXxJIhcgAN7u981fi7G\n",
              "S6WME7kkjIQva9nr6kEeziDNMeUNfNTEL6zE3ZpuUiVcnG+7tikgx5nlkPe4h575Cgb6ca5r5aVd\n",
              "98PHmL0EYyXU5TYa2GvxAD1HnwZrWspRst37J7/IxzcChGFfz8dWhnDd0UbZcyN3Wqhl2tLbtV9I\n",
              "mFb0+fjbeRzGZ6C5viprezAAokaFD1iqwBQjOFp9QyrXbDIU/XOCvWnaz9oTzYsIJ0OEh5BmBySa\n",
              "eelSnDsL4GJlSWPLNpdKaXOza99uWpv+6jF7QgVohro1HCCKvH0IyLVY3f/guErIwlE88lvvoAPN\n",
              "gwik1xF9UV9qkZznoX4dh2yfa2D6SDH8sE0kE4dirVCtQsKfR2kxSmB5T48XEkZfy6l2+1ZURW57\n",
              "ve7MCdKAwgADw4BA4BH9p+XGMP7oAX6fCuy3c0qkd0mEdgC+bjk+4ZOqO76YL7GAcZLj3zEzqHkO\n",
              "QjA/WQAR9IY8J1SfzlVo6enZxW7Cm+mEnYxgyvnWBk5qGHMrnAjQ571SH85AdyFowLrerp8RmIxp\n",
              "nEh5Rju755kZZ3U1wxiUIWtRons8kIs9t7IQFFnXBjFLBNxpjAJPNFatLRsNmmIHy2k4HiH27vX2\n",
              "o232s49ez4vuEp1E/P5ULwKDQEJRdgN1gsq7miu7TmEPIUKbzCbBZxlYLu7dCvTEwUG4gOPxmfvf\n",
              "r9cgZ8WtL53fYK134OQoWhQIPAnd3R2cyqQ0TIANK/oQwnUzuHecHgFVDjyAiv+knhrk85cJWA8U\n",
              "xGAB0ckv8TFKqQzjoLEWHMBXb1uxXUiYt3HjiRV4yg/NR9lyGbQlwm7C2zEF4sqABfiXE2OB4Hny\n",
              "MhQzWOmD1eAWfg29FzKlxrVQx+VrrCV/OhBoEwG1BG2S2tfNyS1nJYrK/7rLBUvZwD/etuXdFnYC\n",
              "2dG5FgtcKAqzFO9eQt2wpTYyNZ0K1PEfBsyEUc3WPckId3VM+AXa6qBnjyPWPcf0wU9skWjRfytG\n",
              "/0s444ub9OY6rI7XjDRocI2qP8YE+eGa4u+C57g3d7wnNyB1gBQ1ePL30NrfxwzsvaoOuTHf1Fh8\n",
              "fq5YI+m4PpyQ/M6kcyuu7FPm2mKxOJUbOJzGFChFZOnYwpL2+BV+nTLl/rwwTVJ7GFAi3t8ncrgz\n",
              "OEdk/EAf1lsQXwXK8/UMkzPtRsRweqU9W4g2mg1QeY0DMnbd9PbbBsx+lQ8Z2v0ovSWheEkFkLuf\n",
              "f/Byb4NokToRU3tLNzvs+AQTTzVcTUt+IbXyzgBiDy+3kjU26bP+cVZjk/oVLVt4C8so9UYkppwn\n",
              "1tC4KCP2JiA5dm63Lkv5hjajl+BR4IynXD9IR1vYApxWOXmij3Jef44RmLCE7kXc4mQq3Z1PZ/ST\n",
              "QBBQc64SDRdkFnEo17afNfOILFncuJVkzjDLxfCVHNjqQhS1flpn8N7tci03WlbmHEbkjIcMrTVN\n",
              "HpK1u4soDI6Q7ngpWZK/VKOHHZX2w51p89gWvLr66X2iXWtqoByFzUGHCf2X+jlz3siDOgmXPjmj\n",
              "AtuKebzkgGUnt0wkzLDOjdhg3C8McmJhZAQzq4GVPXc9hMHx9Js6V9I5cZopkOifmhwy43qbq3m5\n",
              "O4Ye43YdgNpM9uYnhjLGPJJUV4fEPP1Pb5d0tjt3RcCyQ4ELjpKRteLfn7kyVJiowOeyOki4wFmB\n",
              "9PGL8oSy6x2Z4LEZmgrgGiKgYYgBD75b8bZFuQ+Bgfxf1SZvU0plZPMyJa3qRPsxZjFv84smlNbo\n",
              "wbLpGMwKuiulxAfAn1BxdJfXKWJJ2vGtsaX/HQK2gTiUhxkop68Y0oJ6DVMP+YIKuM2JG4QcU5DM\n",
              "AgtcEJke8FdHi8jZ5jL+kCLDEw6tMhxCL9VefCzB6bn52ON6OPwuXNKTe1NnYGv17PXcZz91LGgU\n",
              "M66KO4OZ2rxGUn+XpENAAgb/4ABVwQAAAhZBmiRsQz/+nhAGeFbwA92tNjmYpSSQ7bUrpnoqFyig\n",
              "ODRlExgAd0x4rdoedL3kMBGQaPvfag2jJ6lyw3GWPSkbaUub+usj/1DnVdcoqmRdVDkNkgMW7UPR\n",
              "eEbPHc0nZqHba9ubAnAGnscLgwpsiKkByQ4NCkTv9BXAb5leC4QZ34rrxHJzfAlKr/4kHC9Eo6WS\n",
              "m/wQXxIFY/rGJ/h5yp4DKOMZsKhPREPArlEUFSzhyz7GMMc0XHHnJDoKv2uttTEAxSN64QE7ppYb\n",
              "P7Y/6LUjdtGZJFYn+EB+GgfDuOPf+xBDvRX/fbjftdy4TfmV4R1+nLrcAxPlhTkqE38qxZdUNOPC\n",
              "G0Ph7TlrPJwCtrYIZ5vk50hSHCwZ7UCmyRpB4Z1tBFOJc1sSeqU4VdUjAJjbfdhO/XvqUkJ5qJXA\n",
              "Qh8pVCOA7IRSv1dkMKVYJMNA0rvl7QqtpoRrHXWrWF+3L/9eW/BPNqN9f4kiusH0OkKNBHPehUUP\n",
              "kgXvidoMVeXp3QwEsdQ6vazUpfdDhD9ytslKrVgjn9lU7NP6cu4nUAYeAWlayP7jQzFl8zvsqCT7\n",
              "AywVBKTeJ8XrWdu9UBYBvY/ZYG4dPUJknJqkcgDOiqtGfT77A0YFh96tBEPH+eXm6V+ONNmSZl1/\n",
              "bcVe4Wbm3ut1BichUjMWro/DTewHjma1t8hgvxkJMYQtPLcEwnYaC50f5z+j9nAAAACXQZ5CeIV/\n",
              "AdJAX1SfxzDpo2+1U8oMcxVhbB7aXSjXnmtfv2St9R0q9Nh8o/DNcb9pSrhbim/CAJBHRIieWB2F\n",
              "WgwzBS/bst3Y590MdXFifPCXxiNHonKcWB4qCDHskukXnH02W4rGrkSavozbsUtZaPQg5F1SuRX0\n",
              "/DI8q9EMa0KJ0Ywwk7udIAA4QB7Jh7cLzTs71cAtMwAAAFQBnmF0Qn8AqGUVqJrT/ciMSniLYSv1\n",
              "nfXE86LxutCOUuS1KH5ej2JExV+cHRETMpni0Ze6FpjYHfCUcqUD8fz0SLMVXMlMvjgX4/Cp0fMN\n",
              "uziEa0UAAAB6AZ5jakJ/AKyFhAk4roVxmp+KesBoLqlyEQ+i6Bkj6VZzJUO8yEpdtBjrgNOYMByg\n",
              "LSEKw1Bnb8TVOW5Z7+YpKeED3smcdr22lHGd58KcPyYxJtZB2sO5aZAYGHzR9+lS2Rqe5995P3+8\n",
              "aLM2vwWu1N7wL+2SvQsACdsAAAE2QZplSahBaJlMCGf//p4QBPEgba+a9AJrjPH6VXp+FjLxxA9b\n",
              "Cb5kjQmKVwbATilY9tiB/THCsyVttHgFF0P3NYrB9UnU0lft3EfQOzd7b72eO9ICFKYpEMNbAvda\n",
              "C8GhZ7juUH1j97yW2OL0yeS/dLY2iUzFon1iu3L1IAiNu4AEqeBvQxvdVHYwJ1DmW4zn5ra0a72Q\n",
              "WxqSKNTmSkLVffGPdseHG22NZt8KRKgWCk40fVCaX7lk6Ory5MgJoUS4Gh0DxxMenArJa970AAz+\n",
              "Ux4aN58CEJjFxIm9nt/Aqs5j3YdeutolxmkAmbRQM9NQ3hEMQ+8P61W+GbvkzDej25U4v9OOm/A8\n",
              "o0osuFO5aXCMUdXeB/U47FUO8BGY0O2ksygJI7xr/w3OsRGXATw0fsepHXYFzQAAAdtBmodJ4QpS\n",
              "ZTBREsM//p4QBRV/B2wGAOudG0AmvO//lAuX/MRPP9g2zOqKEEbqV4AZWeSbtosG+/nHnrmKGHbY\n",
              "pz9T57pSlp2mT1fq+y59uIsnZ7vpaAcVV9/JM4DrjNDawQLeub9gnZ+FKICk5hnTYj3cnScEVNxo\n",
              "waHegltvxea/23arB18PAPtTHS++9yFLUWLZPh0qcq47UN0u6n+YLdcSVZDCKisj4f210aCfCr2D\n",
              "gPCzM4WJVt0oyjUcaCSvk88QSofw2iLK2OWH2Aq4nEuWDtmJjF/PI3gO9XOuOaGNUpLpHfYLJYps\n",
              "vRs6+1BGqZZMbHGx8a7DUDFzZGvXI6EOu5aWebSgBmMyPyjv6G4ibeSxJgsCvsWbrUtKQGgcSI+g\n",
              "teaBm8fnQ+TKSPjj2jd5sUvclDE4bBD1gcpTKE0WyXYaCHLg0cs63N2/2dPPJDnHE+3fmFpUM9cr\n",
              "lhus6ebiQBKAVzYwf/mc6+XqlvRWevqrKflDBoC/fim7A+HGA8iBjgv0/Nw4+xC29wnD/giYYAX1\n",
              "R3rjdcuNP+uCybDluREy9g3FKoYtntE8zlRDNcG8RuDdcwE5pUYQdocQrtIgdWM2HOpTqahxLeIP\n",
              "A5UWJz8prB3ReJ9pAAAAuQGepmpCfwCspIoKHAAXLBNN29W186WMaI2raB70q90d/Oebc8Ce1PgK\n",
              "WDakLKlJIMNRT78gFFnxXZGDKWhsoQdKb3VL23HinME7VEMHAMiVFBwUt+uDKh9mn7Oxzh7xkafE\n",
              "0/FOSmB6etPODflqKdxvSzbMHRfo7j14w99lOcrrHUTU8/PS3zMFN4QczNbc9zF5KrYdeEljBLpx\n",
              "r4M/VgkXLPhu/4/4iniPy5E7OQykGGLAbdgQZe8RAAABiUGaqEnhDomUwIZ//p4QBT/XGpDa9akw\n",
              "AtaUqalGZ7q6aqmigv6wUVgrTqVjPAJf0gTCXjtUg/dEBEt+ItEUltyPVz0cq/UUiudDya1ODTP/\n",
              "piEkfDC+B58ZFXFIgz+flpjGTmBQ+TZwjnruYqgqKFmbratVrmYbmSyLNYE1Xe5sRLrFlCekESH6\n",
              "Nk6MeMSifHLLm+E2IlZzCO1n/I65Z0Tb/RxxC8Wf3vFuuyH6d/EIsczN4HFefMrM2K9lrOy/Nkyv\n",
              "XxDB9zsGj9CoTV7ir69eQqaXoJaKlRdY1OD9TBY+QlSOGtztGd3tzYGaSZoyUXpycrMA/CZ9wNCU\n",
              "ZE3NGonmF5/hcSToAz7kpYUxrabYZdIIDoD0T20pS/+fAIz0rKyPeba5iNtpxWKYrFwa5Kdo/8GR\n",
              "/GKZXEL9k4BYGRtmLKuLDJv4/Hekbf/b2V2n8bURF4qLgX8OAYfsdNeZ6vpph2KKqOOQbQWOsgRT\n",
              "Txr5T3twMjqgICw/oc3MwxmysA8lENe5jSSD6AAAAaxBmslJ4Q8mUwIZ//6eEAV34PCcpzysAoJi\n",
              "VxEqqna4ZiqldQhoiF4pOLUzJxA24L7A2M6zSTpdWnUHi6GsPJfUWde7AyR+64P4c+KF14c3+Het\n",
              "yBaIONdqZS0O66gkZhVfzo+JyupYIBBPNXw+iZ3lHRxR/KFLsNb0Nfucsi6v7JZESpohekAKU7eU\n",
              "4yKrFid0/ycKl5vEcuDaTGhsog8yw/V4eSE0APG+80C4rmVMa09VJwtkJNj2JesQUIVACFTay9Kq\n",
              "v9bcnvK6CkzX7NL37xaKybBkQaxOhELoEVX/6P58W98cDalQcqh8xYD78lPMFyabJ/5SAMsgu4Em\n",
              "dN2q8NkbmxrnVwhmtpioEdkKvoPB10Brt8xXXD8LzPbob/sN1XcHTli3pSmzVTZ/feZde263z2Ib\n",
              "rf+YQ23uM5cLfyCCPDFTQJt5wRHvGf6fdb+6VrC9cqiAVeEUuIgB0pEr2NRYtnLXVBgGswjGeBrb\n",
              "LdODNOvxH8LICzuAca6XhY2RAqEaZp4qtewoep2wkqU7HyJ9VYcZiUCFwbHXHkdxpqix+EBQckhe\n",
              "Fi11IAAAAk1BmutJ4Q8mUwURPDP//p4QBaD3i3wGtqMiaALWUa0dKC6zo8KkGQfvAPfZsvNKtUPY\n",
              "6VUVsdAKZjV28QKk3rQqFrSiwm95roV3aY8kQPEh3VLrG32iF8Dd6VQk+2Ef6XBNUURUuomd2qil\n",
              "+MX3RlkPH49b13luvJowHeE+uiGTBy6t7IFe1mZ2dkZ8zPHXxpmhgcBbA7twFn2XxsdieDJHllpN\n",
              "S45XK2QOy1N+Ebyw4hDN5v/mheh6xcL0MzU4tkxEtggKYrWV/eO3OvmB/gYc41oyPkNM/3pMCEt2\n",
              "KHYEP8CcV5WsZrWezvEhhVWb808KwALZR/7qBRKJYBQqhpHneJMlInoMRxHpZwniAR6sy+88Xx6W\n",
              "1F49vE1hxFdwJwWtj+g11NIBrhzEkhDl6nWsYPWS3RMg0bU7xibLL+OqoxU7RXxv+ZAiTGiYsLzw\n",
              "njF7RaKf1d3uQihArbYnwZ8V8ButrIXIYETE7e5fkpLj6c187OCdYjrH//JvatoKrQNqevhfvxFr\n",
              "xu1oQ1i0ZvcAa/0xjB8NtXZCmC1CcMsAttNd4aYNk23M+614hX4KcHo/QMbnDq6lg8rv/B9vm6Bv\n",
              "ydhRmwS10feWk/XJBbOyZ3alsHby8YtYu8ln9bZon6uB2OKdOoZdR4ON50OYy3HT3Wtf/C8Dwt+v\n",
              "PS7sTwbRz+VH2ujCyDqbcwIZDKZZbNXxQOy+tfGixBCqUGCzxVQNxLM5YdnInQbJX1Zl8BA3praT\n",
              "PcB0ZZLhMqpv96GTKnixrYeI7TRwfzg3w5jBAAABDQGfCmpCfwCsbN+5cLUVsESZj1lt819RgMbG\n",
              "tAAXRGei31Y9yqnYcPIORDRwdnzYX+kEU4xTArCr5eL3YlG/Oxmk3r9uthFq1judkUPiI17nbKbE\n",
              "zvcZmZpr2tqBsI0O79wEOxtRmQo8cqL1eKyOUG819xzh7e02Q47HzB+54d6SLKMFyoHkkc7oNh0W\n",
              "f2Yyc3FwdJvCh6cjDoA81V8WaRLMy8WZMtRquYwGcgyPBm+GxsKLKHlgmzJ+7OvNjCV41+Cl75D1\n",
              "XhRFBfUgTd+AK6HZHR/GoYhiIfQ6S8UnuYIIvvvLbCib0nMJt6utHFR3lQM1UPDJ7V8Dt6dBJBKb\n",
              "GSUGqktt1qAvTw6ktPCGAAACSEGbDknhDyZTAhn//p4QBdC3kkNj+VQGbDnvoe82X9wsiHR9HinA\n",
              "vXajSsJSYZwTRyWJYQM38earuDiXQztXgU6/bYRXOMML/8hBobqdL8C0K+NRzHEnsF/zczWsO+4r\n",
              "KPM8wFc04VvmLNNF5Xx7ymrkVoEZrvX0CbZ0aaBsO0YdXYsFZMNfQYC+F1xZCE5ahC9wSiuqr2G2\n",
              "4lp58wqeUuM7dSnfSQJQpMB1kJLbvPTKAJSSToLRPhgNPhgL+tJOCTVEWcYAyPpHhyrb0hYjvrpP\n",
              "1ztucCb/8NgdYpRcxi6PQRvXAwHLYAJVLuUmDjbKu3UoG906oYTBz/qMNh9NEvhvQ/7TLB8tNXsd\n",
              "8tH22G3u+f3NxEXMx0wV/BFmQPrUKvrr3DvlkJMAK90YtdMuYNyTj4DkF2Qm0kobrgFSV94lLCQn\n",
              "TBpASUzmxzB3f4xA956o1GJM7iUBP5qLTbBlrWw/gYYzUPmPOlu42rOiQ3cTt7Wmduey2PjFFDzr\n",
              "eITy6TlTlIiA+UCqPZF2Gk0JtXDh5JDy0CE5gYOay0NHaMnCDmFfHMGJ4fgfHIndQ+kkRHdc7WEs\n",
              "RdhhuDJBh9NykC5DFj7D29XNyv6HTrCzBttkPgZA6cH9mIjg7rR52bhi56UUThwsn4lkI5bzaujA\n",
              "DLD2g/olPrqfCP1MQmYRULghQGp+a4ByBb0w+DMRuvMAyboSKQjsSz5G+Qg42Y56/QHOr77bx5uR\n",
              "aAyGRWaZFbG15xIK4hgDgKcMxtildBpRx59iddvLzSeQAAABVkGfLEURPCv/AIbAXO1vdX2s7UAw\n",
              "nKXVAbPbCZACahiLFloOjUge3DQBq3yRMwmLEuCyMsIT+UVmrowK5mSmzm4yixYcPyXp/6NBR3c2\n",
              "m1khwqx1eijZlIzT8Iorv0LFQvGLB0hguHIluLAC9oxe1bEApfezMuutYjHRiVWqNyJR9ySVzDj6\n",
              "4OZ6KAuBApofc/jO/8zDg2a9pNbXWRkdCd/QIAIbgtPJSzDXIE92H4eCHC3nwVB7HonmH8py3DRH\n",
              "2lSdtTu2rHtgeM+boAz94/zYH5v591bTb+1J5zJg0auqKfKU6Vb21otFDaqmCB0Y+SiCSIuvIaWx\n",
              "uGt0tg3VgQNKgSGICMeqVEmhdMeAiWlB5pmijJjCMv7Bq3NPZD8SmB9Sd3cor/M0NmJaECHsa6Ur\n",
              "wWR6NlgwVyX+ccTsnIhqfpDfNjVJ3YgNPCnh6qO5wBHZkcPsQQAAAQUBn01qQn8ArNg+3ZBqVrj2\n",
              "UV7jAsbIASxcBPvixgCu1uH/pVaxsapaajR6IXybGyeL2I4VAMMyxOo0k7ZznuSYQys3CJnsetWZ\n",
              "r8l5qALCmoyfwVzByygOyox/QqK4X84MCEtnqbAgk017s8cZWtDpY8ASfhjDZ37XwgGkT4bC4UNp\n",
              "33Kp0O/esgoaV0um5rRpTLLUSfnP568DA2Z7+Ln9IQEfzzm2KqE1zzU210NrWGvpMpp2lxem5HSn\n",
              "lZpb8RkExqhPXbEA0QsEL8sxZC9UBDK9zqIqodjUIAwuErPNXRsJIoPo+iFULq2/UIo1bjaWwqxq\n",
              "dv+FIoneo+mBV7rX5I5WcCEAAAGzQZtQSahBaJlMFPDP/p4QBghdkgxthoBm+TD2/UwBX7QuF3lY\n",
              "0FAVXLiT3DN9CS6r9zgS3zj5RG+Dfz5xS3N5Sbpm8hbPJjeZf/JDFv+djlP3mrZj1ZnsX4z0zulX\n",
              "q/6TnOp2kt99NtB1x8rM6WNyp10afPFy6LAfhj1C7NjLGYuPa8+1e4XiS2yKHTserugTErcrcNFV\n",
              "RpjCFFhSbndENsjHrb8Ee8GxbxPHM7dpz0Xhg74S8ogex9NT5zKt2rabw4OpNGxP+MjZXvWHdLmr\n",
              "/S4xgCTGwzQq5QsThbrlEau+ou5cH8izAhux1POHrwZn8DI71AG3Dka+9hsETT+xZh6GQHx0QoEU\n",
              "f414DTFFH6mINEq0lB6i2MgbAKs+lIfBP9vap3g0uvPfUmgRx/KjWWczCRSHaQBtWeA+FeygSVlE\n",
              "EaJJXz5uYA0XDYZZap69JdnaE5ecP2VzeYPPQJEX44e/g1RL9SJWqLOEuExi56afq0YjIaCdTWWU\n",
              "/Jsiu3kdE6rf7E0khhvgFyqtXqYuqPLOtNx69dvjnpm1tsC/t2WcYVAlWJWZt9itWKbcS/02aRYd\n",
              "AAAApQGfb2pCfwCsoGTm7n9GZ+BKITgg9+bft2/AfVklBoev2LNwFbbrev3IsVCdv8g629sdHuDd\n",
              "r24v6TDUXrGleoCRKb9BXeYcLuziDhZnKjMkMIxyx8GXjGrMSGf7kJofkFcP0bRvi8VsBoJewAuC\n",
              "7HZdp1YR24g6Y9cd2hVZeOBqxuMGxUB6EgZ5j9O66w/mzS9f1skRy8ByVtmAuV2J7AkgU0/eCAAA\n",
              "AOZBm3JJ4QpSZTBSwv/+jLAGUFgZFV5h/+x7+HGcMK3yKPMao6Skb9ylABxvGkyNaw+9X/xb6uzE\n",
              "LC+fIHP/PveMchbJgn8qR14GJtuFc20/XfscNfFXujQw1RiAb5mr267kdff1hmJc8appKCKj5Y5l\n",
              "wr1knT7bAqH6lqgu9nVHTHvg6ynIiA2COoGI4zU7qP3izRS9r6X6h0kgG0YuwM5nZBL7ntf4uF7m\n",
              "B5OqqSaYzybWc4Zz8XSzsi6eVEPu/Ek0mNnt24hMCLPzGJVvtaOgSJRvwPxkfLfqIvNJo73nmJfk\n",
              "e99SyAAAAIABn5FqQn8ArLQS7me+ZWlRTxlmZWrDE9RD3StW74io+dkZn5pjEbt7sbmeEdVFZ7k0\n",
              "/x/QuqcAFcWKVj44HZOVaP2NnU1eWEVJ/a5uqDyCa2G0l7htInAHz+vUZfY+jW2+DGqBn7j6W+Ek\n",
              "VM7KoRPxsYdblCK27DlFSM3CH8hErQAAAUlBm5NJ4Q6JlMCF//6MsAKBW8S93M1zKxwRS8wPS9Wg\n",
              "AIgmuyoawAgbG4fE+zjyW5YaNE/var3LXPVsPqw6HM4cbQ69zMKo5BVj7NZj29kGPtxHyQLnvb4M\n",
              "fpA4zUAY7I/BHRFOafNh/N1Wnw/UeC4/NoBtYLXqQgG39IfsYhuC1hwrTu4KiikU2+5KbkbipdV3\n",
              "15bWCgxuCr3hYMUnjzfJF/oDPSYEQQqNbeiNhIAhp2RfavnQapi7r3xHsz4uyadUwZ9sTp528eaW\n",
              "Mkv9BRJyW8sgc+7hTdRcoEnK9IBi+QI9wrjgAJ8noedvyXZGJ1td13Nd0/iJrHG/umcgVEIgcJKp\n",
              "RfbOGh3a0hl8n/aE6y+5vox2jmkqgN4aCJnSFXKZe99DXGJZQOg/aSM2S3Wj5GzXw1jlN9IDWgF7\n",
              "ovAr+SqvelyHuS7/PAAAAbdBm7RJ4Q8mUwIZ//6eEAKduZ5Af5QlN5Nlgv+ShPMD3is1iPKYCgl4\n",
              "/s0GU6SJQ5Wql/HaMcz4HzA+/qzBUEAPYhZ538zE6fe5lQPn432qsz9G0RFC2WNKNFemAPwHeF0b\n",
              "1yubTTEngYVqoraF0c4g2JcQ2R3+fSF5+3O5LmYHFfmUphgVlvMgjB46ulEPm7TnW8Pwt2wA2VaS\n",
              "8ADnA26YIWBah+st4mD7CphKYjjDBoaCnT2xGcaygF5P/HLBISMdJHVQmt4mRsjDtw9glilLUyLi\n",
              "wH1wxNvCKlngaLtPLhay+NbJhs2W3Mmv1lnusAEDLSMfa5tomxxXATieSBGxkkBzhMX9wh1wQ2Nz\n",
              "5pF7URJiuucv9q/rIdBpUXRscSI9Yks434Ne5Nrn/74ktCJzBHBUZELVByjeP1yi9sUtcBCbNkb+\n",
              "NL24DrmUzz6BGHLj9uQ7AqN1t3wcebKzLzLBbTWrooTPP04LazfKHEEH+qiMAQvzM24rqVGW8Z+k\n",
              "bCTYWVaElj7cNfzKYqR9s9NoTtodCf1cqDB1lA/HDan3/bhNpj3Ex/ZIbef7YaQ2vLGqlv3PORgw\n",
              "AAACBUGb1UnhDyZTAhn//p4QAp2L0AFJOAxcjTNWFsJ5fsrHq5Y7ISZhuP+5UohjU13CqjhUfi9H\n",
              "53pmunXD8fqf7iQADUyJuMhJt6NjjEsarElH2y/uIdOZwwspN/bEUM3b35OuQpJ8ZhbHlgNdQ0nv\n",
              "mprFD7R47oSt8yQgVkK0Qa4O/5LtlglVM3otR66RU0VhbrwNf6eu+ac3WflGOgwC+AAMJiQeO7aT\n",
              "L7DpUUvuNCNHTD8r+RVd+vvJWZqM/eSHg0BWqzZ6EyAjQio7MSD+A100P5v2DoOgEVir4zyYhTGo\n",
              "BUNvV78glL858I4+eH3JtbWm2BCuz6rFVCWVC7nXzZyzYrhl2RD2bg32x/KssNj7cyc6XsWhHmY6\n",
              "SSr8IszfWh39l84S3/8LNYYt+L0gwrJKX668drZEL1u+/CGab0dUri8RwP1gRCHsu9w5COzfhv6X\n",
              "cyzXqWNRB9+5KWFFTpHVq8/KdU0UX5rxDFXdeJmsLDq8ojUoh/rIFIHbnDRdM78mDyzLMIf8zLVz\n",
              "eaCYwUdpR6D8n7qcTqSrVBB4zFS1MJ+bg9EnN/fhHr6vWkImaJPzoCPopAvoyhaXuLRFnDCsHdSM\n",
              "Qs+/xaXHuo5vPDrt3OCYTEmiSzNnLN88y/81lfBD09EvilF4CyezDlQavdDck5gd51IRyIsK3h8Z\n",
              "hnmqn8KgXoEAAAG2QZv2SeEPJlMCGf/+nhACnbmeQDV31t1dcBzhNzHowqQHze6Bjb1LAORgp4w2\n",
              "uvoyQuidJ8fNOFMqTwieI3X2rAwOgVLymqrRoy6nICVj4IYetoH+8QA66aDTzjYh8jwSaVqfhjTL\n",
              "m+iks/JEH96Ki291UMMSaGL23q+gI/4bVJB2ZNi9GqeNmCshucUQ4c6iyInQz/U40DrTAaDjkv/k\n",
              "DNt4y0A/pL/mhekBYlwK0409uSpNTKX3Ok5ktdyzdYa30G+NSQud3CPopjAe16eF0IADH7K2MzG1\n",
              "LRulPpeynUkBXhvdXYwIyaxVjMduX2bF0IjU9AypnTlJaAb3x+k24dhLKK6PKOg8H5CATPMbFN0P\n",
              "ERyXyTWsRqQp03eQNA6yGT66Wvxlt3FPYBBOqy/xtWO4pqi6PPZulg4zhznhKovN51XSl3tzzSYt\n",
              "zNOaU0t/NVW9QnFC2CYkizOoauDr6X30f95WiYN9K76mdQ/1fjuhuG9qZRQz4ymexoQmYt7YTjOz\n",
              "HH1JlxSlP+prh6tWWGdRo6kdm8PRLjRmqcb/J5zBt3CwualtOoDm20JW5C8jOI6PhD/8AAAC2kGa\n",
              "GEnhDyZTBRE8M//+nhACnS0UACgd8dzpwUZkO3tl+zNKOcfmlmqV2wLxsYleLOFpWvVfExSkH6xj\n",
              "ruWkEnjlVTUK44X/3xtYKl49TvIHvBMAyL/dM10/SSTixEiIMRleTAtyhqKolwhhy7Enhl5LA2QL\n",
              "ptuvjb+RJxUqqpBhGqwVXGqklWsQZko7GskaCvHOEIJHvqJuXeIiNZoT6xw2RA3zZ3M9r/JPNizZ\n",
              "yX5JzLNdOJ3jauvA3tfgLPbIPS8Sk9dNojNjMe9/OimFhPcOwyyZSPPsAB5Yg3R3d6zhDyHhWzML\n",
              "NBijp9wHqH/kFDEbyMB4nDjIjJcNZxNeljBtRZqjtClEiqBzrKPhSdIyLxllwy2PCbeAnRoMp+dx\n",
              "iMJHdmueIVyEcsxW+OsgfS7Wv5zqQDpUVM1oJY4U/1jNRQnT2vPTdliKcdJGVjSfa9YQ3rb2JKkf\n",
              "tD1QcLzIsqkSxp0O8OgbhDLLqdyUNdNKqpjhFOOnPivg/798r8zrcqqC61CMQEYbNnj+aIvQU8c6\n",
              "VA+18Kagjw3Ln4Wteh+DlcRqGGffpr1sBHT1kuOuLH11Ulbo4Dzby/9agf/42ruJTx10qm+IrwBr\n",
              "DuTeIfiD2rcHfCb40BOYwlmbpsorCWgtldqg6jgwEPrMW071ZqTNAlkfgPmbv/9XmYTQ5mUl+R4r\n",
              "HNTjYqXd4mxn8wKtgy4SqNxogJQ9y5iEFlDETahJfRPUaOZFvDf+iTY7CrQhJ8Jka4yFBVIm5ro4\n",
              "SBTbPC1FKH6nZusd5gW97g9mxV5t/GVyOcc9KsuyH0XV/45jZe2eExXQi0DtBxFSbLgnQyr/Nl1f\n",
              "ZnKC26nsNRspXXxWCFOVYDVB43OIEawlSaWabVimzJF5cF08Iwh4CMg4UjHqDoBT+PEuBjkbZA7X\n",
              "wUaMlEOW1eNzrYm5HrhaJnN8FHXl8UZds3QYiPKsOZ6A0r0iCv9TNWOSPW0AAAF3AZ43akJ/ALG2\n",
              "vACZxdmey3EZWqNLygT1oSHEKbxdK4ifc8qnZ+fb8En1fRVhQXXWuY4V/xu4BFW6ebJ0ovL223Tk\n",
              "xBCj8laz8QWP6d0bCEidwNfvIeDh8lpjQEdD3CK6xRphf45NVJoXy0I97lyXiYbQ7/kweHtcL7BA\n",
              "BEV70WqBnfu6aQAowrq4svqS0Pzoa77k9WcZ7fYMokOikICnn2K3+zM9xtnrEphWMw8NL6qUg4Ut\n",
              "o14H6iapQhmSUm8+YaUkCsA93Piprppi/+K1O/q6bvmieB/cUic3slUDZUsjA1mTDIM+U8GJeD6z\n",
              "7kRtmtqARZfYe264XDEdqZFGb5GtEi7LPoTM6TOsMsA+Cup0xQWEVAqaU7iu4SAnzQFk+enlO0OF\n",
              "im1hywRy1BbiATfo2jIH93Cekfktd21LRdDPT3fxBMvrvUzCjWs89wv17GUVxUfCwdCElvSjDn91\n",
              "TDJmdH1XU3WzLMUjUAB+MEFKPphHVo9BAAADT0GaOknhDyZTBTwz//6eEAKdbsyACtwbrYAqIjxe\n",
              "cPSJjPfNyj9eSjE4RM/svLvaomCH5+RBQuYkpRniIyeZCsibLKDmd8FXrMLXmC9IhiZvZrI0wQaS\n",
              "T06ddbg+b4gsybu47xC7Uawr3ImrG1Gwf7bHav6xNLhZQl4Q9x8tA8RP/AR0kRl+e1t/507GSBQt\n",
              "MIoOO+5eSoNNGWYk9GbQIR59FqKiIKYF3eArZCRDX8Q4QMsY/TIbrO58ol0zXViDYGIB6ADAfQya\n",
              "MDT3xkyfFyBeH/TNmSy7WIlth+RtpvnzKR4zbj1I7vsGEk0J/60he1SxCfyBhYTrgexY2rBnaoFO\n",
              "u9vacTbYVuF0yMN1kLsMnY5v13oNCk1XXzphJoWANt1QwyB7bucas/FE5cqnUf+9lt2DbFsVImrt\n",
              "ipZKkodYwvi632cgbWLftZqtoCkz3JvvRWHICBgbz6Zx7NUlIQFUmQKZ0FOat5ZWBczLxZx6MCyS\n",
              "jcRuWNUsunbidq3z+GLJqfui0z1oQ+v1J+O43AV2VZ9BXPpoRGA2qxN8by41PUGOnmi/M3SjyOK3\n",
              "7q9lif29TbN/G1PUP9+zF6fnuX7TJVUpy75vANjAjm29LzuM4r/RIbAVNMHkZu6rKkV5BIP17jQJ\n",
              "SDcWk0j7ZsRXoHlxl6vrseWIDo0gc7bcWFBXi2fhbMXe8jhOtits9b0m7hPYRoeRjOKS4hp38bsg\n",
              "djsv2iZhoM7IGjswr4gUPVAInJCem9RAzhwoFTiu33S2R+LhPeWV97bu4d2HIGDN7kcR1n40h2gr\n",
              "NQ/FtxKP5kvt9T9+kqjg8MdkPCbwVSNgnNQBBRHlM4nDVWQ2KPm2nT3H9Pe149VnadR2HAVVVkdd\n",
              "GuCcWfZ+eY3WPj3LuJY3FL4qKmcePl1+59rmUzWOWy7/4Wev5GSol3d9g+0ugHsuUY5p3N2UHnuh\n",
              "4E6YDeZoUisqFWea4BpymxnOkxdtG/oHvqDhsr3Cae16XhlNJ6vRaA/0LMoXrPfeAeyT4gXg+0cx\n",
              "OXVE2TQ/Rt76t+nj4GBHP60VmuT9/xesp30j62w8DJcFQtdOeEwb+gERcTl1mHA61x+pZVKMWs+r\n",
              "+bicVNwTryZDz7etRKzq70aIMGgAAAEdAZ5ZakJ/AK7uvhcvQ2FvNT40UA5tuRi7PIgAtlCwXUQq\n",
              "ade8DWQ1I03ibu89cHlZIJpq4XTaTDmQ7jWLyK9DAFtnCrDX9nBchb+aPbnBMdgTTbpULTLoKZQB\n",
              "UotV96lOH/wCmO9tE+4bAzRb/5X2BwZwa4iOpkehUsNFxe+A+ry4g8Jhm8p4XJFPDKKDVWNTz7sc\n",
              "lRQayW0tJskj7p3A3wVFCYkzmusiQLEx8rPKDa1KYkSjd3XY2+h7xeeC5cFlBVHA+FETcN+wBoOn\n",
              "6/rXyVunwwnbfYUkNCHc6xlB0W22amJ2mbiAebONiek8owCJoos8kESRThKfqu/jfLL8KwTcRUBb\n",
              "pbvHCEDM7iHG5Fl83v9mr4GjOPkqcdfFAAADS0GaXEnhDyZTBTwv//6MsATHueoCCZelgcAs2h1n\n",
              "8IKMr+WmZs6aNNzFY9eakNXtZJdTY2NjWdR3bzP0FK3uROhnb/QBMl0ogZ2n3MDad0azRIQuUCer\n",
              "dJmLqleXRjUF18ttsqbdJpKaMHjL8I9YmIstK69ajTiNLVOFZEnQ/m/wHxTAqLb8GSUPK3WoeTDb\n",
              "kLNo80OR8yjRLbi+cNIAg/SsFVjuyUIAN7H/bfi1EwuhRjRUjNYagplv/BSN3L+6Ie4JuoqySdEn\n",
              "7GLWa3r67EBZ9Ts+uqXnLqH5y5A9z7+gtolLoOK/GpRJHue7/FqELfDkauaKwbdDYYjceOrfF7/P\n",
              "A7dvRzOEzHarNmo5VV76vsIS+FEhVcWrHypu/R1Y2ugCodJXEpDsUrT/r46U+C9qCMdpYSIi58Bk\n",
              "xnqQ8e5mKzqUAsPO8lf9lm3yGZ3SdQp8wiO+pjaIAAnKJCsA4FeD9OTZwQ64vwjGP2ymZWyQ+r51\n",
              "lZUzvUaYi11yezjt//g1vJLiUnJi1ojoW8MQF/wkgnvMRU/te+2X7K+zas41+Q7kMSkRtEoErXCl\n",
              "3jbT57PiZ0xeggiLEAJCzLMXsGjDlgFVw4KcWNje/VIQpUm92dsstwK/fJuEgKSOSf73WM9Lapaf\n",
              "1oeqbvjWbUQpjhLMcjG4YStlnvblRoWE60QAxPKombvk5nxUf+EpsOpN0VQoR17/vKS0YiccGD9m\n",
              "dgJzI0uxXL/RCYkeM6z7HZqjZWEXWbnbdFcmhiMFN8Y47aSt1Piryp7fjuE9mGjD6Hrz7NYULPXX\n",
              "wd3Pn5d80o5nDDCyfzMPuc61TKA8W7bNEe0F0/uJ+GwEmVotazSjdphtcopRe2iZndLYgs7lAgUm\n",
              "vBU3BDQBa8yxL2FeZ0npycV4KS+uTJ8K6+APNEbn3Gb+ELiOwGVHdtZMFbLTIhp66Oyd2LeE+Cxt\n",
              "lkq2WnHIASlcz8qtmW5rK4D/d6Vrl0cCKpfngm+wRo0ybGyqZULLaohx5hic9YTZjLBhepXHiYBN\n",
              "+OjX3up1tFCyyi7DeMCmb/AZXDKdksABCNAjJk4Mqw2/xnr+5NPffSmyaT/8UCottezsjuSq74jx\n",
              "qsHlDCp4/ySw4dEQYiEHoAAAAPMBnntqQn8BRrcE9GVjpRlxABO3bjturtVuuXuLKsHi4SNY44bf\n",
              "hDXfQaNOCV6gSgTTovXpn7O5S6zXZl8vmFWUfLBo9SytUubCgdpZ5m0G0ywgK2+IpV2c507yVR36\n",
              "CKdS2CL+QmWHflRVcODeT5MOf4zwU+/IZQlzmQuWmQftKcQ5d7cO8h7WP5uC3QYVMgmhoqrMnV45\n",
              "NcBTZqHK0CMC03LLnePEz6V6mfsnnnq5KaapK/TTWnLtBoYRZhypBiamOdgU0RhAl2LEbDG/uDv0\n",
              "/2IHXXCa3d+QQdfywi6gBwldOV6Usaiyv5GM7GcoDuxWT8EAAAI7QZp9SeEPJlMCGf/+nhAEsEDz\n",
              "lQklQtABZ1G/76KD/9AijrqrjHENrbSVkSiTvZREtL86QLg9heSNu+/K+rsuPhQP9GCI+p6/5pIp\n",
              "s7cT2qaZy4OkeKlMds73IZd4XMQlOjkK8DggbX2JuuOg4LLQEpEOJGqi0FVKRvw3Elo8VJh7n61s\n",
              "mGPOcZ9Xn13dE0WZ453I7KCb+Fevbu3KAaWNNHQsgvHHj1wZuvl7vku0Vu5uZl4QX3zwLsQ9jKgu\n",
              "vc4NxT7iiHqKMFAX8D3YSMez0RjFWuNYERCmEgg/DyjXItzW4ohyLZlVh01xzFg3YnXD4wSJRv5Z\n",
              "u7R/duNclc5O1Fuw0t+nUlo8ubRoEpCLMdRV7j3IYE6TNow6phS8jtu+HIjIMU2mAAQZt9ctMgIi\n",
              "3qE35PudWNFpmkxEs5FGOA2c2y1o353+Qr9PP1c4fVnhkgWAYw+jrnau1H8egLMVA3BzGm8hV6KM\n",
              "GdH7h61dvzOFKDo9qdoJRPyUV49zjfZhEWzJn1LZrlzYcYCtWnjwjHeMcxBbZ8LaE40YJVovvgOK\n",
              "75aa0oujWUDG1zLyeEs7wjGNxHYHm0fksCl0kJxITtRb5bPqD3+xyRls2OffSJjnVPk7YolNAKYJ\n",
              "321CNBvz/YqokEOO6rc8wOR+v7ZI9PaosKr5Owid7TvCjbmUnKYRttbJNFyHVHjt2XCw/KADfyrE\n",
              "kfOxJp1OHIF+knwZsp/zxeJjzWFnhZdyImhtn5Aw9tsFM1NC0b5SjwAAAepBmp5J4Q8mUwIZ//6e\n",
              "EASyPvqVhU2pZT10ladYAIgzdyR+MCKSCmI5Ra96cbSdetd+ILOZOnaxuknujjB2U97BSdJaO8AN\n",
              "B6xIxAvDhpLocYnCyvVTGCLAAWkQ2DFEzYRTrjXzM+SUVzeeipyKYQXH11gYJkzlgdDSCB97lGhh\n",
              "W88MrMHEOdxsRBIV+38fpCLkMWA0wJ7E3GFcT3+gzc/r1DtUdmabYglNNOgS7aBi7VNphg+NNNSU\n",
              "1Ep+5J6iB+cZjXBl1azhe/qnTNiek8151MRoVYwUcpKxOl/9ymo/ygqM0AhnmVwjSCMafJ+qjCXO\n",
              "k+mRHg19wdZPxh6Kf1DPYWN+tT0QAdkMjXWZZoO642mCJtCbfLxz9T6278r7AnlPBxOZvgs2aBqW\n",
              "thRlV+O/RrBVds83vGvLPnyWuMbbaJLiClvXo2ppHRRUN1clu59BC988sJ7oBWelIFzB1zbXEpFz\n",
              "l5GzF4oMdSFcaQrjkLjepKg1BQt0OKXcRadSraoGAM8mpItMkklqVWflM5gplVVF4L6idURQogNr\n",
              "OL9iP6YTebrgZ2ZD/6Mdgx6ou26v0KuIf+2mWO5gzdzr9U7oF7xFR8cDrU2ErFYqwt4aXpJQJo04\n",
              "rX0M++D7kacOj2BiGrmHsz0N2cqAAAACFUGav0nhDyZTAhn//p4QBLBKNb8r2rnos+QAXzReetVW\n",
              "3ZmMIjDmgUVlbW72K98a9V5bWRvIqJcrRE46Dw2dKY74mMLSnzVLOxhGeliOe/0mXYM5Mi4K6T1f\n",
              "6rW0yrRs2RaPTV6gGMeKeWxV+5Lw92YYYLGltTkrjiLLkWNJTuu9CV5WOlrb00rbfOrJJVmTHEFk\n",
              "FpV5YlcPoUf4rParGqqk5bGsmfPO8jer04zq60sUXP2lbHB+6EMjVZyneCXFu/4SSYsswmQXgRJX\n",
              "xdMbLzwKB6EA1dd1dwBa4A4T74fbvsofIBsLe4UHRuYnWUSQDtcZTzXmaTJst1ArZkl+oFAz+gjz\n",
              "CUVHar3HZzAb2anadAuPbiZajpqao9yDeKWo0ZhOpYJK24aTEG4H8T6A9e62rEZNb7c21eJGTtJM\n",
              "D9pv8hb9FO7JSdy6WvAsOR5FjGTGTmkZe+NXZ/wNdgxRqNiPVATdBbtoY2WEFHBGUjhn9lheXsyF\n",
              "c8LyJgGeJXvF1IZbdsPoiCrUv7IABC92wjfzn3dTfpRN7wUrBwcsqxWa2Yiq1Ha0QqJipOOzBZaT\n",
              "PcfvsqaxrNmthPLj5ILytrZ183uY0hPFEo6ZZdovEJJpEePSMSGhOlJ4s07rRfSZzNXhzY74oFme\n",
              "FTr/f+0/V8prvCkbJMHux/BaMZYs9sDk+virrDrhe+paek7sS7KBZrHKnU5AAAADBUGawUnhDyZT\n",
              "BRE8M//+nhAEsD3poxLyd2v0qJsSggAOcPuBVN50P77MW1jQj9nU9KXuctryNuLp74+EPh2qXh0W\n",
              "bPjnKXetY6WUMY7jMhUU1moMWGCHS0vdD5EEGyH/zow7HH4qNiqbnw9kFULb10eheYH1i7nPdMEv\n",
              "8ywx5tX0I+f9Vuw9b985BGyd9MQgA8PtKjRt0bg5nZym/s+dvfrKQNP3U5W0wBSZnnInYanPASL9\n",
              "jaWsDxaZXET8o+YNtVlLcbooiuyGH7LSkBhmPGIkXU1DfeX/Dpd0lTanDjSTI3FPrmm+mjDWyMw6\n",
              "XE8ET9G73JC+jCvxnw/utZ1iUyFmcLB4g0nts9Ki2sOuz6x+wN86+1NPyuCdux3YmWIOm+NC4Sb9\n",
              "eNGI+nVSSrJxos572tmbapkpKoPOozFCDrNob8DQeyTJa8bbxHA+yXd1JVbOAg5ukkLL/1O54nUk\n",
              "EvcLfUBHMcx4XnH5ybIVuR+i1i18hDKA5R+Nyaj8Bs59H9SVnWp3eiNXNSLKkJBZ2nrGPFe5OOsh\n",
              "ppM6MFr9jP4b3r82oNYtviG++jbtYpXnJ05Kl15FJOzP/VrDTmih2IrrbK0hQArHuskje9MfZi/2\n",
              "y5RESHKUkaIfgSPAQqOJM/y8pYHSii+cd6s6TAvYEhXgBGGcdmop0ZvKA73akoeXpZv/R/DGkMw8\n",
              "tve/OZmC9Xbmlo1RDPaw8hMnJ0s9RnCwMUMUjXVoo3lnQ/MvIu7R+SAdhpzGpLZQ0t/2muh6lW2j\n",
              "8xlK2YRj7za/jH0hdoRwN6yvr05Jwtr2axuS/1oVwS5UJDBznvaZl46dQSjs1F5qgslcB4BVsuVF\n",
              "OofWdJbwmIebf0/DgsjmhGMr3A8M+H33FwnU6tiT4NDtWqwRPQhDn2EGQ0qLzfuOnN8YKsBWhnLj\n",
              "Fdbtwz0Zks7iXeSg1i9Pp498YfPOm/XrUedrU9BIhZKdrLl+DLCXJn8zqGRPP3A74//MJlXUfMTs\n",
              "TymmJ2yEfSyrg5/qz+r9YYl9Mcf43EqhAAAA+AGe4GpCfwFG8MwjTyphJQEC3kAQjt7C5unK39Au\n",
              "WE9oGurRmM0PdMa/iSl/ms+M8eWNN5gzucpiKVdpxkJJ8dP0ocjAM3z1AbJIEeZZlHcF/D5j0BAo\n",
              "Kst4ffjkHg9oQqqwBcxVcxfTT+WDNSgMDf94FtvdFcd9LAwvqg8V9bbqubOdGZrE8faSAZmLYmK7\n",
              "xs8wrxom2nzKv28KLcUUD7pIRAqu0DhcOUD8VRs8oy/cRltZNEW1EVZOwiDBeH5mE1bgBpS2Ix5B\n",
              "T48Up4dS2AJrrKpuT9DZUlSbYNNuyN7icbnIYbDLcc+7yXKxPqEFpWKYuzd0w/KoAAACnUGa4knh\n",
              "DyZTAhn//p4QBdLb/7zG6VwAZbSqoPgQt8fF59b58YYC58gHdCHBcg2pmhrv1uRfKFlUL3qFjkRP\n",
              "MBtR09+jOOO/cJMuX1DGrqix7H2bS7c4aDebUo4Fqe3LXzmosw0ohu//+YbOzEZiv3AfpxCjsNwq\n",
              "b+zFtk30cITBNWQaOXb9MPsfsQnj7IflYR5wQsvukpJZPr35NfkWzc9xrs51sJoBOtxXnX5G1q7s\n",
              "hyZB1qo1B3zmU4l8xb61uGRms9h7h0kVCNrRcxqbXXJ2rlLA4N0FUyGWa43aq1l9MQTLfg05aVO0\n",
              "XJRw0z2CzrKg3MgpJn8ePxyIVcA3lyFGz7qxn8ihPH5i2yoCgay2erD+UxxhLsQRQJj3jShp4JFE\n",
              "bdeJ+J8XgMUddYPKkllwwZpt2bT/WEa5tBioeVZngD2S3wFFqIcl/F+Hgmal++iFTd+nJal1Tgni\n",
              "6pMEJUPWQSOsUIHnZunpMj9U4ZdqHUKA2LuDLsUTSzUStVm9BGqJw1f0DrWEx2L2tu3qzCpP+COC\n",
              "gCtfR+YYnsmCiN2MdImQ9ELItXu7W+zZFgOx4YHZ/P4qjJa855QkEcPwvgXUPZZ6t4ZYxYY4+QxL\n",
              "aP0+ws5taATlf/8HxdAwFF2kh++/ThuDqLvbiI+cr2xH7hBCAfhxnFwJIkSC6RJPDzEUzuTklu3y\n",
              "OC08pU7efRnVmIwL6PActegR5Jft+4Pv5H3/Nr3acnC6NpnCxfZtrJf+19gNrUVm51Ry1W1dJDsc\n",
              "30vWGMkjXT1zmoT5GGqsAGbkZvSgcE0FHiwoIOkmY5l3f2VfNh27hc2IsiNJxvLGJ8IFsEwnYKpS\n",
              "FXhCthjuJ6d2o8OvqradfBdfvPZSkBGRJhqibLuFG7Zmy8NccQAAAqxBmwNJ4Q8mUwIZ//6eEAXS\n",
              "2/90cnbdEwAsn8EmPnVu6EMy/41KyTtWlV+6FKG74e6oUMamHYX6WzABITxnTbuvK9pnWeTHnK9C\n",
              "ttg9rAPIpN+EGsdXQesURduhnx2yOyB8FEzMszjwOgZ9pLsuSukx6u1RZ52HzRcWU+6mktxE/6j1\n",
              "Kq7RBj8OM0FwVb+TlxjPjaoZ7eseuwR3sCVNpsBahfglKhp0f37Y9c5DYVQgDDe/qeLMGV2sFK+a\n",
              "BhEHUceJjuINWCJWGylT23QyHGPgatQf+MFsq/B811ZiH5JZPKscvVdLVrNuiMPoEFqczWez91DY\n",
              "3T5I6F68Wl25MYodlDLuxxmepJcniQ+qoG5cuQzUsprUDK4wS73IVjRTwPzbFo7OhST1yPZd7Ot/\n",
              "rIPDI9dv2Biy8G0mviYH85CbHmo1HvYVK0Ez8S5Chhpv3hE9PPZsg3N2GWoPsFgmfOSDmlhaARpc\n",
              "Cbxmg3HQDBtAF/0wtmV9wu9c5HCF/DqIeR/Vg2qPlpky6YJBYTaWcx4qvs/LA4xXLKHWWUXoAtWF\n",
              "NgCdKmOP3RAB5ANcWj0rU5opvpuugfbxTNLR4PIhqjB8L27GjmtfTVIAzPw3dqxUT8JJjdemjRvI\n",
              "X1twU4oxngZo2m5ZdUieM4RnW4E2Rb32KUxM2hrzxVofIKFUl7S6CBlkj0VD9fGpJCFSWs940nHl\n",
              "8G/Fj6rgDqPt+SWGPT0UUNBhRZxHvcXJTJLGyBWuDDCVef4igOOrYzj34dIyzw/i0oWEYj158nGp\n",
              "jGBdsCilZgKGBFnneiSXso09/CwIkEUzYuxhCI2JDl9X9tHBe/Sh97aTrPGVU9OPhDFtQcKICO3T\n",
              "1V7uA7y7RXKbMFBUhSDnJt4VWTWQxlPEJGjPgwu20CgmWMFilUguTM4AAAJJQZskSeEPJlMCGf/+\n",
              "nhAFxcdkHzhp7uAEKeutTZjrsthksEuxE0+4/V9zYlwjxdEn96WjftAxdix8H6AxP4V7j/WBTvnZ\n",
              "Jh/ArF4OGXdF3vBDADnp9yWF70ZClrxi4jACAnp79VzouUQ0vAxl1b+49789HTC3bvKBi+xBh8dn\n",
              "TXRVKfD/qFdtccLeXZR8fvM/lQ+1QvTAqauH7RuDtcu16ERiNqHHadwD6tooir8qJwBWTidrdnkj\n",
              "JBmgEVU00dDI0NEH+dQ5JXmxpei8TvDSarUdU5XuesRxNRb2w1K3+H+yBheaCwXNOFO/lBfWOWJp\n",
              "u/P2x9nZd1/9blwi4W1nief2fvv11CuhAPAOh01ucMnfBzT0l2R9k/skrIaljvTCY/AprNrDyTYL\n",
              "4XpVWq1TlvK0uaaGtzq4wFxlqDH18IaAknK7EbDvKdztqqdkHahoq9e0YTbguvS3zxhx9ZJuASI0\n",
              "1bSdHsetiYcf6Nl4AGmyZ6smKuoP7c6q6j9tcV7KLHnyXrIfPMH712QIzplojRsPrcSSroHNrEbp\n",
              "LbgzDPO6tg7XQVwmb4o2MRFhZJUurbjhN31fMvMRio99gaE5yBE87Qo130Sy+GLL5f/o9gztaEk9\n",
              "Xtgc5fXPGjlQKxIgZ2cKo1GJThcRxatbGqNYMtX28as6kPbOepbmqZG28UDgR3H37ldKS+9POStt\n",
              "auZvjkrgEewNUdcT6+PyRhDGanYzrZEhuqEPsBctI5oRjGimTqh2BGOmuY5u1eTOv22mAENiVJKn\n",
              "7OypAAACwEGbRknhDyZTBRE8M//+nhAFzytbL5KKgADtBg7b29jkKL/5HdhxbozBIwd7aiT+8jil\n",
              "sl90t3gzOwVa0fmKKSqZ82bIKkJANpGGmSdAnTqMWOxlJGVHJwcVQDi46GKL6GtaLLJKfu8wf9jo\n",
              "eNprTt/vECaH3bnio1Dg8SONd/L+sE0gknh7q2xTzAF8dPVkdTs607yIPSMIwamZT4K/rgrhlcTu\n",
              "r/fp0uMhlxyXWLKHUjUtCeCoiEbNSwQ+h6+nDgds2iGTvEdA/cIkeMOn5+eTJNsCQbq4VSDCICMN\n",
              "eu9oKWO+WPzUiESxvOaqYXs+LDa4UsfWaI9jvVyue6cyeZJBv/z4qrB5X8nKbjNGCNBfcCu2Ec4H\n",
              "KNrfR7/aBxXgdKhFJQQPc3vbiFyhc8860+M1wuAzh6rYzLeMC+6hSTXnTgrXmBnEsGPA6HP/mGq1\n",
              "IkSDtc9Ummn4RGsHi93FqXRWau6fx0rOpnqMay4mcOFL7RrF8k+p8y5kTUMPk2OgQsjp7oDkPFd2\n",
              "iKJPwaSuXhtt6T9lHOy4XDNOeB+jAvKeJoaXOujuarAVIVVJjN5LnMoJKQjslVhY+YOTXHAg2yeR\n",
              "LqpB2XUqhd9vm/5kwhFAIWKkA49gcOnsAfkihK0DfvVVIXwJFWGzCZh9m+lTg9oEPr0+etphzMmW\n",
              "1T9s1fJH9eJ6d6NhrKaJc1KhWyhsS1HD2uMmvR67MD0bjba7TftpS8oKWkdKzZIla8mBgEgzZ0dK\n",
              "AyZhZZW53PuCpBQ31jHRmIxP3m4B1l+4Of3eW3BMGf8jhrLD7dlbQf72BOLkpvuXRkV52jts5tvS\n",
              "TZGPPtvrQHDjAHyxvYr2SRcVkDdjeF6B01Nr+bFQnmE5vkGo02iBCU1zLsVP/5HHsnLRWyjMwCtv\n",
              "OVOtZZGqJ3cSFMu7RzU+/x4o5paruBAW2Q7BAAAAtQGfZWpCfwGA3SYnMs/lndgACGq331AurDbM\n",
              "8EUopr/RD1e9ZvXyDeO+WMCjefqwEBy6L/MERr05DRuniAdOy9EzotjDgD8RAJVbbhq1c1Copvrv\n",
              "QW6zaMofzk3m1C7/Vk/ic/njZXBAu0Pc3+wNwACGNlmbtbv7Qjrb2rDStu+c3FLMvPlxW2p5vi2T\n",
              "nfLj3/zpdJbe5oXs4gZqRZx1FU91uCwynpP8mChrXuhHMh1Eaf4lP/kAAAIhQZtpSeEPJlMCF//+\n",
              "jLAF6ZjWzEwABzsxvENS59ac9/H58pk4vLcNbE8jn1KahjRkR0L4svURn98wu+lKYcXEtFhW1da8\n",
              "iRg+tsslNZ0jv4KOs+McU9xM0+CuMe0bUScSrLbEIrvy4kcj8t92X4Bnp9YO+c+fyBSPzLcyMxXh\n",
              "6nIvKEY9PaMT6JlL/SEuiXwaze+/N2DH0vsQWvS3mUIkfwv8D8wH9rQhohUUYQRGNS0CAZzvMA1K\n",
              "vTtsUKngQ00gGBkMc/+bmHrufwxn3Pg6QgCA8MBiBq1WX3tF6dfcyLavMawFyn1DKch8fZDMquoV\n",
              "6SNe0JviVvweCCWqmkKEg6ZfiOauxESlPxuUZeCyYkWSLhIYu3qq9IuvDca31X2vP9/v+1+Z32mc\n",
              "svArkFR0JobSBTKJBd3/UrsRiLXguVMjxa1dL8WnPsN5EU4OGvXBdEMtl2e7vZ8g17T46TuiHYit\n",
              "IAhE9gw6r247Spp2jKEz9QaIzs+xoMATl/Nk5H+FlwRgkWhyyc7OcLxrh94mKWnSAqZUDkIBXmB9\n",
              "rD5i9fcqu5OGEZTZKgysrk+MczFpDJNdm6FRcGexl+yR14G2XeKJmC8TxCU0mfvLKftCVJA/iLW+\n",
              "isJQ3XwpdDWR7KITgJ3JiiDxHr4JfuBwWTD+zBRbbuV+/V8PVXi0vZRylTvXSVxn16K/ihXovH9U\n",
              "ECAjcYC/aE2k2QVkjgqkIHLwl4EAAACsQZ+HRRE8K/8BLiP+C1aU4hB+kHZnlEd5i7e7EOGHrVlY\n",
              "ThhbQS3kP8gLlEGl5nWVK9iR4AJVlACk2CJBwgvn3vTL+mM0W4QpqjigQOwS+r0F/ptI3CRqcZh1\n",
              "Ajh8snSp49WoJen468DOJ3X9UdCZM0PPmhHv+8eHVbhjPVbSUt6TzLmzoKcaN03oL5YdChx6Ouw0\n",
              "lNRP8H4brxHDjqKSKP/xjcfiJQ94S8LYgAAAAKwBn6hqQn8BhX5kNrtUAD+eW+LaLu+WG/c3Ia+f\n",
              "8YyKSQx1MBLmSJr8d7Rxpnk27eqbN5v2H0z3WKKxcn5/neuoznTLH1/E/q16y3fjnAfpXWG3O3FC\n",
              "xI43jtypLG20H5NksDGOnYiJ9df+hBTpTv/Y7Y9A/f70WZlye/f/Fe9bqfF5IhdEtgbDj1KTx5qM\n",
              "ZiPs6y4JSSlA7pC317lnzwC2kej7rXdy7YRm+ZaCAAABT0GbqkmoQWiZTAhf//6MsAXillpFGwgA\n",
              "arpY2FPq73q3Lg+TILKxW/8H1frCO2f4fWf/HI1Xhzy8U9EE5Sp0GOvJL4FImZ+cMChPif8DLlm2\n",
              "PbWHtNxDqwwbQlkbmX+tDzn3gaB8BFuzngBCRELldWt5MlLvu2TDW9NokZQ6GK1IlHwBJR/nU4LM\n",
              "leqNpIHKJmPn+zJqPknnK6B85N3BqVffXvivaAeLMD8iGyjcWh/zfdbqcTnyLajf8AgehASCGZrH\n",
              "np/mSPRK3diy1zny9TVDgPk+KvbOo2Z80OpPZShoKbxX7Z1Fln4KItZ2nqJZSlvyylBGhKVChUEY\n",
              "YaxcFkZzNKbI+neasWp/5VcVyZ3/AAdWFhQSxcAFEn3ni5jMSM+FP1ofUThGS4m3dYfgv9f8gD8J\n",
              "DHDLJDK/X5Nurjp/SafiyrJqfHmTDDF3srjBAAABZEGby0nhClJlMCF//oywJPrd69agkW6d1mxf\n",
              "CiBiZXXHABBxgknYOZeD4EFDUBs/w5l/OJcxypCMOjYv78aEUo7/TtArYqnahagWGf/lNTNp3LV2\n",
              "wa9BLk60DeS05RpQMSo5Nh9EQMqSsubFRNbM/0noDnG6/OCBPDzH5s5ce9sGzA47b74TTxhntVOx\n",
              "ujNv9JsoGhFZj4tEGhSLgPxo8TL+GPvZuBUMPy0v9qHUULx9mQOVmedNEG0SM/b9n3qIpyC+DAVJ\n",
              "V0IbMuz3cMxXgkgDe5fxYrMlNzOxaxRAtOY+XGIDqB0lXD4ovc9iq9Qmsx/SjdKXDwDgMv/jx02S\n",
              "kvXxzLw84zPwpwx9hR1sNl+edlPmbMVAQ3IiBl/GMQbZ+6g1tZizz5nQRxp+lvwtAJtJjQxKJWRt\n",
              "vrHIPLdzbdkaL7nFMOjF9si+XgNTwYD5ZRXgK0Y6/ZLsCHxgcjKU+vj2tQ6AAAABeUGb7EnhDomU\n",
              "wIX//oywBeCOZujgK1c9jkIAv8LPyA7p8WGmDv+DaHBOUSxxe5giykUquLXLcbGj/i0DBGtFVd9p\n",
              "ZtF57KYxbRPDc3iMrplDvWUtGXP3QInAjTtT1V9fSDuPCQ69juOovlM7LqHM3G6GjuXP2rLvcU9s\n",
              "GF4F1LpFJZ9ETAmD5n84f6Kfnnpb/Jmng+14eO6zQTV2pdHJHeN3CHjiybxvBLArMHoQt7ipg4DL\n",
              "UcQONwiLWoFFJtRSIWEgDll2nVTDUKbrBah+m9z81cBP3HRbsnyLxuF0KAUqKf7X00TqKMk40OST\n",
              "UlYGnryv30g/KWhNuYGI46/ThnUC+J5tw9HUuzU2B3VokkrGbUWO+hwMmq8Obla1VnH/7V/RXXV8\n",
              "wEZheBw2u5aM5i7sBn0LWO7D7pqpxaP/NgpalA63JAmru5+7r1u3ikVlHIDyzCY2qDBgCLaxTktA\n",
              "68tWPKn8JTpGSIu2CAvveG8oZZGUEqNfyfYgAAABQEGaDUnhDyZTAhf//oywAu0lOzVKh/g1ysvM\n",
              "AEPVxOz2/QOMuU5JkKtf4ak85bhn6/rBWwIDhyelWJQj5sHT3h6FmYnAH6c+QvsYx7nruYXhGse+\n",
              "hTClxp2gYKoCIbQQqwLh8PC0Oa7eTkJsnU40L1XlLeO4ZVfnxg8H6EQxUK5ueVtWrCI2/X+4cyYa\n",
              "vBFV8uLE4t3DFdNeEMpfJP1NzH2bOhBTP/PaiKveP2Hp8IcE9iPrTGtBsg8P6xRyeMjr2bBLVQzT\n",
              "FnVi5qMHR+G1zfVYq+TIoimbQeCIzFuMdiDr0H4hy8BeYCEEye75al0JIV7BdcVlZAxMSaxx81uM\n",
              "eKJ4ayoXAHEneoprmZvLgbnhJdJIHjT+dEPFY0EZX7NafnvwcOxa4jTXFDNj/eOPPbtho0J+lF7E\n",
              "fh7dA6OmkbyXAAABekGaLknhDyZTAhf//oywAvHtZc+Ouf5zOWQBQbVa/0WhzatAnVfhfXme3Irl\n",
              "mBNNVeUMY+7y+8gDxQl9S4vf5w8897uUpLOGpp9HcXZT265TdT7K272ibSM2plflOsXc575FMghW\n",
              "Wp/nZJEt0IkVzA50z0J6g5O4XH9EHobMLXy+/WR4JzHiZchIpGrDxhAc94o2+9KRQ2U6jAuLsAX8\n",
              "2hofJUuDwE0VR77Z6mw66dere99tQTSXW5xtTddxEHphe6f0n4aphjJvVt+4YxfLJAZ+O1t15Hcb\n",
              "YJK3DrJ2DiPhz9uZA5WgJhHdA3fr6aIfdTFt3ieeHdSwYzDtngYLIe54M37vpH+yaxoKqVORZ5dw\n",
              "zDkgoQyhlSbeB7PUmYsJWzR/EOU+eWv1Tn41Pm8nMFxv/CM2/SVn8DShuDeFcyE8Xo44wVwcu9qp\n",
              "epCQqHz/CcmVia4G8xISVLRz6xD+JoCy8q7Q0AnnIiR5Pgi8zqubEHXG9HGbbwPj0QAAAWtBmk9J\n",
              "4Q8mUwIX//6MsAK7/bUBqwdHoQ69UTpif28x0Ul29ChJeG8ARpnPFRcbKH+NuW6d4U/CJw+jDQ+S\n",
              "imDbjfQoyN1jHOpir9YmlIJC0mILOaw+2aNFinaeijHd12n3+XwP/k8ssoxepZKkO1D1A1nX5lsZ\n",
              "L8yQapDGTkBIem9b+Ve7nvdIZSsSmD+bnW4eTos++QAwNcXe9nj7CFiFFsLkccv52HZKDIEAv+be\n",
              "0grn4Oj5yFTnZuLXH9VcVypW+966M8eqhL9TuduYItpqtnwgwJ44sMsC5IzZEadNaQVLFtFcYQHg\n",
              "lfrQOtXfvVITxIxRzYv6KPcd8qhJZpDWJLKyPjUhBDQNgbdK+VFtyWEm7tLl0As8k2/Be9Oupo2/\n",
              "1BcSkW/WplPbPDs3ucdzH5CfId0zlP9vWHZkN6n9q1Ho1NRWAPhAzcBUVIGorAFb/l5j2QLAGI+d\n",
              "cHd43+dI9tq2lnI4I3lSukkAAAGiQZpwSeEPJlMCF//+jLACpp8qMSYr/ACf0zZmoo3bYLZW3u8a\n",
              "7b1w36Mx3DtftoyUGuqYHrfJnpYPIeLx5jXfxhaAuRYrK24bDaEzb/voySbSiwfVI26NuLJuYPkd\n",
              "58JdGVcOFLT2B1uSzZ8YC9dq7PuRdhjJRH1ExOH26QZAaip9QmrN+xsOFZzk83cVHLio7Y9KRZdC\n",
              "Vu+cBMR2wBj5bq3cjmF6O3KYVWBMVYSh8dnP7kFmdud8I+oDaK24D8Q99L5OYzCwhwiv0vGLFZ8q\n",
              "qaiCgHRBDeJ1RwQdoKwzPOmYxJp02JOT+/UNj49EVgCkmH1MtHH+vCAo6ZrCqomlE5ULfjEpA5ul\n",
              "2hCf5/yd9ZdBXPOT3PJJCUhX2wB/NQnsWjB2vd10VP03lafslRmNLZgs3YPlhk0NwkaKDnxMtX8F\n",
              "Mb/NfoWg66T8vd+Ymli547W3+z0HueuV698F5Wdpwd0hNJ3WmsApeb0u2RCe/k4JxbbrGsE9XzXk\n",
              "Jo8NDKnmGHWvublsrZnN+kUDysXtcJVzd7heoi4q2hF3eiC/dm7ymgAAAZ5BmpFJ4Q8mUwIX//6M\n",
              "sAK7zLj0smaAaijZvE91OvZ72gaG+FoqFJ9YrYasyF7knDJJbOAxITEpThgDGL3JR6SyBG6Y3RgK\n",
              "DiNfTeryDlD5tKKzsmtgECzSov1xr713BNI2Ahtrm1nMQoATgjDADvq5sWtFsj22OdB+/3RBtELA\n",
              "VdHYnMEMnW3rhrwwQfFDMG0LDWY96vURH9hWSoY6/ACJLRZg02+XW5e1t3SI2MN5N7QThc7OoAD6\n",
              "TNhM2R1Bi5+235aPy6VH5mVArBek7O80ZjEUJ0qRpcW1XAGzG2KGkeoZi+1KGkwgXEsweORZOrLS\n",
              "mlN6g7Y8q2+pSpgboOzdl6eTJ6DA6iPNXjIxVXOljsYfJyzzbZnVNtMlKCdTmoJ2CKpKKu0bWRUq\n",
              "2oL8PzMPUlr87Skq7c+7TFlmJtum0yc97ON47SieLOvGG3wfbdixENd+4gWmecqPdvPtTLqLmI4m\n",
              "w+/oPjscffpgSpaUmNREjbgiiGJ+gXjeaWZ7nDGnsZ6X/+7P5iJXPD6VbI+eriIZ9HVSp3TS+NlV\n",
              "X64AAAIHQZqySeEPJlMCF//+jLACpWQRMAorpg/N5yb7W1Wzlq1ROc0gz4Txy2Hc6aJEWvbdMSXP\n",
              "VV1C4yASOkGYhq/cgZa+PiuxQGvZPU4qHQbe1lwMJ/sDxxmS2aKlAbuhSnfJnR7q4Y5hvhrxtnWK\n",
              "uQlaKh2TQGhNFsQ9rbVgMxNlDpItaZMAH3F9hF066d2ckTQFoFVWdvQcXAw2gs6hiwo22jrU0raQ\n",
              "VoEhAZ+I7YyjWLha283wo05J0V5vN2rAyAvKcw0bWvpRU1FDtf87roF8NrjP5k+0by+zI/HpWw8x\n",
              "z3DyxWfmmf1zkSC+rQlCADb1YBj0enFMJrBYH4PCJl5wk9TmMFxBCMyUwwuzePH7H4LJWsMpP3v0\n",
              "UKQBCIVs1/6FNMVfqBoee/9YB9VF1QzBDXTE10WSEvkqoDJW6o+3QcDC6QhLkdcePO04egWYzBUn\n",
              "7Jd7KHlPA9mVUOFPQ5LDX3KnWtx4AXsRIt6vmMbiwz877RP9c0Y5D9ZDprGBoTbYEztxLmY4RLht\n",
              "/KvMQECVzPRN0ldgMzbaPrh2Vcl37hmM6Zqbtvgcn3hmiuwo02vRQGcxKRuoku3Lr5NoggQJoGUG\n",
              "DC++FLFIsSU+5KinNX8B3RbXX+wJE5NnA145Ow77+FTJ6F18Uyd61X0Cab8zyE7vZRmZhfjr/Gj+\n",
              "51T1vrUTdbmmBYPRAAAB/UGa00nhDyZTAhf//oywAqVvHAAUk8M1JUUpfL2KO5+1s0SG/2y5zbeH\n",
              "3taOUcmcSRbo0+19RWqNkcCON/QncMrwd7kcK0t8rNY+W6tFe+fbXBDWDoafEZBuQZvibv2xHU1H\n",
              "bIWXE7KGvPkP1tKxIbHhZHuAJiZGB5AhykaA0QM0TFCFH/RWTyLT/PbbeuPknEsEilFGo361yMOp\n",
              "mIwqqZV5+deHLmD5cGlaHZSgG7i7Y+Eqe/3om54AYqY1uqzrNwbWk+BGnOmC3/3EZofYh26KpqrC\n",
              "amrz0EwdfqhpRhCFCobXhrF5swStz4FgaL4MwGOXQwlpZcMcJKEu7MJyfC0Zoht5faVqL371gt1n\n",
              "oIm2RAUP28WGaG4JCB+Q99P+1afbyHLXIK3E4zWHy9n0IPgXJmnAWd7LF1AwdLwWjbT33g0SL0Ii\n",
              "/ZdrY6UGI7ZZpvuaUHxruMrqADG+XgtMYZvou5x2LziITR32y3/mvcGxskm/K7FYk6fHSJmjEJt1\n",
              "BMzezIx+axraFwTpgJzmunSPz5dvRMjZW/uXV2i7DxLM8DrKbkLrDkD1qyUa477Nlv3zP/tL9JWF\n",
              "aDqXE9HX7WMe9ptxN8vsRpAssN9UQQUZuND63iUzq2ZDiCNShj/r3SBpbRTm38ioEh2wjOVZgs/R\n",
              "pvUddJ17nAgs6QmYAAAB8UGa9EnhDyZTAhn//p4QAp1EVAA24XR0zrq1PuStpasF5lcUpJWDNriO\n",
              "cW6b+G9VN/mIQB8pdsmSalPCpPSMkALDJn16VceMBkmvI4Dd1kaIdgHZOalm/6enbnlA6jT+IQex\n",
              "mWH/r1lxI74nd1eLMEUDuk9bYVCnCeGB4GiIRyGK/SLGsRKZEmcgIH0GQ5qOgLJGP5SGtw17Dc2T\n",
              "rjiYYytzxIvjbeKdlnZL//3QRdY18pFRvoC8I8wu+OgtXxA/NLn2GMd8L/qjTZBbg0XskYV7OQg8\n",
              "uEQYGZ0R1fwpkgaf2rMUuF9ODIyEGr7MiITrXzCHLdm+NiF7iqLRwDHGgavrc1JKydjuUerOc3W0\n",
              "SQmRQvRA+YVLEDuHfWmqbFlXQVh2Dhk5nU1eNU50pjTL3kVytMigHcibOcRerQAWZn7ztcQG6Dhx\n",
              "rcAk0wmWLGqD5xDq9zHvDQ+De5i1PluRu8rRqAvZVvzuE5YvydLS7uXay9Li2ti6a7h8c/fS/Pl7\n",
              "a0mnqiJHYX2pJhWmcAWk/Fz6U1Rf4tFKgnIn+thImJfGFtQK1YKWGlFkd6CY+vfHS3Zb2P6tWaYj\n",
              "S0UD9BVuzYItHtMAx/U1CmW7UgQdg7kmH/d6bgeBlaSatG0+7aAedzkZAHifL3mkz7IYOnNMyrBw\n",
              "AAAB0UGbFUnhDyZTAhn//p4QAp1EVAA2/Kde/Gbw+H17ZvcI29EU7/6tzQFu94ssUjHvmrIzt4TV\n",
              "OHZARxXsy5yEuNzphp58EH+CjU0vBjqnMv4/SISx3LuoPLLoWoHkAuYHsYl6T7+yEr9vvix3jOXd\n",
              "aqcPShO/zHtMbTczMbeqNDg/DvL7NsboQ6kuWYIt5oP+I1dKwb2fVY5S7x5WRy9a2Kg1Nk0iXCsT\n",
              "orKiofE4w3tHm2t/OSGI7cUwPtlIs1WpCwlATvDDAWvwQCViPeAatO+JFlJY7YnoxoYW5ZLVXXCX\n",
              "Z/bbLTA68LP1szWJ7/EU1aydh4SAuvlfyro200jJ/udeQXi64bgNr+1XdyTeLpZOz2GuExLqpKg9\n",
              "wUhwq5E9bxiwMl/KZs7FvAiZ4jVO+fIFWZcao+j6XNrVQPwq3MY6zHi231mD599JI37TCSf17DWw\n",
              "sPjGzewk9EjWFR5FXlVClOiAv8Z9/zCYFNWPwxbtBvn+Z1ncemn9zp1U8JsOHMIg/Bp8Xg3yyEVF\n",
              "bVLDGLsOJA0psMQXhD6DnKolsRQ8/EgEKgRZOF6FPE0zCB55qqQNcUh4lV+DMcZOyX8uLtV0k1WV\n",
              "2G26K4GdwgZkZF+LQQAAAjZBmzZJ4Q8mUwIZ//6eEAKduZ5AUMj+8azkag5+CTmMAx1PfhNPS8hD\n",
              "aUxAEgKiTxznzElzlZQAOPbuxh7HZfRUQHTLg+YxZRCXYWzOPmL1f+K/6Q+Z6m8NwG3i7cU5QbP9\n",
              "H7GAVfvGzZUKCiddrOKffALVVbB8EfPTNmjWDaW1gp4idh5bfzAgRr/ju2Bk3oP8EODgs9csUcnT\n",
              "zA+rHQglO+XFFozm95AYL7nNV/GZxf+sw1FX/RW4be5U5e2IY9awkPwJF8xBX8QUCdndfdcacty7\n",
              "WZruAWBInMBcHb+Oy8WXmF7zdxGGkOvimIV3iyyNhKCXMynXWEn6ngMnNq25vMNVY9/5tUj9gZLO\n",
              "6MObJI8ATrYuOse5P/46XSvtFVuLLFd4aKihH04ZzGxHknjRtONPzFHQAMfDZH/tirhnJqtYsUDe\n",
              "VkArkz/UNBHSudJA5Qb+KYJoLQNTdsfrJW1WAkmlf1gOZ+I32y0z3sXzhWAC0C0RTZbXRfd6pqwH\n",
              "yJvKEGJhKWEz8ig5IG21J3erKj1bLTcTXpvtZtOntndDhU8u9ad+gh7usKz9YDoCn15Kjn8Cv5FW\n",
              "/vaTLy2uxyRdW+OxEmWvY/8yV5Nrgs4wNWxVkGoeLfZohmTMLVQJyfxS2tX0CaZhYz1VBW1r9x8U\n",
              "xsq4/whr1SVFrlHEJE203PrQn10r9W4AwuqN5JkP0t0vK0DKbIcF+4sjIl+GOwMwREjLg7jz6DpB\n",
              "+xQrGOA2UoX0UBvFQAAAAfRBm1dJ4Q8mUwIb//6nhARLpRh4RYCUA1Zb1k7h+3/wXUkFE//L/XKf\n",
              "bfasmxOuD+ddjbTQjNTyMBcIkQPNMoIXoG61Xwg24ZCsZQrwzBBRKnNPfhK641sdnxWaflFQXcUt\n",
              "Z1uz5bbgv2zyLOpmsIXvJPE52b9SktRbAfdxA3Jn6a90nYkkfDj68CL7RFMY+b1N4hg+mkr+Vitu\n",
              "a0Ec5/BnMporpO7qg3QA99VV23uXxmAL3YcC0S285h3SyI3t+bcL/hUCPYHhgvt9P9XnQ8z5YgLU\n",
              "UolXZ5jRbaZTOWiB+fGtJAjmGMZpBA7jlyCwqzA0vzQj9bqH67vL+RybrG8VlF0f8gBt2aHpHG8X\n",
              "jMmK25qQKUCtDyMOwAEM1ocY5K31vbo4Ris12QFJW51gHTiVGceF9eBDB1z2Kd61e3zbGzLp2hla\n",
              "9Q5Fsy9gCaCkOxDY1QG12/rKidFENyroERcr/232rZq3AadsiA3a3dcFqMj0lUSHuszOrnhSpOOm\n",
              "k5nj3JBKsKLVf5fyfyKbttoehFESfHy41M5nq6gqqLSNzme72oQ8ZEFeJ/pYbfHC6lUrlPI/B6lQ\n",
              "h5frQ4ks36Rh30sfTLLbiOxm171C1WlO8z7tQMZUNgVk/jeMIM7/o9qnZ++5nMeb3PpGOlKG++T/\n",
              "pRrRswAAAiRBm3pJ4Q8mUwIZ//6eEAKLL8cgJ+7o25GJmwCKcT84ijfMe9m4r1F9D+VOCtIjuLUg\n",
              "BsdEmmAL3RmDAlPcepToMiTYZh7UjeRuWzv5VX8iXHZCjd+8a2NFDkbjfA/Kuqro+yC4EVmUeeLj\n",
              "euw/B+mw8+GJ0vsBYVqgn98GFa9QJY61IvSfpx+PIp0SEUzKr1Q1MRz1PYbdc80+SvInebic8Uqx\n",
              "1Km8+mi4ZLPPESfl5D2oa4rBqWfl76bPiTXEpEtRfRMjMcRVWlsM8MlN4yOlb/J58mjAaSp1XYIk\n",
              "QYHhiPpZin2NxyMJSOel5ZqHY3z1qTYDSvHWta2c9ZNVvyPTA92IrZqGfOuS/RJL47TRby+i0gwb\n",
              "3VpNTkdT3io8H/u+g29RibluyXM4F41dAz7iBQ8Kfp09p/0yK9OiSXgOEPhIsiCaCoeDltF1RbKQ\n",
              "XucM+HDzf0y+xMO/uE4k/TCahM7/Iwa2MyJhGOSvuQuxaqfDT1C9T7Bl7aaGIx9eMHJ+A5DLRCoE\n",
              "ERgEm1XTV8jZ0RWY7IWuR6BSqsaZ7N6QglwufKz7oA+54CxewM2nS+1gdE80WrTL3bv3Xwrg7HXD\n",
              "qI2hWlijuyyfTyHo6d1cvUT1Kwp7hpcZvFANdhw0zKc2J1qTLVrAyLTHIxjOBIPhwrNSZ3Bg2+4Y\n",
              "e8+pbxYc9BdzKJAQa+f3jPqgdlnzAlqUJnnbeTy2G5athItxH/CKKj+OgQAAAKpBn5hFETwr/wBF\n",
              "R97MLr21hyD6ueVKu68edZylaMB60VLW6SMuPAV6BMIPZ2Tbc/0RiRGtFgzfHbB4GYFyvs7c2NYi\n",
              "it4SaImqQ+lv6U3CBSJo4r7BSYtqbk0n5/v6AEbFnD2xbXY5ofjOKj+m1+aupsheBPZTvOUu07Pg\n",
              "MiW1BEs3aNOf2h5+cTSo2g8ERkKGpWiD19GBTVwiJERMzGqfjRFdE9539vB4YAAAAIMBn7lqQn8A\n",
              "Wu43dZJOLEwHqkV+2jprY0cCcfSUYkcPIEkzf53b02Q7Mx0r5kac9zmUT6X8feCZ7/1k1LTsAMJg\n",
              "XjQrzOKj50uY/ky+GjsRPJCKD6b6+vrJWiKGQ53ptzAZvlcoGf+RjVfuPtxIb8JnNvASIuDcWYTh\n",
              "48sjtuDbZR91QQAAAWhBm7xJqEFomUwU8M/+nhABWuZc5oRMVM2n2q4lWcAH4N6w4wwB7Pj4xKO/\n",
              "SLlpXPI/2scEjyc8sHWhES8OTc34b8KUcVGpXSaBi/wxxC9t813NNeuUnSAFZRm97m2VU/G9ZueD\n",
              "RJf4fzhP2Fsmnl/SwVfTbOSvHWQj0Yjhm13RfuNQtDgSqidRxXr/jGooLFiznHVAdwxj2/NJJ79a\n",
              "SszzPJq/IOtx8KqomweqeI1oqpFKoVm+36wZfSRTCH0fM1vAsYSa/cZ32Os86cMIAS09dz8u04fB\n",
              "WFG9z6Yay0fEE+nAEk6QeqRQRacR9Jm3PhMqWvh8mGEgxD+9NjTksN3u8OdY5OD25gW07x2VQ5qK\n",
              "szr+yTelC+iHo+TFCFzax+wkpkqU0UdKiS96TkT6706L7MW21PcWqw/nKFeaz/2sMwNszAguLJW1\n",
              "PV3sm6qryYH6JfMUbPbdAF/FwBphmPCHeuF2VwAoWwgAAACCAZ/bakJ/AFoLvLm+m+txI7Fe2tCe\n",
              "Arx5HjQjaXJnSF2cy4O0RYm8dKeHRaIJEfERPVT/MakYPuVMkijzPbSBpOiO/mUeUwnzfmzG/kUZ\n",
              "+FtftFXbFhKilpE+XvjZhV5z+L6OrgJq2pLIl3aax+QSPFYRiyN6q7J62MYFcKKhwjTFpwAAAXpB\n",
              "m91J4QpSZTAhn/6eEAKdLRQANvl9JbWnkBC+SZ596iAmURFNLkrFSkEu7Fcj3qyEJpKpl12nzdyo\n",
              "886BHvByHQv7cSm82sApS5KOIzDmPvUiAE6D3N1tvnUL5IQ5l2mtU4AxAqX/INzw7teqwoqLh7Ch\n",
              "aLpUavlFD0+bKHhOQks8VmZouI43eIgFMeJ3gRlWTEMDoqULDRVvTHes+gIs2XO3Q8FEtmpqrJXL\n",
              "5X+cV8WRZNqtzbfMWY0noLotKraJ7t64Mkz1NyL7UNZ0mAuEK6BBJ5zO79IM0rqn437DR7jt1Dcr\n",
              "K2bPn4eWH/jyrl16UGl2QbUhR3ZqHlaPjBJAk7TJSvqNBX8injQj/2foK9wEjEUysdghKo26ooMW\n",
              "X0LUYnS+PLRPB2NdM1R5IiORSYVjkH+48qHQ1eUqaksVWzNhID6mf7iJNjS6AwkoRy8ErGlJ3VW8\n",
              "7xvKeKP4t8kpt7YcI+UXbJ3adXTYn+TSyvXn4IwdACEeiLEAAAIHQZvgSeEOiZTAhn/+nhACi5Xx\n",
              "wFBIttSS9r0QbxLM5HeYHXBt3KVeQsLlOMWzior3kI++caa+DeEFLpFXu9OSY1UMVxIkkPQdyBNg\n",
              "83yefpHppf4DgYW9f0DRLVuNurn+WMG87iYt7UezyZ/BjsPJakIuQQqsxzU8hCIhSVvZokGNFY2T\n",
              "qDBM0JQ0ikF1cWroaJDNtqtvFwzoDzjMXg//a2teNLzm/Oima5Wsze8IBeS/WFHJGjln9lRBfNiZ\n",
              "ThuFsP7xN7thhMOhLsCYkumgp6JSFQJuVx7M05vpyJS+Zipbh86WSIippxG+r4udQgnNBz/9S6y9\n",
              "FHdOwqAPC/SPWLlCNFeQGR+t7s46o9fp4Tsq6JPIEhe356H8PfD2ByfOBEK9GmNWU0Uo4wFFG6WO\n",
              "JN8t044kIY53Ko4RkKUzCUeU25bWW+GMGehp5u07G0i0Tel37iMdZu0fWQVRozqm+SBgkLY05SLh\n",
              "egw7bOPmo+0iQAX8Vr/XOLVPQsWhjLqSItx2UD0XYhutVWpY032OPfLYBCev8OujOB6Pam+h/Oo4\n",
              "/QPPeH8ozpiS1s/BGrW3X2ojwvLSm41bduHtkHR+ypQtynqjUADQ5T7A+aIeO1Y/sWp3GejZb2Xl\n",
              "ApK17W6vGYy0BIFJlepNapSVAiQpZrAMMPPN3/xlbdw3sA28MQjnRHWcTuewAAAAoEGeHkURPCv/\n",
              "AEdiEUpwKcJExGX8T6zW6lPQWzMuBNqllaE2nzbkcFQFqhgHmxD7Puz5cL2sST5hqABY1oVSYHO1\n",
              "Zs+o1d8j19b5r/DNsekrTXMV3JV/eF9yaW1lER+4jSN3FdDAqbG/EG/fMBc3vrzTLYhyqUsiQTHA\n",
              "Eguu9l8Dmc+GOmG5aZh3s1gI0So2Jmk4ZzgyG9qrORjhUMyhaMAAAAB4AZ4/akJ/AF0ZMdxiAgw4\n",
              "/TseYCPFHWZeRnHhUDCM0nJ5O58QppMiuuyLEbyzljw0vzBko5Ul9RCKfPj9aln3wTUaX/3ijLA1\n",
              "PnzK1i+mLfW6lwKwagg89l3Q5YPn0Flf2BxGs+fKbFfmVnob9Kg3h5hC74Z9LzCJAAABS0GaIUmo\n",
              "QWiZTAhn//6eEAFZCvZZb82weABW35CDcuNbGRBFkRocsFIT2bMagBK/bdE6fqNwrE0FpieL/+q7\n",
              "DgD73ncFxpQlrxr/bFn4Oxox2tO/+VAdN9E9VGaWMQmZXmRWm9VxghlNqkCxxkS3fWdutozT7cQl\n",
              "bk5FUrEPded/yYbBGuwRPd4HvFr3eA6VFdFLSk9MJZ7Lk159VUjqBNU/LE+1UExQ5smi38gEvmXq\n",
              "EnZ/6KF+d5ILdGJSS76Nnm6Apd/HNemtwGMhsMErg3tuSqxnzi4G+2yghsHjjZa1yJKXHj/NH7es\n",
              "Tvk8IDak7TdSs4V66uFxTka0k6+zNFAvaCJ8zwO54SU26KnoD/Bm2ohNogPOEyfgP/eoTu/7b7pH\n",
              "p4I67sSVJnHZSczhb4oUIeOen7UE50CcH+FjPb6tC3dIcH8BmPpGRIAAAAGXQZpCSeEKUmUwIb/+\n",
              "p4QAp2+HQBSD/mqPqvnae9TPYcS5ZvZLpn37spPIUpEpKWxgna7PpZxyNgJU+Xqjek8V6A167pJi\n",
              "ZMTu58vzJk05fWS6cHi9yKA3F0FcXuhlcmVp0Vzq8BpOTVqztbCL2cXiBtooOT9i2rmiMItfzTuZ\n",
              "OFfH5aYB/9TFiPVIze0cJbJWFbeXwIJeK4eLGbl2WRm2gBtLyqRAxGpxuP3HiKyLejPZXTT5lGXo\n",
              "yaelvM/y++TSG1JVsgOUOkB4fyYA+KXzc0sV9BJy0bMxxwIVwWQbCM8vereWmjm0PA9Pzqytcx/Q\n",
              "TTfi5EkWh9N+2lbJwjDqIvjqPP3iXvF3DNN03Xxq9i5hYzBAHaB6RvAX3i6aPyRRq6cPxpnNFKo7\n",
              "vfKpJbuN3r4tKM/wRygxdOsOX7BraE0aYTfcKTdYYJFkMazzVUoUsSmI1Fvw0H7ttvyjmIGFTM05\n",
              "/VuCtc7xuWwko4bxkJ5ewF56vgJW1GA6SsXtdQr9SSznihIGh64tFpv5Ah13fd0dwMSLbXEAAAOf\n",
              "QZplSeEOiZTAhn/+nhACnWkeWQANvSQ7snM0uP3XbvNPAPDWNm3SyJnPOIfJsJQojKq5Oov1ajKB\n",
              "423AmkpEPXvWPlNzOHzHX185q+LeyxACbeiT2vWkNbDFTdN+TnkjsvM/fcgbt5eLHpEQmRcIdDD/\n",
              "5D+bzaieHDvK8jJtAfF29OPUIPUgHEuWYyCYw3jqFsOkKK6w0pH+Sei89Hi/1QDIpfscRRewcVq6\n",
              "d1STfHVC1FH+l/xW9g4PWYtnbDIDiaqxR7hMXq5kj3zl6a+xW3ea5c7VnyfyV/KB07HcoEzhPVlh\n",
              "RjAo/D11sUQQ3j0LQBZwXK0N6JBbWVdU953SZdy8T+ADCzujftP4oTX9ec0i6BX9vT4zSyBweZ7k\n",
              "MmbNxjaYjf8+6PG+N5cLExfVOcr5Z9PPyj+qibv2cC6hM4f6NCFDi6wFur6T17OGS51uLzPHCf7J\n",
              "JC5RECwuo/J4dt7mh2LMQkXSYRexz6dPnLRHBl4vJE/DiKnTH4xZY7CgEULaFlZNNKgA3G8tQZzm\n",
              "TkhE0NgKBdFGsbeBwdK3f6gqvcGTvgylXXFChMjbFXgA8oguDnjXBzvjwjLoFwQxV82Ypjbueolb\n",
              "ZUnfsqKKwDlnezwjINoKXJsoVPe9UsfsyEfdhYtngeBxjWcJ9tXcmNUHA0+f+eR4wWRKpTC4DTFG\n",
              "+wLXXVQyzVqPypUwNY2+jHETyU3U6SoqcLBXjGTovNyndtJhq9YKQfxUDqphdOCVlITddE5DCY3r\n",
              "lrFSb8ZgmN1e0lMIdgRu+XRx7UMal6jQdZKZ2LwuRXbdd6/gXAXeofWo/kBKMAXBgEV1NW4o4UDn\n",
              "pJBtvFrDUQ1I4SUXW7Q7akqmzG4ummStmFH7kVcIAbB7LbfALwt4uvvCECn72v8jhtrJezn0LG1Z\n",
              "vCdcU1SKbi3sQugAVh7yL3jDOH9UOAWhZWoHuYN8mWO8FNwcWB5yeIl4lqfEirDw17noNf79Duu5\n",
              "Ea/D04QNUjv2LbsUQ6c/Ig/iCXmOFf+fWwHcisnco7ifkxi+2aNIX2H+NaMRv3bja4NiQG2uZSoB\n",
              "1eQ1ELfuHXM1WHt4eIYehcFmeHEwWiW32w0I7hAzElrFSgr3ZvW7dRHFf5yda3lXUB+dGNB7rdg8\n",
              "c1V/aBOdV5IOhhHzxubna5OIVe6NTDmgsMedNfM2Os9CbEFYuF1cArUIcNte85heeTluJ2OVqmW7\n",
              "8dlnzbvNcH5j1hUNDX2IAAABK0Geg0URPCv/AEaVPtBTlnLbcXB0ePCAEygVd9tlpuly98SKi38/\n",
              "PbtfK+asTSur9DPhRzrhRQF8C0urm/mBWeZXqoA7KbrMwjmNwBM/bjkYXyOjJ2PLve87P3ZJXjhY\n",
              "VMGjcYjv/7ud3GxZ/gwXfK32gfxg0tvELKtuaPSlqM6qi++e6FdiLmlAr5KZaDxBEzBorEmluD7H\n",
              "Z8Etj2BOTlO3Gu4qOT6HOXTtFKamm3YqFNiZXcdK1WooFCS3onsbDNyCvxCFJj2mM6WGCIfufciT\n",
              "nJUQnng9BDzTBFpHPo1zVkfpsuzD/utmwp66ub0DCQtfdAfQzJGWZcA+DdyqvjE2ly41p1c131Q9\n",
              "VXNztaMHvG2zI2Vk1VJKHdFtZsCuNOck0+FlhETjDkZxAAAA1QGepGpCfwBaCVZBCh8N435nHDcb\n",
              "fkYz4/DjrAJnkdCauy42BKl1LVF6cVVUSbEQYDiDlPnxY71TAxVd+zFQarNPzmkY0bjELCLAlZWn\n",
              "fr8OO9V7/NPvE9lk+H1lApn0Wd4iVv6YapIWhA7cKbZhmSJtQf6JGMRHOqzZtXQ7KMzl1VS9SVLz\n",
              "4j8W7xDFJcO9UU3/VgLWPD0CPMv21Z9AUW2Uylt9UI5XBu9fEupkBwqFXXawyeRA8sOLrj6iU81c\n",
              "IAJxzVMpFQbJFAJaflN4vBBXPCDxUQAAA9JBmqhJqEFomUwIZ//+nhACnURUAFIhtJJOmoVY1m7z\n",
              "MLmfrExyHHMBHitxpeP+w0ixDZp0FUzr9R2Tnlx2+01S/d4n93rS/WxCdLSUSF7rxEklSJW4NAuo\n",
              "EXVTZJV/JjAY3mIQPwyFQCyfSELuMPVD7BDgXKeXw8mSDLm1PwOlvxJdjy4Eh627yC8gSmlJJ1oc\n",
              "OGWjjjhy/+REAMmPz1yZkXNJxkFC4k3WRdx+J06kKjiVgNXJXU+p03ncbrb6+FiwJBQu/P1U/3eH\n",
              "068sZ825tFvuJ72lCpOZZFpcaH/goo9kI2AqBFRCfezas8Gy1e+9Mq8ZfyMZd2B0Ob/+0WodjYc+\n",
              "BJ1JiDuXoYtCOVFxReKJJ55qMUvOiySChym+zCvBaV3MhXkWgoLuLnB82y/LysZCJRhttXfNJzxL\n",
              "29Yjm4wzdgV3OqTcjhoGCUHwPm/YiLXT4oJFUhuhuNbh02Aats7zGeppVmnmk08uFNqruK0gYXTv\n",
              "nznDyNb6WdoPcA9jqmReRuVRCWiSz88ZF1q+3Bwv0WtRj+8ZKH5i9B8xme4ywEJfvluea5oSUNA+\n",
              "ExMURH4OBDfe66OJh0u9InOrFzT+kRwjJuuTdeUKPgQA3GlaT6foVSs0CK68YoLjwXt1u1S/gBuj\n",
              "lqDNN5+x2EYizoqfJBYMXuQ9Pdb6Gdpe9ufXFPKlMn5rv6SSGsD31RFlpReDcVjPv33FOMoGTGbA\n",
              "7PcQtXib0ZU10fmgGPQHjk+REtZ876/ZE0KsMPrWzlXTD60R65i/rgNDw7LPfq9Lko81S0MctyXH\n",
              "YpcEdWIsF0g5n4Rrx0xr0A5IYeKf4wT6evjqi8T1BxaO31krX5c9jCAZlauAiay+Y5IrHa+iN6xr\n",
              "xnYpN0exrZpaGdsmroeDL/WQKIqn5TCUs7gp4L+suUMfWd6CxDMzoWTZBaDuX+sNZ2plEJfZkCBa\n",
              "vpJJmQCTYLxYcJUzTrUc+emCyPKfs0HmeNQ8ULqPolIwUs55AUpaIKO6S1gSN+lT7NVYExJ1+2+L\n",
              "MsLR7HFsXySbS1GyzTM4Kc96NcSDvF96x7Bj+F+NSCrYA7yitI0fY78iDdJdjige/COS+PGSzDVV\n",
              "Ah3Zsy+JoUsuQEH2l2rHJEhr/XXajOflG5ZYcpmSJIhlx5pExkEiESypv76Mbrjg6n9kF68TLyVc\n",
              "KZerOLZxHmQQ/SuzuQs3P3dStJOX87VYhQSl3tP+x3MNWwcEgFITOt3zUTPCmXGpOO9T/k0tnDYL\n",
              "WKv9FZHWnmaW+5CmTNpuKoMWcraF1dFbnkisRrg4a7miXN8AAAEuQZ7GRREsK/8ARpVBv7H4RIU9\n",
              "SURO9kzqCaEdE+3YE+j5wqqfOy84ZcccoTTL8L5Ca2Rt4KRHUCKIAPu92dFCki/At5LlScqXyRZI\n",
              "g8tZjHgbZD8TDUdTnklD7NxVlihQ289JSrXnXVQjMwirHKVhzkqJoZwswEttGWcLIhvChJsrBcwr\n",
              "E25naVR+QKpEBmDJr4EK1rKMMDpnnF6ciSdDfbd+aQaTgemPny8lW2p96YuDYF3SX9kMBZfYiA8I\n",
              "ly2sJD9J5A0HwuVQDydvHb4lI9/abByCmxYGh13VkHnoHAm21lwo55rb9kZN56zrwReRM6TgBJep\n",
              "jo16yJqvqPDISpiJVrwE8Sp+aA/RqfOzL3j6EpTzLfaMafjM0pNOXWXesg0kmCQzT+UcCvTKm4EA\n",
              "AADkAZ7nakJ/AFm07LBNJBBOAFu1ssJO7zEHslCjB27hqHlHUV8KobjPNcnK59ieMtuJ6q09PfVK\n",
              "wGuqtqT0ygginzDLzeA+Kk8JnSpkH/RwkXY0IF7sAOPlzgfYq+v9MYdCrim56roWDn5k4+TjcoKK\n",
              "lIeLN/Lv9fxx4CXJcc09MupDoVlmKcRUg/BEVWKG+WLmdtH7U8gQGG7cxRcKlafwsykOD5LnbVL5\n",
              "fs0uUDlfiYuMJGe7mbLY2jbCAav6uYqSgXkRrBemwjkVdZaBsI7dVUV3V2d+tv8j9amYidP5NayV\n",
              "d06AAAAB80Ga6UmoQWyZTAhn//6eEAFRL5phfT4ADg+WcE2p2dv7p5wIEo2nM9CAQcwO1d9vNqn8\n",
              "XE5oKKksehlgBgKxaCx7XtAuof+/5HWKGkIMLPF6S3R46a6W/9A9e/wJjlwav+PkpOXbW4gOFSLG\n",
              "OQYVfxPmBnnuAJc/mZQQd39s7Q7GpMNjXgK8SePvNCszlw0lxf+HWGxmrVYeT5T+6CYqAkYdCQKQ\n",
              "dSnlC1KM93cz4nvagOJnKvqMahcuyWi8o2fekUQRixR3z7aY2hqmYF8efxzYcwtm6iduMQ+0KMae\n",
              "hbiEEmoQF5/TCQuJ/n28PXwMGQIfZvvzbNDVw6Q2U/Cpt1dlCvd97kRSFGlIwcyx26zZ6ZE5xcd4\n",
              "WXSkP7MM/ndYi3Tj02I+XMUyWYgYVY1VBVzO+w91rEO0nUPcMgFUHhGi+I7LEId6u7BcDKadf/fC\n",
              "HmNUEKOtqafcFXaFKPu1FPT8+WUTSqblbtO3g33B3a3IwTQ3r+mZK4qjP6Y0poN1rU7GE/FV5Tv0\n",
              "eeAtl7HfBidLKYWybOpNv0yRJMiUzpQ4MgB+QQOJbRFg37kFaJPmUS30ri8AjaY7uB5HuqFtwNEY\n",
              "TFoLSnbNLfn34LEbPLLMaYxLNZlCbKHomqI+QSVG7c+8KA+PDjAEW0pjg+vqQwRm4WEAAAI2QZsL\n",
              "SeEKUmUwUVLDP/6eEAKdi9ABSITuISGTDZ5tGUmEWNM9lJyJWiVM3HylETQ2LVz/vnpct/MUge1x\n",
              "qfl/UvcoPhKzzEHcgj1t2e2aCLBeB7q/wLgaaEzlYGkewcW6cFUAUFHsqAsIbdh33l+50k5sLV/m\n",
              "Si2lDgmevem4JE/JXvX5SZ+z+6WiN9otH/7PCfMmYWq04/Xt9E1v5h3wcvbjQ5OnlXnDJcpb8xM3\n",
              "vMzkYrZ4/aZ844Lt5jVpuKjMh39DYgC8PHk28uVzG/R5cEMAxJhsppJltbIw/vEKIOejofRGCtVe\n",
              "BHqlTMXslQX/+hFm5Pv+4msqpk+4Fz9+nyyuAcB0CXYEkOgAyvW2G9Og0TfPddRsJhfgzVOG4BRk\n",
              "ItJrEjk3ActwlgRcNq94stG7GxOSOd2gnOPWw0u26iaWUfzz/DhRicJGRV3VQt7cz13+wIrLISP2\n",
              "PXEQAiLtYmyMTY9wXadH7YpGlHXMod4mEMk37U4TjtRWIu59CyVioyU3zg5setRJZpqCEZ29Lihc\n",
              "yV4zpYgOom9A34Qwx2tUDoDeD0+Cdfke7IcItbHVyuMLf6wPyZx3BN/ArDtbgrmt8Zgk41c83kB9\n",
              "luZ2kMYxe8mv0j4K8a5ACTr47tCXXAVgwLS+2/wOntD6zFmQ+vekgXkx+vD166r9pveALfB6tYxL\n",
              "IJh+PBxzEebmTveVqHSVJZX9IxgJrKx53v/9uLHZOAGObJleL4YlZrFOvmtwhDv0DwUAAACaAZ8q\n",
              "akJ/AFm38Axu7cIwI5j9uTRYhTDUyLztKY+Ztsmf5shWCa0x2hJ6BeP4+0xB+M3NIAVbGh/6Np6q\n",
              "vuUe1qV99E+C4jno/UyqEopKH7cAbHFuX5ICHi17b5fIjJUojKOmzF3aUE/cqoRBxa0P4jtCRh4u\n",
              "+BClgv9Al6rgIWhoNcGl42O99/MuvwRDYa8L6ohIpVWx3LkZsAAAATpBmy9J4Q6JlMCF//6MsAFU\n",
              "SXIsdh+liQEsAG89BZvz/egbMauJAMMGrBqJ0abI+E7LGBXfSbQvx75iglxU6cMnuPetpvKBaO2z\n",
              "xd+3siGxbIDYrwwDzsizW//c3axpeEDv1xLjV7a74k5TxCYlNBgw/Qxz9Vy3pxQffJ7XJJs90mLj\n",
              "NVqah0PM+hlm7g0pSaLJslZQgKHIbV6G0FwwVV2GYbh5/VqXlp02mGyrsSI975yspgUquJ1Xtf6R\n",
              "ujiX7KJ1YwuRVDWl4HyXTYZtWWinCiJmu7GeTRDZSmeIUTsz7A+auEiPS0508DCg9ZvajQ1bnM23\n",
              "4Ai7RA/7KLXBZmMdD9rL/eTdpVjndGK49OMXlbuuR7VaZVl6kr+y9iiIBC2LdSvJyxU+zlKezAkc\n",
              "3L3IM9U6/zSVdDS1KAAAALhBn01FFTwr/wBFbbO9uY0ZlDv25y5vw6YF1RnOdxktlnhm5MgBtRdx\n",
              "1cP4jlexb3oNEol58SedKNRsBn8XwRKvxEegEKsLFW1YR/RaFNmQH5jzkRR1VSdDr8rtP7fhOuLp\n",
              "XbfCAs2PyssmR6xcAgIzncxPEE3Z8aEQtvJiAzsPVNnMjCrpHWMUqkNbEqWWrIBivj2SwIbP74og\n",
              "lsv10EwOKhnDvYQYKEYUAJsZkjFieRpN9+vZL4LDAAAAZwGfbHRCfwBa4twIHdPHLKbwyrQ3juyU\n",
              "KAcxeD/4KjIqzwsBRWw4BrX2SjxWoF2JcCuSVACpnuF+zgn2s1uqRnhLqx9wk4aH3BGPcAK3VHtz\n",
              "I1V1OZYVtMAJd4As4QfUMpoOFHeIzTEAAABtAZ9uakJ/AFruBxpry/FdHt8qAXUtTUbK9b8o3Uzw\n",
              "+B3tmYNX6m+R7KJ+YlY1bhNOotol1D4ohKjChT+bCNT7AOqWPAZKqH9Jn/t0byXpdQRH7SxRjTz9\n",
              "A/Yv0YATOF79nyykQufYFKw9ADaRgQAAARtBm3BJqEFomUwIX//+jLABUw0Y1RRLUARHHCtuKptu\n",
              "ZNN0y9JpYjCwmIiOwdrwdh6LPcOoOLF4twBXeyvQU4X6XRsRQI1NYRkF2epcsHi7WFzXA03iM1q7\n",
              "LXrOc3J6AwYtctaSG14qa96B0zZJqLhtmxBI2Ue6305HVvW9MBVG54RPXc3xWi7s8pGzpjeGbjjM\n",
              "WHxUn8qfmJn3fvYgyYm9Sw2qzBpevxN0PGIsOAKfWLnDdQk013saAGkWZXzgx4xXGtVqCAsSOTiu\n",
              "KHP8K/qsFSV1AIkjEvWr5WXrSlYvhScgK6V2gN5DmZTIWpV6+nwijmO6pOzwPNdRc58P2tyF865h\n",
              "mMy3PLj3W/npSjPdudCZfdiVQes4tjOgAAABeUGbkUnhClJlMCF//oywAVTfEwuelAD9gHxX4dT2\n",
              "Et7O0d6uDB/qUGluAgZP0YeNFZk4X0TP2FtH5CJSNbc/LaVx51hUaUPKszJKXyB/OiNB5Yp6sRQD\n",
              "Hf6MBXY5QAAedQcSx4pC6jCj8QRvz/PsX8RgqM1Zpf79iyfajZH3DAoE5VWT6GBiKGEe65i8nN7J\n",
              "aJCGbBtcPIzcVu5DHcZ1+rKcg0TeozN+hz3XpY41QOI7OjD8aATq3UpbKyG6sLbJmtKw73uhSNja\n",
              "neiraolV7lbnytgfdefbh1nZ+ySDC9PN3XDqfNJNt/aqEJRipk97Xtgn+vsokDazKnzXALSD+3fi\n",
              "/Fp8edKxgjiRLL7cwQ46JgR6o8dPLnRFnObK1+aKvDA58R8lzkiWM3Gr3eDkP7x4nNVHFgUDPZlu\n",
              "J373Y/2N1jZVPE/9Iu+JYW3+zcIuS+OabI5oVYd3fEZwsUK/OoqnOAmnmSxe296zub+5eDlvyWGF\n",
              "NjciqlE4AAACFEGbsknhDomUwIX//oywAVQxXswYATKX2pJKkTTQbrN1bQwQ2w36QQtmDJxTnklK\n",
              "0HRB3yNiQhb+TDqy6DRfBIiROFVFqGA7t7sJmLzMbAD7VgvljUp/2V3U/kWkJHWwTaotoFcNjhjw\n",
              "wkacjOjckmHD3bT+1CiGR4iSb9vL8J3NDpeGTMCB8/B3twwC7dk6S02D4GtXYaHrsKzK40s5hR5L\n",
              "vJKWrIeksJPpaBNhflf/UeDxvWEHPcRR+1AAADUdHOmUe+GHMMxd0aYSYr9XiCgkrPJoU00RjdM4\n",
              "5ANdWcg61dSFvWKajamFW/zml3eJSOq/KLD9x1JOyzpUxcMZBFNSAsjJYn0jz5eEC2rYvEUMuf2B\n",
              "4Lo9hpBQ0yNb0HmY0E4jAz8u1EWSnncVYR9GM18EcrTWFKUXZGHnu+ebqvScixKj2YwohlRF+m9O\n",
              "1B+fgzhub5vRmLPcvEMq4eL56C+uFOgIfO4Y2p0wNJh0VEmRx5xwj35znitjzqr7bjxskRmNI0Lv\n",
              "znFhueH+0pWXsSRI4DltlRHK3DvKDhhMkICvyDEq6sKA6wo4yaaj4g45/brlM1dBiFG1OnoH9Yx/\n",
              "YebCSxHTgVtMwEQHLh6ACxxhmG3bkPz83scKS4TX1lZWBU/SsJfpL2jaJcT7V3osLNQHCamwPam2\n",
              "9dJZEmDiYShmlw5q8kuX0qOArk1oAAADAUPNdoEAAAItQZvTSeEPJlMCGf/+nhACnbB+QCamqA5v\n",
              "/Whf9G+zSY7Qkrbc2ka20vNGQPHYbMratnUb1NThvbbnherPINsmNY0bV/axazloMmOaHxSxBpXq\n",
              "nwwzLdpj5iWvUKroSMM5H9HO9B1JcG+tUtGd6IpuHqMrTwn8oEsOewgTbQ87t8wY9H376tYSQOGr\n",
              "mcinP4LSBcsbKyIsTPbtGAS0bedQbUtAgxdVun/9nL/2PVlQxHwSQvs9+nWrPTrK7skoJV1W2DbG\n",
              "aa0IFvq1kIjcAdqbeznbPNCd8aDJ7a5u2XSNST2j/v+HkYNWgevH19ymf5HTAVWpV3aFg+RLIq9L\n",
              "jSO6NL80il3aJdXvYe0fnPOsXf8ISsEa6Wg8gBJaV5sLCTMk4DOE6dDSj19MFckHo79PS/f7d0yG\n",
              "G27fpChL/oBw25PYkgs4p7Hnaz3Ej0AkLN9zgAZjtLHGnhb/QG0xN0x40megkfPargmXJix9zH8O\n",
              "YJ8v246CUZ8KYg1vYjJuqu+WkRsnCc51KrXlsOSM+s4cXsY5T3SXT3mb5vfUMrFUO2LesZXfni0V\n",
              "b54T5de7X+DUyi/VOQjusQv6c8b1nPKK+l36zJUoctoN98LY7oCwoHsk5A7+eKB5DgknhTOmkPwE\n",
              "TI6PkkAKLk7iYt8INNuQb1unjoIeaG7MF0KC+XcJpNIXQdSLl7aVVDhgnjTjZFRxYzG4gOrsJtkm\n",
              "3Zfmrk7Szjq+85Komm7IvXu5rBAAAALeQZv0SeEPJlMCGf/+nhACnS0UAB0SsNvHhSA8/4t1M/25\n",
              "jD0ixAZ7BH0VxVfIxSNQGKqy3wNt7eD/jKCvKnxyh1jzW1DRcZBTO9rjxmEQLV9M00sXC3+HBYpa\n",
              "XVml89LVkijwi2xk5ESvz+81wCyEvm8PGIboZiF/nUucetkBvtfzJQZA4UhrBl8QUlq/TmzLI5Fr\n",
              "u6TUxyKvt4cK9UCIMbE6XhsZAs4lE/bv71bWMEm1bI+TvcAQiet58UUscLdeKiIewApSyqvWnUeR\n",
              "TI5wnEr7GMGdl7WJLCb+VZFqW77XOL8arRFpSRIxxYlN57XVd67h4eeGjZEQu0aE49um+L/XEE23\n",
              "mwe/pm5DRn0jrcl9CKH0Ts6sPkyzjLdNEJeeQpl3LEwA4uwQGG4En6yzO0zBvLyeq5yJFhTcXH4K\n",
              "Z7PSOwSitmP1uAsAArZ2J47I/4BNZ/0S1mTpVG6s7I8veUKbNZnPkWpDWiyDXRVlCeD+0QPCxmRY\n",
              "AfHHDI+TpZZkCnkwVRyxLeHjOCIZlsNLZqmldY1smpftHlgsoOY2Y3NI2+vz0Q8o8ez3/65+OB0D\n",
              "ylNafL6DcUQLYVHuvoI29gVChVj0dyWYWeYSAmmd8lJeCOd4Edx5YtFg/hJW70NvQSmfd2vx+H1s\n",
              "38M86MwWw8Jx0q63ovs0wvEkcHeYIO1crzvyYatpO9Wk2v2TUR1sC/Ys/wgH+swYIg08cI/B/qyz\n",
              "e2jnjIBV7514j4EJgbvwRZPo8jjZFcZcBKTlFFXvZkpq/ooVpyXzpWZWPSczI4i65JNzUaVrxrWj\n",
              "/L/k5IWOJj6sYyRgzccdLggHpVb06TPTAdZsp+sLb183uXku0MLRR4aSkJooi2pcJzf+sI33Kikr\n",
              "PzgAmV62twGjpKbVaqqJwYsoi1ZzyVcWcDxfBbeM4r/25vEqXaq5cGFaBrx3AVmZAB3WdgcSmm1c\n",
              "ZD/I3n4bUZbL0ggJtc55FcUAAAKtQZoVSeEPJlMCGf/+nhACnSqE6OkXtI+/rABdYG0o+RxC4e7a\n",
              "/SsLfPfAu2py9pMesApqwnvJyDruVrLSNLO7aU9kcAJxlFue/YcmTot6N1xrktoYsKlLBky/Z6AQ\n",
              "YXSKYXEt6f2oYO8EzImextwze0uReKKC1+7X/xTmLrnDCnpdzGJ8RCGW64e6J4lUa5feGKimTCg0\n",
              "rcRnzcHYzNoZLvaC01RSoYaWvg+vyH6HdeJ7D6aWUCmelPdEkYJLACKYBtbkJ3cu9oQ/b0n/ecHI\n",
              "x8rEtTZ6THayP3xjPFfHD9cRGXFZFbc3MhZv6sy6U1WiJDyZFepG6X6TBSQL00vAPSA/rn1D6VOI\n",
              "Ko4Yx+erKzwqc2ToELfcuQ1b4uTX7A1Ip7r34/GBC370Ly1HLey7SYX6QCufpIFaAwSQ13klmjri\n",
              "u8lYw9XLK5kz90S/iv2M9q6R1W6VH0imZ8qH38nchfcXvFnY/+Z1k1Oj3LrxKD4sXZ+Vl+b/xlha\n",
              "BgpEg/0bj6NpAyU7WEO+bwetW0Hgj3fcaPpHsVnBkwvs1BjWbO4Kj8SDpVOjruZtsq3pn85Ct5lN\n",
              "dyF9FfXBoUNZvrSzdXyKLbC4FXaENo7uk9QK96M3LUqD1t4vgk+q5Flws2aSnd3gfLcC1bwOT2d0\n",
              "2Z8TLiRDC7hHES1tOFo5RtNO9Cp+TI2H8tU5GTkXwHtTKfgZeyjo8jowfgC35zPscP3+LeHYQxOR\n",
              "8HFiBA5nSdjH4PKOBO4uYFdMtb4gymnyLwmwxvKysEjXhqyqQ2jUQSZHXfGSg1Oma1/adYq/TKH2\n",
              "QjcZPGwKWBdNAlE+jnEsswU4Kju75i71rIW/EwHWcXqQt+uvyVshP3HJ+Io00d7OLHGNVMMTpzmN\n",
              "mCMhZpyrzNHnp8xoJs6LLXmnjGUWgQAAA1RBmjdJ4Q8mUwURPDP//p4QAp1qk/IAiQotSCbbb9Xh\n",
              "bD8Ljc/CjSJHUM2O/HHkcVN/FDnwD5JUZ5jq/xNw5J3mpD2hHNGXDaoWTQRGULEfwE1vWQsImiyk\n",
              "QUDMVpaZm5HeKpkxQTdfVzYZNmgbK0Ad9EfF3dVOvjt6L8+Nr7UeIbzSBKwsEdhnyErhdGHiLFf6\n",
              "oOvdv7k1D/CdzImELXgoGNgfotw0kpp0cnDB9usPfEJpCXqZIK/H6zzMzm+QMHMm0EfauBTsEgIy\n",
              "Sg6SKg7W89ro/NAH2FIyTWChlhT/7bWemdGre1H0GHPNRZ6y+29tN8o6fN/ZccIYgIkV12Ke1n7g\n",
              "kDR+NSTFEGp8MEAXaYpAvz7GVS4Sa9sypWaTMmPBjvVFb6Ry415ulwzLO7jXGPa4ccxd6df6LV5z\n",
              "po2UZsfEZvZazPbncLWff463PmO6WttSokMaD2+KBDNv6w7J7XDwOdmteCnx/HsuyvmiJy5zfZGc\n",
              "x7tAF/82igvs2rr30Kxv1n3ClEBls8+sWgVfs0gsm3+uKeyfqsHk4jlTXha7hybLv8nlbMUmk5hA\n",
              "yagYrTD8kfwZH9RwzLDT1xc61XredFvME6hcFuyPXvbe3QrCUldOPgDmPBgahU2418XR4ssAhwEG\n",
              "qmvSGEZrFiCliMZdTp5+xBz7xjjbO0R/VZjAbmk3iuJSkgR4JdpHFxZROG3TcSUd4oH/g7g2tByf\n",
              "Z7feiGO+a2jWllDMvu8BFF1UKExv93daAsQeDFV9V5OREMuE1bHfOSeSwuwMGzmTbr4TIiphGARA\n",
              "qFC29jbKBbAYclvKqoNmsswykhD6K9jMTpa3OZYY+PEuNDpzWLgvmw+aMDGKyLhq0umcQ3exRdPi\n",
              "t0570Qyf3j36j1Wz7ubkTBIZyFs3Eb1R1OATtHb3jMSWionjvPBDFEFrworiOl78ln5an3sRoeBH\n",
              "ABdxJfimjRV+sZ4NIhUhtxBpk3Kr5qOUwcteIfuAHLpIDsDQzkIGq2XfEvW/3v5bjf2CPQEAayCC\n",
              "YZt9Fmdd2/mIFeOlenASB6w9YwpWHQV+bDNU8gCuOv7mYWPO97/4zsvVCtKn/F6sXAM8FYtE7JEo\n",
              "3QwPkZUirqcKSstERzR57qzri70/uQQAAAEpAZ5WakJ/ALWGfEcq9HehCk2O2BkFMZI7Gu7GbsgA\n",
              "nZ3hfOHwgospzqBJ0vhV3H+go1piFVRV1yeotNByDf0SwhcF1tIqmQEkE6Tdgpduhxf5oqtT3cZj\n",
              "wxwd7LjlQDxNbpUrFHTdIlrZ7PJs1ov8Ioiy/d/NILy/+5VltGbcbloYcZq40Ojmp8n2P8vw6sQS\n",
              "Jg9tXG1syZdoLskPfXCSK5puBOp6kPp+6rbvBmp0mkRIGmQf+AXwM1AXOWnU/EQu3atMzkPWm+Iz\n",
              "1u0LEbpHe1Q96IJ2beXiMRYcvkIuA5P4Dr4nqnta/RHDi2zFQihtwpwVqy4bewVQ3q+LSOo+pGi2\n",
              "M/kjbAlMPn49F5InQK4vCJkxl/EAbiCfzoPMDBS/+JXsbqhVvZpBAAACIUGaWEnhDyZTAhn//p4Q\n",
              "Ap7LKvgAXQaQvvoEawBmm5WXsMIDugoWCLH+qfHwFcd+jmTjPHXwBbVN4eIQ7uOpmNd3Zy2rGy5L\n",
              "VTmd6E+zEy7FkXFavpPTNqNJqv0hsLRv+NS+2JNMRDZ5XEl9+Gsz0bTct8qThDFQ3Hpf20qzUIcP\n",
              "+tSXwi5sBBkw/7XvLM7oXNGv2umxSUL0PbEpG9PWRaC/S0UwyJ5amy8fD19nwlsWBn20PUbGgxKm\n",
              "7hWHCGcv+IwD67Dz6PUX/T+nDlk3e/NNsvgOtIlMAu1yhYs+UpRfrkprQ976UtnY1PjrYfz2NRqA\n",
              "PqpeRoWe376dd0VpT0CQDN5DQQEJ9wcTiT6LvxbV8r5jfeYlyB6V8rH3uqj4G3eJbE8id3lcHrCC\n",
              "7fJ88aymNuFCP5kWajlC361vOa+03GJFgL8iabfpkuauQDHZ1slkOY54Eret0aFnpLkDIl+qY5CU\n",
              "XVWZa+dmePf4NBWHtwSPbi9QPHStkP5Z/XJF6EEAa0WGDbx3OFqKtSlPVXUMxCWV3MtCQli4rjug\n",
              "h1n25A4dW4GBEryZuK28T2+grVlAHuX3KtK910fTYDuXKQK8qTD8+BYdpn8bD8HCo7yHJIy8iY9s\n",
              "gLO/zV6wV8cS2uXIFzLRLKKPLTzRWAdu3rv1UMAWyA2qczY53OvjMUDbViIks/EyDeXEcQ0vvzqk\n",
              "YnZrZrKydRoY40jM74DaFTqBAAADLEGaeknhDyZTBRE8N//+p4QAsG3JABYfbUFv4AoQgZopYuGM\n",
              "ivlxXFV8OVEcW3N6Dm2dw9AXliblCOUTt6YHmWwdKOjJqVSD0JPH4byfelkXxU/IFsP7bgwE2zKF\n",
              "GDv8xFAF2qcxoKvfn/xq2YyzKEat+YNrq04Vi33JruzhqlyeuB/gL5/Tg3JimhRCoSSOjCkIPUVO\n",
              "/1Z5MZOqe3VQTbABduI8RgmS9OmNqjPa6jqG9EiabOtbFJT2WeASkY7eKVxntiRWqc+xSQKW8Nc2\n",
              "r+LApnZqtbbC4izZVVmxj2iFvylK9VTObmInFdNU07kEH4tlIv+tBAr3J8o7JUSzyWYUwuGHtc5b\n",
              "8dTPNPG3JSwUuSpDlPTw1OmNkykR61RCbfToauRE9qydSXC2n9frwfK59ePsefXWj+HeFLqpOAwX\n",
              "7cCUYJBnE3/ocbf1k64vOAQKK0STXZQgsmnb4E/AXxOYWI6e/ZOOMjVR70W9wHRSkwMqsVX5m1aC\n",
              "EIhiRuXB7B3mAmGx3ndlhU8RE4SgxZSHgPjcDOPTY1/GjreYafgQPPwnFdseevsvq3ygFS5qK77C\n",
              "XFHdZI4jNoiXtvITVYIGLPxBeEeH06tP+aH9c7wLJBsCnubwH+SepsYNhyvHG6yCjXTCjd2Ar1Gv\n",
              "FRmODdrIBF8F08esAhBksG8ID9ffgWriFnSPEc0JhCaD83G4tdgrKHbanV8G3XEn+0Rgma1zC/yn\n",
              "Eu+2GVn/pQypwt0e9cL93Obavm9kpTDr0VYMlT/s9mybeiKG56j6n5nW6wpOP1ezwwYMjwZoHG9J\n",
              "fTvtthTI/tWLu76/Lq/Ww9KOKEot7Y4dnpfX3dY2Ge9skbik/xFLja+anaFyHVG++TLHPsXh+Hkz\n",
              "aM1bKajv2nnvZaiJyM/je/6IY/gKLGeeNjErUsOOfLRSf5tguYQMWdx6IhKMFQriU5zVdu1Y5k6y\n",
              "lZBfrRF9IkwJauP8mYZYEe7wI4KdhC2an35HFnI5iJZWsLYfgLS9AV/8aZPxnXwzHYqsumyaS1g5\n",
              "jZBN9PrR9Nm/H+4UHtv1RblwXr7Ba5p8sF3gQvuO9lenqYawAAAA5QGemWpCfwC6WwrqT7fm8ANu\n",
              "6YqmayFdycy1RMP4zCMXL6heJvkpafpJGF3gZURo9gbAmqR5vSeYbvwrZXOdrIJDUUI3EDRov1Wq\n",
              "Ljc3f3IwmVJWMpqpqUmrW1hD3uMOySA4BWo2qxDyWy5QAOQPKkHujuFE86lHda4iEmKi/QK5w18z\n",
              "eZylL+vppTQOOcoSQnaSHzuvJ8DMKWaq8p3/J6lZNsPiT7kkw2/1vckkR5R3GnrM0UvvCYl3bR3X\n",
              "RtHF3gZwDu7lmBL27bQ7rI4s0Tb1qOZq08OOxmrsA6psdnQ/9NuFW48AAALxQZqcSeEPJlMFPDf/\n",
              "/qeEAL6h9o/bIAWnH3hAyCZ+hwvRj2ISTLBJZW1S0pCSFcpB7VervMUOBvhJeQVaco94MIh/XHaD\n",
              "cudm35KmBUjQyjozJB5vSfz3+9Owyy4RhUyOIFsPAHRoDmeJzfCy59HlVsu/kB60wABrd7Ma5/OT\n",
              "NpRyStmeXAmNMlBl6LGVw9HXhaQ192S+szyWvEbCxiJ3fSQcWaCkov6+gbTJXXv4aykZShLCKCVM\n",
              "G//0IGLT2+MoYeFtnwbKzpQwhTS2dtVazvdC40tcxeX9b7/M5s/lu7yDmL8Mh5+i4fhCEjv9m4K2\n",
              "JbuXGWMC/oxKn/piJBEOhBxve9I5SYyB8SEmFpP0Y9aDUE2YLZHKBH+Rwpw/wXsrjzezfLbeW6+R\n",
              "YafsnI6dsiuY8PY4e5rUN//1E2Wpf8Gzs38uQvMFeUdugLKtqelPEd64K3uPcTXZsXDeihGamVJJ\n",
              "jGA11cJTaK+5i9vEen4j278L43eVymZvnge9nLD4SuLbkJ/QPTlQSad/3r2IXtkQHAkQMwH0eRLQ\n",
              "d82+96MiH46ZtmhDKxAuMAx7i4Hw49V3Km8CrwRdzZkbA1xsZ3uy2SyExzXmp4ftu/8iGRJMBg0C\n",
              "+PSrsnW/6AnSONxMnl6bAprBjxlQ1k0xEjESo8mqD99tqZ/BqTByaZomkibnG7EIeUOMbhdTF2x8\n",
              "EqnmNXplzFxS3KvmGl4PI98hiiw5/III6VYbBHRNy37tCo3HtGuQoq68VzP3iDZ3bB5x6kTspvXG\n",
              "+GnFxi8ytHpcAsik8ISNDZgZmzqKkk6KNPvcjeu8HfIoOc2Vyx8FuSeKTUXm4P6ecQdL25EczQs5\n",
              "hs/HTPrThgo6jKdSxBltdoH9e1yplCLe3jPvj//mi+s/EcfQoAiR7sjEHrYiKTagrbPMueJeoICQ\n",
              "U5eBugPweLKIAJvyYFq3PIj34tMxaa19AMm1r59jiS3MSJSoM05WloBVvVV7zPT0qg497nmN4i4B\n",
              "AAAAyQGeu2pCfwDJO63jc+kBMFlACzd6oSITuwefedPlAx3+H9uyeDRSkb1tSWcmZ5t00cz2Sq36\n",
              "QCoMmz7vWlwNuqya1noY0JsDNGcrI0jmq7+MIqXcDqN9vNW8b9xJydpGVlf8lvzXWCi6UOZ0hnzY\n",
              "HkjKy+JUXTohbvb5TwN5Cqgr7cse/aWRoVLc5emoNkH4Lpy96x43QvEmzgaz6v0LIRoSNVcrRrpE\n",
              "yiBYo5iptZ0rIKweZyFSE2LjESWOWlGdJ10Yh+70zyBKwQAAAodBmr9J4Q8mUwIZ//6eEAXS2/90\n",
              "AlJaaAAQjlX48eO6+ky67H6PPf7WjPRkpyzkT+JlwnXW5kBEleQuujspGMPmZyb9MlKtZxYevvho\n",
              "qOGa+BQyFewIFT2otGjys9D7lwlqh31CwXC7Wg9TIbavDd6ITNVjeIt42j8YXwNZDyUtZGY8EzVE\n",
              "Ho2oXmAx/YkkaieXtPP0TNfOPlrAr37+7h3oZm95pnWQNr5Qjg6aOlnFaTg3fVecXLUp/Hac+vJd\n",
              "0Hi2I46N21tXpAFxlmNdIENkeNt4KbppYHbb9t+xjVnzgH3Nrxi/jgCNVwcnZkiQxXVQEHbeo/vv\n",
              "G7rufhQeobAi2yXoYZl0/uvLROugIv4d4tdJOGmNCtSi0RERTyq4JK5YC12mIi+RhQpGx4c2m/Gi\n",
              "mB9lVLRm8WdLjvC4f41FHqy0UBC/O/b3m566kESGa+RZiWdp8NJ/YNzhKHQZdeP1peh6FpPRwAJW\n",
              "xPDyTpzVIQbUIjE7VFBNh3gQCplbku+hWHC/XEGfag9w3we2NlKTi/mbNUug/MjXSIWrmSvpWawS\n",
              "BdC/vMNI6nl3DKdDOKv8m7KWqTb74XCNbAOI2fSLON009P9smpCXm64x/VuVt3QRcnGs8ZpgXffu\n",
              "TFJjgQ4zItehRRxGhv2IaNGKgrFnJ0WalO2VS6wOpGg45cXC23AkV1Dc/HRPydq4pba6F9hfYuen\n",
              "Co/HbjGxj44TW6FxJCXIh/xVjSrZWoNTy0e0Gha3jy0Pto3wd735+zg6WkKwALnIjT1z2erZ80gQ\n",
              "EjIHBY/8wegoxLHRWvpmoXJt7ogaIHEYJ2rCfduKemf9HVIfwssegTImt+14/+skrjWU6tYWUuxP\n",
              "2wAAAOZBnt1FETwr/wEu13MLI+1kcm7IvcZQVSJtk4i2ACZAx9/MqeET/lXAF58Wxkl3EfHjV0kH\n",
              "R1wpFV0k2T262tDNBuLRm1usY2JJLWL+J8q9j9V0OW8i83K3zpumpJvzPUkF7CdHuOD1tqtRmvcO\n",
              "hmmpFNzgFINdmh90XXMZ4DZIOwxCbUp0uGewJB94/Mqo7uHL2YFqhMsUwPTUo8Db1F5Rttp4SWqS\n",
              "aE7nx6QtVkErpjKVFE2YAcrokMvALPVb8agJpraiN0wFMfsLCUJMblBj4VCcokbTCz0cxEz9pv7W\n",
              "YEL89CCthAAAAKABnv5qQn8BhUtPpcLl0AE6t8Rv0s1myzaz+jnHpF+WNTOhdBcmvkco5A89asvU\n",
              "kdZ6PiyAHvpfKXpIhWghnbQ0YCRzovTSBpBaU+aRwVfXcTKNlwpXoUa40X4GjIg9A9dGNUhJHPBj\n",
              "O74sw2Jxtp4Tj598+mVN2/CfUtDfi5k0qBj9/ggeoIp7T5XBdoT64BdXNa7P2tYlx0szYToytCuA\n",
              "AAABeUGa40moQWiZTAhf//6MsAXdMeU9/blP25vvCbbLm2AiBgYAHFipidYV0HlOiCsgYG8nB5Bn\n",
              "D1FH9+PGjMHlaIsTWijaXWA9+MTnT0PidJyYsf60SF+i+VnoWxi8wwXSc+24O5AxCcOO6rrGlBOa\n",
              "uB9biW1qG54ycYSMrygMK3+cMkgq8LGQd+Jkk/welqIzWYfkI/b+1WoZXseVhs2FUern8GfPBZ4r\n",
              "dEEbBeZylFDunwgXBKmlu1w4/Mgiq5fdf4yQAEjNVU2qB+ktijTqEYEECYDPna2DVHyYWY8hqgbm\n",
              "tjhVRh3Gtaiw7sVlSnMASCuqwxhUJoyXEA8Kx/h5eBvMrkOtod/2+klr960knqxO65UhAE9Bnb0O\n",
              "tN+7Q+PJWSwnXKdpSEP7DNhbMsjmUu1cwhl9OxHAR7bHjy3WiMLVj8XGB4HDZnf+VxJKq28v0UbG\n",
              "xjpCg1UmOE7v6qdBJ/gM8m0Zjh33XRtK8x1/HbOnTIq5KUdMsOWBAAAAzUGfAUURLCv/ASqJMTsf\n",
              "VCpq5hACaY2zNJ60MIs/byT2RuG/W3Yd3VAX4S7zpHnzL8gOw7T9uxk4VLC64RfifRDV5KH8Yol0\n",
              "fcgvTHrwEt+B2guN3bnPwhy1Zd1F3TXwucbTeyqBCIfu96OF2PaoPm1XRcQ9KRY4eRrp2GMUaYrv\n",
              "gmcQoWTuunbn77USjs8MZ/AWp8xpOBKlJhHvuA2/qJ1geRyYrNoYuyki7aOqR8zagO/CZh1OmnjH\n",
              "s8ouODe6L1yBsBbkfsM/oGJk9HAAAAB9AZ8gdEJ/Az9MShqr6MTmNTxzu9N+DrOiyIdWpssO70Cl\n",
              "/MAawCHyqgPOh6H2xTuKxeZWAtObMJAVvuBhwSTAzKNwlHhBWWetecax+zNEIpMFFamkpaupohbJ\n",
              "1E985+0geXHUIeATGs1qVciA64ABOCn8lyEgswboy86K29UAAACNAZ8iakJ/Az2ZQwW/zXFtg6i3\n",
              "2DMRHpSKm7qKJD99xEqw85s+OSGX5khpW99FPPwGhOYj3G7G0AfngppA1lbpzK+vx+r6NgCn0Txj\n",
              "tMAKvyOi0ZNAgG+RxOGS67viFN083nYtRbAh2FBOO+HDImUX0fZIqVp8rdi5xaiULx7bAkNMQgyZ\n",
              "yNuoMQAj08FAAAAA/kGbJEmoQWyZTAhf//6MsAXilAbIfbYAOHzMxIEDm2dhtzLtfb9FNVGv5qeY\n",
              "8IIlhR9N9stUrPBsGd2ReRaWHntIRqcoR4r5ZujWgq8xI1MWl65xqaRWBXLF2Ju34rnP0KqmO5GK\n",
              "Iqp7cZU8CZq5LzvpGswt1zinvBMHIv0QcB8qyWoph4KO9uTEarEU63yC3sA+ZAZZadocP07JA9JW\n",
              "LaYAy+wg0KZwfsOOOyelqHpFSkCbqYJGJB2DlomZFwmL97sEHVnDcgNhMjSuqtXmgqkCwIxHK76t\n",
              "inMe3KrQlieSGZJD3A9L+cWQT54Ffng6YzJKNb/ibiw1VIT65677AAABNUGbRUnhClJlMCF//oyw\n",
              "Bd73tlzQAtw0nwvs4hhId5rnf2vZ1ygi9SBiQaZR5WBXeVbcd5i/Sz+17WnX6jOD3CQgoaGU2XQy\n",
              "D0S5LT45MwaQZgiFL6D12Q2Q43A0gTpOxp9tQJjP6xcf9xPcZUq9Tdtww4keq67j2w4LuwtE6AD/\n",
              "hiyiqNbkonxj9gjMb1puItQHqaU0xFnzjRhmY7ppK3cy5ES24xjnMh2AgoKkrE31gBuusoXTCSoo\n",
              "vSYH8nznMrzocixuSzwg7+hB1aUkPDTK5HIdDZLdKY0aUUaQ0OsXfbDZzg6Czx4BIYHzE4tHE6bA\n",
              "yZ2n328lfFMwsBcg2bHxa3vMuE7AJPUSyJwNBefvuZxAmT3I7113/572egn/1+99bKG9VBsVwDS6\n",
              "vzzdr5flb+5c/QAAAU9Bm2ZJ4Q6JlMCF//6MsAXr1BAzPLL2Pyw9AF5t3GLXa2cUeN4mFk6NxIXb\n",
              "D9hvAM2cxiS25dfV0oiTK7TRN8+tYt0+yR/uN+ALoLB7DvS1pjWMXU1XU+u87xgnH/5uOMknoVO7\n",
              "CN4ttr/s4IWCKmUdH6esFTxBvczGKpsgcNxFYar+ttsex4CW5cFD+SGw+TtrG/K0bxrDeFz5Vwwk\n",
              "TiGZUi3HSwjtNIbD4d9em4yCFSflVicsvvzNuvLpMnlb1p1LwKUdfR2uEFO4t0/UEIkIJg62r8dk\n",
              "x2gBgO/i5Vxq0WbSEm7IWKt4abr8qaTXN9hqumcqF/4WSi3Jm1AA+NrHgjCNkBdfBf4asBCgAe1I\n",
              "aL2nUoGC/MB9MBNt6l0RHvHW7LkWvujNa371CIfOKBzZg12RwXwUZLZMBrhuck6gJz1RS+UyZK3+\n",
              "JWfGLCmPgQAAAVNBm4dJ4Q8mUwIX//6MsAXe+NzAw8S4aJtjxngAErFjtUXpXrczYXYqKwfDOuwM\n",
              "pkU5Qb5/r1Cctz0d2X4MWYV0Za+jnuGd7M+pQCa6jKMvDEpcESZrHJvVGALplDMF1RhVFcLFklN2\n",
              "jgBwZiVaLXXVNFBmsaqd0iEB/AeFXL74IIDC4Wyv/9Fip5ZCV/t/4zMz4VTE/I4s+mposozWFSM8\n",
              "Vi5ZPvAbIAh4nfaAQPh7ssfmXuvGfVhVewotuns81vgNY+Yy1sq7+S9IOh1pXQ9UHYPWcqNYkap8\n",
              "xjFsjcWLj1WbmoRkawD/ZoO76X0DAuSHNHAx0P+6eencVPJkFyOaDZKata5+4EWB0IPKl0NlC5Im\n",
              "9j6H3QcSRSeKSYAd9QubSIkW6N0BA4SJdeqwVBF+KGVjg6/TDtSyuDz/NqQJ0OWxL/NskVD+jYvS\n",
              "FKDvj6TnDaEAAAHNQZuoSeEPJlMCF//+jLAC8e1WVTle8rgE10kuoI9sKjL6LgcRZSk/NyZaOSq+\n",
              "u98mFWbe6Es2Y2ftUhKk8qVtkUN6ZMzmgS+kVkDnk3i0HFudFly6Z2DxrCXlOKa+LAFXQfhAnGRV\n",
              "FhvBzPO/cY5b7wwliHISyFYcamUD5vHiEaG2OyWlO7D4bX6lgi4W2AZRmDU8QbADQw701ESTzPJ0\n",
              "q+z1wRJiTSggHRm9MGliJPGPhphMU9ijqn3K34a+N3rD3AONENy9IeAfw/uQm9+uhQB62VV1Qxj+\n",
              "mSvBvuJuRIOkYzpuoo+IbM1yg779x/tUnFKC4R/KVcUp650FNqGsL5aqBTHZ88eCnq174BSR7HJ1\n",
              "NNO6TGyV2QvvkpIZ6dF9+LwQdtxFqISsDAMsixvCDAsBb+1wplsGsz5XwLAuh9Apow0SFCJSznsG\n",
              "PvCzy2jSv548+QYdhfQBqEiygHeyKYOqh/yar90KYhwSS10JcZLIUhQM45hk1l+PxPzHLAYlXSq6\n",
              "gRFfEQSZBWNlrpOn3oxlscP/zSJwNcjxIseE+v5e0TWZybScUJT25FloiedBXxI01l/EJZG7C7Ex\n",
              "flFv2S6YRmGMOyxzSWf0eWAAAAG8QZvJSeEPJlMCF//+jLAC38yv81FGCvlAr/RmEDbw/XaKOI2g\n",
              "4D0xE9F0w+bLsjLZtX9zzwTJwW4ZlXvKLMiIGz4vi1WynqmeabrUvRJXm9CcXo8u6HnoCvzu0vlR\n",
              "pz9rK18xiBoHF5Kz6cCYAplj5ZWkjXnKiwrKi7+S0jqFDq126N+TNDk4pJ+BBkPVhHMftvSnyT15\n",
              "RdRbYhIr7He0cy8huqSuuA7eAA9Bk+BnD5DOQx/xaQ9Zl4TM349UMeOR7sepIjq7LnO5aPMicEj6\n",
              "htOzbbVyF4CwOTBICrQYiOnqoMkiSGPhFJHdqGCmxSud4S2OEhkzEXEa2DbrXPvdwdY+2iHd4qXw\n",
              "0UICf95k5N2HQyo5zNOnBmRoP86KoJZc/w06zHhBOmLz41wkGMDP93D8sP5RXjxhzVlfW2qYIeXz\n",
              "FBQmeJhZaQKWO86eb6xwlHkMj/qBL9xjgozs7ib3v7lJ6oWAdKqXSkLoDuSI3PdyjpGQQQ8yT4pf\n",
              "tBAbT8wN5jNMVmPGc59uBwBR36RqatVIlNwUqsAqYtLH2PiaB/hAVV5q1IwKn9dg1XbD+GNby5cV\n",
              "nRHilI/xUXcgAAABkkGb6knhDyZTAhf//oywArvMr34Enzb0AcmVYDsY408HCKWY+CnWqz5ePoBI\n",
              "pSfFJMzg2mMdiarZ7OEyKzv6EVXpX9CE9c1LdbhOatzjYLfhjrmTl2+kHYFzKf0Dq9i7RthI9ORF\n",
              "STMggCSJk+Llf8DSw1VJPh89N2V+MX+Os/HS0PT27IIbBF/A7L/ivWzF0JoOWKhoCuyWhS17Ascl\n",
              "RK/tYgEbwAqUWuhqwMMKNFuYU8lb6zo+sjTFfveQ546KNBhpAMFZd3HjzSqt03o/wUApfWCyQbAW\n",
              "J9CJy7Xdg9Rp1kLbBGmOlssZfX+aGeB/9iu+3DAIMG0cfAlCMPo95pVlo4vCHkBE1twnO/3Y0g1P\n",
              "kZe/NGCTr9P9pKP+6Ph9lNYNDZILwOw5jsrYYjEwGy1HD4mm5PjfSCoipOc15N1oInSkkn1pH34+\n",
              "3JFrJ2ts2xPPf8zpQmg5sr7H2JoTeGx6Gev0Zp1QYyDpW84Z1bTXcwZ+OAcbAclTtLrPCpVMPloH\n",
              "EKDK4d7HDUEOSIsVTlzSJQAAAX5BmgtJ4Q8mUwIZ//6eEAKe9OrDyUAg9Koq2JVYKmC7QpRVh7/Q\n",
              "rdO3q4fEf74CivTv2qFDsC2bKnslrDWjzdn65904lslGJKa1IowJNSU6Zag9rCgNsPU8GLz3nedE\n",
              "XMpvCyVRu8/Ec2I4CFbLPRMRBG0Y8CIuVjXG/Zvvi7vkILwMef4yAYbdRsxR2AxmUrQ455e+I1du\n",
              "Q79u3+tgZE9VT5kJh8CMAwejvIO6HsvAhjJcyv+F30SFl5egdG/MpAioOxXDgTpsuRQRnkFBQ5dl\n",
              "WTMwtBeqDOQMU8Ly1WA3TmrYhwT/6E+74Q7pKNS5+AHs8hpByzpcWSEqdA+7jklcagqFTUTzYUX8\n",
              "F3JlBiH4YhOWveP5L3gXenTWclo/XPXzYv/okctM8ZNIHhqgemx6UvJ7YbajZDcF/K009z/chEyK\n",
              "l1b72ScZ4pKHqeu4rd9gNx1mgrP3+EmvOkbYf+mJVh2GX22/KRUcUkyTMSTJI0jUs0QeCis7oi4P\n",
              "ZJuQAAABxEGaLEnhDyZTAhn//p4QAp1l2jADZGJWesPECfa9ReOzEHLV2vhSZnV/ACrS4HU1rWxa\n",
              "gVMZglnTyIM7xnES+U00iZkiFLinUDXxuK6iKBwfFJVoFgAivIGhWFswRr9yVwir/GmV4jrB6KTV\n",
              "MpXouycSUroPjqcxNd5a+SETnD0AMOehYPrWQDej5yt4THi8iIjbC5+5vaXzZTa/yBe42GlMd+fc\n",
              "BBUKhxu205Ebz/h40jdfWH5mK1uV1bN6n/iTsh8z/2qksH+60k1olq/sobV1oFQcf4WpSU9zFR5b\n",
              "DQlQL4NDDlPcI/KnEKlZGDav2dZpLE+mD+CZj2qkaR0yYfzmp3XAPCiZ6FJ5+/1xoLZR2558iAba\n",
              "TR7PN++3nvobFfL3XQ877D+s1Y1PRC07sVfXaqJWK+A7705kDdFegWLTTSpOsbPdnNdelQRNQaC5\n",
              "DR/y21btuc1P9sceK7IaNs9ZOtSRXgoAxekoozEyT1VY6Rc7A+e2tQwFQdUfOz98Q0hnFOam/VTg\n",
              "ldDZAkY/LITOmuZWSd8Vx26uHtCcSlUqP38DUCMCG/nWBH6/GjucxWsVfwlYJSkyfOuObVOg+JUk\n",
              "Y2+NAAAB5UGaTUnhDyZTAhn//p4QAp11MHAUE3DtN0f45CmuZTsuOfU9l5Nt9vVkpx9WraNtACrA\n",
              "+09BNkeUJhnqmNpZdp562IGxl0ocHj8ctyol/szHucqf65F050jiUJv1YKxKZrVxKtjJGFdB3dOx\n",
              "+PiaTN7Lq7PqlXULZQqUaSTO8qR9r/3hTuWeNsY2X5s4GQ14y40CdHTuSKBweSmXVhrgLxonNjC3\n",
              "AKvfaHWHpY7zy2HovBlMBzbY0OQk543prDXjqF8Q0s6A0aWzzozJZ78IzDc8THwahEHreyA4uk30\n",
              "aN7uKEZw/Z26ojp/RRnBBfXr3YyxvcZDoq3ThY0fE65t71pK4i5Y7Q6Wqs58Cuid+dDmxaedPeC/\n",
              "fq5dsFoEACMyQjmAd6j0zwoyEP6JKPDVzNE+0wjUc8D/TAt3rIUwGFR9s20kCg34TV5f6MRRg3l+\n",
              "8mGeZYrwd1zeAnArog75eD88m4Vxnju3q2UAIPudUiP8M0wvVLRA3aBG60XoDsGIhax5FW//fWFw\n",
              "L/Gscsr1Pfue39b21eREW+oUhYZVKxcm3xab9TCw9XGKLMHycYxN+pd0Y8FJTWEa3964HmkIC3tj\n",
              "uUDZ38bxUinLgQ3Cy5hOhYk8iIcR7sUr8SagZ3I7TdxIuYFBAAACHEGabknhDyZTAhn//p4QAp11\n",
              "DIAoZ7PdMi96DDzodZf4f1qDR3WJTOpB4Zaahu9lTD9BKqMPuxTOyo/gXdF9wbgo9sCktsyYbxwY\n",
              "69L5kw9mKgaia4rsJWydFntvsE5e5SChRXY2aQuAC7g8OKEP0Tnh2ITkukV/ySykIb4KwJrV/IHb\n",
              "dCF0PykYw5FgkZojMTTwi1P5NOkf/wmvPMq9mMAKH/ZCCrU14anYft10lirAh1q87GQaamvtL+OH\n",
              "pFzs83+Sv0D+Ad4ZpS/lfWD+DhU6BPuNRjUcDhes6a1q0bqCrbVMbH9Nxj5w0Xu0BZvNv4sJkTTo\n",
              "myk9LQPAAUzcgf0+xsSCAEBAXU/F/aLnR1d5dp9k4e4biJXtAtiqOQ6/rpaqLMS+FKKuL0ZM60So\n",
              "NHORsp9RNcF6IXsXiBRasxyxip2SX032z2kkI5k3NW+gGgkPPFG8lir5tjVQgZumPsLeMsDJXorB\n",
              "eWQDLTgnkLqAH3DkbmpJ0RrtyXD7gLLDjUbg0CTR9wtF03M8JE7JBWz9wepNfa5Hee2ETrZKFfw4\n",
              "Rl9qVcte/WPuLtEzlCb4XdhCdWm6PfFTjvEgC9q/BinN02oeYwHTWKKxAtYA8UnNo/2WFHf54Xn6\n",
              "AcTS88iWm+mg908w30/Hrp5yPcnBYkBm5BRNkIT+evJV7CGog99CrbDTThjbtFsFFoVO1bR3xsCf\n",
              "troz9kz91bC9DQAAAeZBmo9J4Q8mUwIb//6nhACr2ykgGrjvsWSbEsmeXK7C6k3Sx/tuJjkC6by5\n",
              "MWz6ps5qj8NGNf6KURMhbXY1aogSbaqlhF9Av/A1P4LRKK4fOVuH4qYCejuZ8/DDtND1sGNqWa/3\n",
              "C/JOpWEooD/6l+cNePvnts9xJlRJFmD94kq/1JQRWJReL53WEjJfZ7hDPLhT+PWQprwWU1TC73Fh\n",
              "5YI9c/DFPHMSehlEdpTLkW0aGbXzTidEzwyIZxSQnkj2rL3K054C9a0qI+FyIi7+GOCBmOoXb/+i\n",
              "dHTJcvON7kEEdbr2AvpuxTbnS9/S5ZkN7iwPiCTiu1wwubD632TSdPknS7LODL0jmOWya2FH7umv\n",
              "oOR73TXM4IXrvK/jBEO503H/gU5SxnfTJ+ifoIiOfZfdOOUm0Ua547cTcPR+B9JfRK8Mbw7Q78e+\n",
              "ahflk4Tg0+9UPd2OoBJzcpjucvZT/lYHLCRvVfp4TZcpM4ChEUQE+tH8ufsl9ESwz9a2c+PCcKGZ\n",
              "G40dA8oazeMx1UcRUrVEgwowuhHgejtpEL/gjE+HGk47A7q6yszVUIfsBJW2DPgmQsbI4liRA3Y2\n",
              "afMHe5jrjMIXgs/QszeMoiL3Du22ziBTz11xi5bpzdoYiSiaHVABBN/KZoEAAALQQZqxSeEPJlMF\n",
              "ETw3//6nhACr2uJAFJOFL40NLa74+1vHGVKzuW1RwoeyRcyT9Nz4jqcCOLuRj4l0AkesbB7ayBLV\n",
              "F133/9TYHlevC2WAInjHSwoCYZXWcojlbCeI8KDcxJo6AYTH76PZcN0ltgRXAJL7sgqFnznU4CEg\n",
              "lJpJ0uYWUoHLaQ7Lr1M61kBZVt/bbrUdWy7fYhT09i8yyetxcl1DpFae+QzduFKY7ilT85wD9yeM\n",
              "Y7+HRcmCz8U8oeX2FCNuR25dNVI2cgzWPI0aslBUh6gDX6TITvoJAP8qH8icYdAZcuHGaaWcFa3b\n",
              "J06SHX20HABrKVwMyBKTPAQBIdF/HXGjOGKqr7L9T+DES3caxyX4oUVWrglgP3lTQSVWB6ZAly16\n",
              "Rr456vktE8TSlXo5Xp9IinTHhfu8em8YE+3NcA+Jsviyi3qxZgC+taYsAVOqX0vLhQi1gWllNKTS\n",
              "jgMsc9Cne22ZV8AqUdFPfsSnYBCPJr93USWYOWOzO7+xFsJFOrGCIdQ/vHbcATFpAXLFs44/5mU/\n",
              "nGQQmRs0CK2PQ8j3mghVwe26s2jVQrWuRiKdQk9TlDZl7t0c/PCl7yOmIbh7xaTv+lgs3X/RPs2a\n",
              "BmS0CEmSsIwg+eb+NCpYFDwcu/ahD6rMQYSRk9XxempEaFoclj3pYRQnvlyczT2bU67b7pdnKirj\n",
              "DjpJHKoEJg8SydIHlY51GJ858TFurHfb5tzh8zHaQt2m0woAo7W9QT6444hpwook5o07Jtevw3rX\n",
              "6le/dOYdgqV4ER8uKs/Xb5n092o2z7gvz+soeCLibmjcAtA95fUL6x/zr4A9j7Af/yP+PO0xfswh\n",
              "sQx8ckcf/gppgxdelzkeEGiN0LG0c4TW96DgzHtUJ80Ws7FMkDbPMuZfSE2XVf1dbD4eszBXHxsa\n",
              "LW5Zev3ybfLi/gZkENsb9imgLf0u3cKsFBY4AAAAywGe0GpCfwMuVoYlv9NoCYiGQY2nTRUnXyVg\n",
              "1HUMKQG3kTpEGW5r6AL2YR8aL2ZNeT5hwlorWqgSOZdwBgBKy7lv29ZsfaO+om0qifX34s+clYSa\n",
              "q1LpcC9bSxAc8RlG0ZMAF1nu3cdNElINpPusn6JHc2XSLY82aaMBfH6meneVqWlnH/9V49TfOdON\n",
              "j96MvY86UfHCMgV8NHKsMQkRSEw/8Y+ZzsiVhu02ulpQ+fbtTDdxIDNIn5z+vCS0+koUe/Wq74nQ\n",
              "OirQJgG2AAAB80Ga1UnhDyZTAhv//qeEAKv4PpANYg6tlbUUjdZqCmzxyOh7hFRfLxtEta7LKqQv\n",
              "SyuASj05SFExZ3hQUku6PFkpmKx+PmBZjovlYITfeUTpOOexDwvXJMkIC5QT/h19yq4PBrzbM70q\n",
              "tnrmqZH5I6ro0Jd2cElSXTDcJjxRPEfiRvKoEjIHc6EOpLJuTSWnMbevDboaBBXHN5X0btdC5kFO\n",
              "afNoOPxGWtACJ/rEqD8rKVe+8jmxkPIrTf5ToCJet0hvaTJEgFNrP0HZf0SKPCVALr3+Bm4tXnrV\n",
              "MVrU1UHl4eO62siNmd2KVV9KxuAihgPysVruPf1lfwGPGgMmaD70TQBwL8bYdCIwt20/Q0YIoCpn\n",
              "MBW1M20Z0HB8fwvY+3VfrpvfKUcTtgzU7NYAQvPLoG10qGsPX/IC8pze8EDljra8cL8Py0uKwtzz\n",
              "zNKxv3qPnhwg3RUCtdurdIEonwbOmed7juVX/WNLoTDNuHw0oap9S5w9rOyVuvG7BAbrmZTp4DYT\n",
              "dMImeuvRGnbZEnpfz1hrbPBJew970TYbnflLzgonamK+HNjOwlwAH2vIiDg9nn7aY1cPFID571Rd\n",
              "/+vFUhI0y4A94hX17SmiqVQgJgfqhgPhhDKqH5Z5B77L/n+DSgOFKTS18COcv1xS8x8UbdMAAABa\n",
              "QZ7zRRE8K/8Cg1SNljlLioSTZOSRgZe0GZOtT8MyOsrjc3qsBWrPnV43pDGE752ZFU/9iJ2LLizG\n",
              "FmnvIAI40I6RrXnu9mXsU56HvUlso/ywPm9yHlDrxCyAAAAAlwGfEnRCfwBabY9k6F6+NEfGFgz1\n",
              "SmAdD5F/yIvAA0EIVHkGerO0XuzutNiTwNVWn1ayfi5hXNJgAXUKh/8bEmSN/Cwl9tm2jfqIHrCB\n",
              "BPdDmqJgaZoeOPesCHAE1qDaE5b0o+u18wi2P1rVxy9T7xmKdn8cAJpCOp+Mtj2exDXSyCeQQw0i\n",
              "SLqE5mKljnUyqdOQloOaFkQAAABYAZ8UakJ/AFqzw3TOl4Yxof+mMEEbl1znOrODQ6u4LXhZq0aC\n",
              "Jj4RZaAPRqQUHIDaEz/DvgMq4YgtpqdRadGCRwamOjNCa1j2QAmqR/025YXGXpQZHx0mxQAAAXdB\n",
              "mxlJqEFomUwIb//+p4QArAhX6WBnv9S0/Qu/3gA+sva+E7JyVlZBRSTFtlTzW9FzLBTfG/jDNu2Q\n",
              "ZI2xPydphLt84VtRntv/r22gRQEDuRWatTLvcJ8+IkTECey7KmB9PEdLMuQ9yl9lJKcj68OT9ktV\n",
              "gNh+9APPsWNDOyVSQ4gcuA36Fooy7Z2nN7iWjzUjR9evslGzY/fwAZzf+ey5wCJsWSuL2ilgw8VT\n",
              "NH8i8eX9+yjP9q+BZq2mL8aFv6E0SteVxExk/X2JvydQXW5y0g3d01YwlVxbOozxn+uOZWARFtm7\n",
              "JC8RUS4GerzhJ3CSjT1dRY5DpN1ONyQH91WEirwVbFz4r/8aaWk6/eWIkVRZxW9mJll/81r7LMXo\n",
              "1ySuLoiV8I5Pif9fxpNMYL5cskgBrYd7Tqy0ptsYHgtDCC0fdI8UihXu3T3ONm15eSkADsztPeo4\n",
              "ZTMjpkbFE72YbWQSVFanpxPaTot8IhghAKl9K5exvYAAAADFQZ83RREsK/8CkjOHMvWjJfH0WCSl\n",
              "6Z0U0Zj4AJO8M5yM+VO7H7iYHk+LYSzgAbwpfNiVea/l8Tv+XG4FiXUN/lsJHdYk7+CUK0lwiqpR\n",
              "Ls5E1xOdoYtSSzyFLANWal/Ko22Gu2z0tp4UJA/jiPv7fS3L5EqQDllrkWq/835UZBApl0p3296u\n",
              "9w7b7OdBZdu7XF0cw6fsPN05d0AnW5frQf9rrfRMPqUpT51tlfTBgIaEL2VMzeVl7T+p1je33KE0\n",
              "hoLCF4EAAAB6AZ9WdEJ/AF0QsfhjijM0AZn0SuSoSFWBmIp6cOTvYWsbGAUOXbpPlS7uVsuUIgx4\n",
              "/14ACwBkLClgi0E620T8YHd7LnsIhmlrGeVf9BK383c0hcwjNyUMhEEhWLkXHDcWR34ke+SN/zLS\n",
              "+Z6DkUFi64HDyg78hIDWKhMAAACLAZ9YakJ/AF0tuPvwKggQ9eQ5MCeSTKm2LVQi1TN6Y25CAxam\n",
              "K68MDYDit89iwWXABHKIh5RMqWGN0VU3tiH7qBpxZS90WHyNATVEWpwC0pB2oAmnimHDcc8o3L5J\n",
              "PKLr0bYjdniSGkE/B3VpHskSw1R++49pQkILUVBL9y72Z0CnSOp/+YKF7GW3YAAAAQ9Bm11JqEFs\n",
              "mUwIZ//+nhABUUWNh9okAJl3Dj4A50/EyaRiYTYoX+eidzRdNGDV/5CAs1/MXLQYrLodAIj92QLK\n",
              "BAXroSEShCtc1d5VsB1WFaZqPh9MaJn4p5mB8WlI/fkIo8iqlRuF/eGQT/V1aCdcvNI5LbygcUox\n",
              "gIfdX1ufs9ZhMAryCGphgvqXJUizqQp+ma0Njx/MB7CH/rOYql9Jb4NPC9pFxv2YEXGt9xE4hUEf\n",
              "uISl1mxY32+I/R9015bB9tHlwcks1xxn3HKjVnHXx7QQwO7PDAAZUE/OWM55KT6qBYn8M3zQI5Qv\n",
              "ZLeXBnhI3UbwjrIXD2h6URvYtGSo46bSAMq4TefioOtjiHnBAAAAsUGfe0UVLCv/ApIzh7opIfLJ\n",
              "YEAOCMlnq7ADM33H/RiirVXCureImCk+PmFx1o6gf3V3bwzM0YSXkBcV3NAGr1nv9/3BsQqRKpso\n",
              "maZuHVdt9egyCkOJlUKXA9boG66YT4Y+On2QqlOGwUNGpGAsEuFlMXkJLeTvAHNOS5I0kt7Ocg70\n",
              "879RhrPI7SZsF1M/BGvF44ilhRqT+AaBGmdXfA+ZkIEb3t+nD/sFNb5EAb9mkAAAAHIBn5p0Qn8A\n",
              "XCTyOs7k0itLD3ZemxBOX6NmDM3FmJhGC71nqKDndOaVhcdoLSeEVBrxi2UvKJTsG4OP1Q10ygBY\n",
              "UklfgDOk5f/aBKWrMnauM+xkBePXu9rK9gOAAXtGV+Abevzu9xD1q6+ynFwlaKzGq4MAAABVAZ+c\n",
              "akJ/AFwk8iQ4XUfksA4YF88FcTakchEOr+2UF4AVHxQOj8pOKzaYE1LCfjyM4vc+MQ0LvnITYTj2\n",
              "z9RqpROBArAlAZlnCI0u9tRlXKi7yafUyQAAAchBm59JqEFsmUwUTDP//p4QAp2L0ACgu2GoEqoB\n",
              "+rtOp33MtmZIO+cphW/xW26as/7KBGpa6Y9Ihh/ZVcG8PMjYYtRWPtY+CZgx25WO1fp/Lb7lbbBa\n",
              "sfsSKPVWFQuhQ+J4qXGEPFZtHTTEPwuoktYFqxgSJh8swOn3I1TvfzDdxZS6ZAA/Na6Hpt1DeTP5\n",
              "11J+JJP+d9hhdjedp8JzKiPihk/98CR12cIsPvH4WUmpxUtiJDfiX3weRQbOzxpEenE4P7Bk3jBc\n",
              "/FcY/fpdYvV2+cwBZVNaWP5bRnsgucGehbibYhcAAAMAH8grvUC8mbgAAsaJuSTvi2ilXmZYJd3W\n",
              "sn78KHmEI1uDx21ArHIdqm9gzpqFmo/zt8eep7TClgdtgh2hIQN0biG/zs1TewnND3o6EgpNs5sn\n",
              "RNlryqkTElY/jZqG2PQqGeTk4ZhUgQBeBSJCYf++qp7rIWjqwcE3OGr5IuGS8mEqIMrMUanU5Kmq\n",
              "fgQ2msmNrolHEU+FJpwTMl0J53ULgd+CJ5rHYQzf6BMJV72DlmVbGmqfoUfnvjaqnl0HZjHohO7z\n",
              "taE7Irjhjf0p61shPkNpEiHoZltgSYmHCuCzwcAAAACbAZ++akJ/Az/OCz+qvqyiZRIpt3aziF3Y\n",
              "k3IHGHs9R4MkTzdl/7SNaC+twDvfjiBVVw8eZ1JHg8qj9SqLtanxwRIng3sMc87s7tBaH8a1A6LN\n",
              "zziTGtdbwARxmW0WBievbLBx8qA5Ila4AS6h/hBjSyAjcEws0F9xlrQv0O/xj0fZLSfxtRCVUb6k\n",
              "m/pOv7JIUaPYJXzQHMg/lAIAAAJeQZuhSeEKUmUwUsM//p4QAp25nkAmqMRxG1v17IwIAVRyxx7E\n",
              "KxF5iwQwENqF5VSYEiiALawFmRJBhRyUAGVwGv+pJuVpCjfkqjSN8Wtm9RI14AFTxfez0kXgWsGR\n",
              "owyWfjF1BSCcin/myAOThtLuRK3PJ+3oEMQfoIwdOL62tJ2Yp+Z+tgJNDlVCdD/63vz7XV7hRKUw\n",
              "Yu3sKs7Rv5yjnp0nb6PK0M7iXz1st8m7jspwtwYU5zFQFYlAsEjkRDvuOqBNxX4CjeR975mh7XRg\n",
              "9Nhd8WTj5mvTdwy0A7Da4Zlz9kBsIs4BWHH42QgTyIn7dFXkTYQijKXget7PbpYYiaaYRj/XFHNa\n",
              "pjeS0KZfwBuG/QmLr+9+BpSTBD9HcBwqb7LQCzTXvPzJW1m2EZk4fkLGOwgxuxdXihVyz3Fir4mG\n",
              "NB/ImVv+oP8JJaK/Fg2aiA2pBCOvcFfuPGunAyseQ9uUZCxFUXTo0GtETXbnsP2wxscbd7FbQ1V1\n",
              "uYp9xPi6QlzFKApeyP8zMxaykBfCQedxk9x4IA17JKLRx8u3N3Lncb6BmKu5LavqAwKNFbtTJfLB\n",
              "H/Xw4i6FGu2/BL7SObnnfvxTG1V1Pg/k+gsQ74kD2bmmxK+U88DInIZM1N6gGGWT+we5Z7fO08dn\n",
              "5nOMAKAg0jCBXwPdwJjdsEd/SbKWGLIqo5HqYuQ3UejT+eAXwbUD7JSzGOcDePki4TA7ySnw4ek9\n",
              "2xibIBFfh3NfxkZRdhPJz7CJyYJOHtlsfBLz6mTo7oYjVGdgNsMypacHXzv44JU3TMBOB2uvm9CB\n",
              "AAAAtQGfwGpCfwMuVoYbACNSAvcsudKc7anUi1i22nFfshfCL7WAen1ITLrCfn5JzwXRkBlHXI9f\n",
              "1oaZj9HZBZhs2oojD5TJAMZjqvXxCuLeFsUunCp0+NDaf1te9BwQYqHSMwAIxTZKD82A++RaGHPE\n",
              "2F4MgTOpccmOuFkw7zeME0icxQNEwaMIGbzLL31aVJ5BWhXn7Q+k2M/+xv0ZOcqOuzZ31IRlWvgD\n",
              "RruvvEEy91q4vz7Vf3cAAALhQZvESeEOiZTAhn/+nhACnVGDwBSIbPD1USnY+y3XEhJrsqFV3wYX\n",
              "k80TyhywwOU2hZBvy51MW4H2LjRej/uIAM5Wfb9qXB6UXCwqaGlY/PoUVkl4mLZS4lxixx8NeI7/\n",
              "4TksMiHb00LDeHcUOKz/rBM003UAW5JSZFCQIyruMsKroiP5pcgvYjcAAxlj34AmUP9evnrBBKG1\n",
              "MwICB/cco50qJQnx/MM+CKXvVRquQ+9jJx/AUoOxqRJLC4Mggr/C8J+N2a1W+oC+chYZsnoSVnGD\n",
              "Y0Cp4lQEqCMmp5lQMdH6/WqtuyIN0cpwkF0/w+oFmhFm2hEHSj3kM8eEk5ewj8eKy2ONNG4MIL3k\n",
              "KfdcWmun4wly5+zUXnYmD+91tQrIJNt6u0K4p5P1T2u+RB74M7XjoM8lfmrYarkTG+qdK+WhT+k/\n",
              "OyvCQHufu/Zz8ko6iih8D8Ky/wKe8FXS0xuUU5btnhVfUm2ep8QQIFcds2bnjLrrdjSe+FZOS1aS\n",
              "Z6mX26RNIN8qbO9fgZvYMQu14IRfoZoVwXtIE4DDdPKlbdVkhuQ/UqlBsBojT5+jUQkYcYyHi3HO\n",
              "3XUn6RLbZT91kqXF8Cgpbv3T5C5iah7//Bls6LSwBJToPw1pskF4/jVmBEziGqfntdlisOZg+V6i\n",
              "nZ4d1ptn+U2FG0G1CfZMIFEuGhFgB3i5dTtLN3qrWMCbYXHSHHjIXlRHuD/N1U08hcMcPGufjiuv\n",
              "v2ZBi0cwW+dGZbt+fTeSIIZ8cwZGfpkiNOsLaW7pP+dTPsmknewwKhpcXdxqrbOteBpWXM5vDB/W\n",
              "uyhY6/mS5bo7W+S6ZCfHf757rllJWYKx5s/Y8pA7v4qKW/ROgqv7+FW5pWbNfAOETTEHnbe1eG2k\n",
              "3Dsh6F8E3QPJUwAy7WvP0YtGXIATGjal7wHTRWiz0ybkloxA0MRQt6ubtP+k0iafrddNOeZM1dvR\n",
              "nHFmhvQfAv9MqiaPY0EAAAEjQZ/iRRU8K/8Cg1SNjDnCxn6Zzwu6pHa4ATT9fDXtnMyVG9YTNHSm\n",
              "wRKoaUYnripdk7kE9zfkQ7QtY8NT9O28/80oB1p9gaeYbVlkuEfkZi/wwc1rwmVtn5duwggQd7Rg\n",
              "sFiorHSHfKZz3tcW4G/Lk/9iUcFTqTwOZYydHvx7ysHlukmsJXs3B6Y2psezi42FXd6vKwZ7ENBk\n",
              "TYDKKF/VlN/Qw1EP++um22prX/dgdRJONQtd9c5wWhBVbXMuJKfcwD9HlVfg5ekXU97drrM8YCFP\n",
              "m7MuKsUxdE/OZlJZWNR0qlWDTBZlfZ4eWNtHdKCcFnm8dKlQxiGCQkof2chnk/4Md+OorTKpBlxW\n",
              "Z7pdUlAaTKG58GyUVO0QeqHhN8jUidgQAAAA/QGeA2pCfwBaCVXIGWxEQcAK0Gyxlr6wrustQmDu\n",
              "beHR5Y5G1VPir0vFvIXB0eohO1TALncEIoTW8+IlzCdie7h4p+dym84HpVKWnW9MK2jMqP2jjwPu\n",
              "qFcEtI48eI65Bk2scFWrq39c784yMBZbNVtDkIiDR3vNYQFWXUjs/NHHyYqwmtzdDd2SKKHeKDDz\n",
              "1RyfKjLRttQ3HeA4tmdqR9q2Spe0EKmVypf2uSGIHc60010Ltl6e7fQoqwPMjyKBkc/Bv7HRM+D4\n",
              "anaU0tYIAAAt+5Lmh6XHQCMiUEAkcAhOxYwpSsaJZZGqlVAL9ANbb8tl6NVsl302blYWAcEAAAJe\n",
              "QZoFSahBaJlMCGf//p4QAp2L0AFIe1R+i+n4eDpr488aYtERrUYAH/LodaKMws7bwWly6xhW+HIX\n",
              "0su3LgZJe6J7GXK8VMsFcT9qEjwyMu53dULuYpWa07srO3/8WC/fRPO65oA42dbspZrmW7CWGJ5b\n",
              "xyb9fg3dO7zUJYcNYnoytnr2CjVMfLreQ9OrsNFMJFICIUE2xZbY0QlK0h328FsxWmEttosgJA/9\n",
              "uVRAF+010oXsbVcHgqOL1hz3E0qVr1FpzjSdB6KZgbp42OF/ZqTlLG+RnRncgNYtmilvIiYCyGGx\n",
              "gok1k0TyOKPNSTDYQ0AYa2Gc1mGDWBBNNb9Zd7HAM5vM5OLvy/8IkiJe0jUV0Jzck3DG+PMTWUHw\n",
              "DPYfQ25zItG7UHjMN/Lrx+YuUJ2jm8FrG49qMPwLnaaGNQ/QbFU4t3+b2EQv/MyFgy81MSu9INJG\n",
              "JMpStkibm4+XG5SK7IlayHWsNMkhhvx3wGk99h/I1uHQONB3C9KQl63gH3MMOjbwNsQquiPwxe2E\n",
              "2BIVUN+jlK0jtqhc7xLYdsm/sO4DxLdbivfJ70WNlHF+mgL28Pm93MZ3AwODQcgHj3tplrrxjmG8\n",
              "9fAgWEgPu+3jsVyfMZNHto1EMet1ONH+rhARFydR+h4cf8ZXIgAAjSBmsPTJGMvuZGYhlASssRtn\n",
              "3KrxdYutxN8kc10F5k3r1HQjZMKvMvAaSSZQxDRz/ftluQNbkaUW4F2KmBTnLsdZDiy1Y9lo6t6J\n",
              "s93gatOFXwhMflX60l5gKfbZqkE/hjmyX4qjYtxyeeT60aeBAAABskGaJknhClJlMCGf/p4QAovT\n",
              "f3fAaPloBXLVzFhYogpZmz2BicnGCE+SG4HYAUhhH81vywGtSTs67Yl4RGQ7MsMsQjnUjpTqZt6q\n",
              "SmhMDd5ahOhCYmU9kyFgNOnrjmlsd+z8yPruZ6uE+LgiNnTqJiazE5QSgNuWUDEknx2aYn2NIvvh\n",
              "irX+Xo7nwZZz7/kXQgZQDrKHMhtowYA0pNYt0/8DgiYIsEhb/Ovf2qS/nBGIVV1F4whhFH2PC5h8\n",
              "BkGwISMP7ho/My8mGO/G19zoCOd7iu1Ft2cZ+YoXrwkI/ymeUFAjiIOmzqWBtL+AeI7RutHcFnf5\n",
              "JbplTGCzguvjj02Uu8x4kCS3r9QPW0F4OCYSXBpHqEHM9ESR8JWBh8CBXzusVXuAStUMRl2YAQd7\n",
              "foGds9ToR1m8buaZffZ5TX/dQkM/2UhvaJFyzyQp8rnvNi3sR38/niAp6ULnlJ+D/zeM0rTbKD2W\n",
              "C5QVWIZQxQc3wp7tqmn9GLVWWbZexROBx4v7FQRZKwyhGxNU/77llbp8p4CpMHAfCiDMhPHtTfxQ\n",
              "89tpajusZLwxnWk7UGSGOnZBAAABnEGaSknhDomUwIX//oywAqbUgrAZu9+i4/VJ6vs+IMbiWZt+\n",
              "NXzM9woV0gPfAEzVuZZxp8ArX73pXBntcMA3KIBzTTMdimwPFUVZ0wBggGCKBgHt3ygY+B2ET+ph\n",
              "0nOzLPsHUdUua7qfH/R6dD39iRUMFvOjuuVzKuakRIM5Z+bUkwzjz8OWZuDEGmKdviEWOQ6n7yWk\n",
              "BoNer6fnQfNgNNSqLQ4sJeRmuVxqkjapoj+Rus6DZLPjWSZd46Lqy9d4bNXyBR6ATypsXLuH6Hvv\n",
              "DQ84XuhMogbgNrLlD0qxYdR4mN03q5SszVHnUy9+Xf6nmx4YiLgLztA4/5ESUfVRhUFMQX6jPD9Y\n",
              "GhAlHzKrhDB33WeHH+h9ytvtXMVtSHgG8WiqidK/WTQom2KuGtbMVrEvcdjj/7araW/nKZcD7JV5\n",
              "eWPSXmFqgYDre0YPdFgH/WoqJwhqfawr8VcaptGixAAzaP4bEBSGDXVKT8wAcjhwjVlYGrLQvqB3\n",
              "xwPX1K1qtlEkjCYekrNvFaNFOSbiV3x/Y/2Qo50c1JYxgREAAACeQZ5oRRE8K/8CkdZ6MvWf2Jhg\n",
              "n1FNu+88fGsGVsgnb3DJosJZQyIDv7RRDZUjrL2EB8NVLgAPD5uJxadnArbTG9+d2MsNUF7KPVJx\n",
              "Mk7hZ7zRO8AVAJ8kGQn3PDmOUaturEs2+DY3JZ72CCk3mrv7SRAa1Ca4utwe85aoN5uJxnQEfD6S\n",
              "oeoDW1L1xLIVkkq/JyUrXITzReXBRUcCB6QAAABqAZ6HdEJ/ALWjM0/o+NaPrjpMwsZ7I/Qtqz/6\n",
              "rOEMhPJwqO9+XVjkbQTaj7gTfBvNmHAL7EyaI10kcoNVcOpGmmKswVcaEMNzWRf0kZzGVzr2wgBk\n",
              "ZbUt/LRwtEpQjGz0s/HR7LWrnxQ6gAAAAHoBnolqQn8AWFVheA9c6WMKAY+PHjG0EkinJdwG/g1p\n",
              "T5xudIzfzACrZG1DKrejaxcPt7qzBI9KV1H+YprHy9Psh9neN2xTpAAAAwGjEyQjP/N3KE09QKeE\n",
              "lqYRpwCVlcFke2QBDSjTW04CcQ+sBiSH5r/RnB1ySB7g1wAAAU9BmotJqEFomUwIX//+jLABU2z1\n",
              "zyrE+6WAFnoT4SxvLNkF9l413kDCkNDGQ6xbYapkFpC5I8+Y1620aYyM5cJzNjv9e6IePpQ0mcgk\n",
              "RtBF1V9xm7X//S0pRz39y2i8gguDWdPXDXBkL4ukEdqMKhWG8qFlfnp+e/+woXFqMkHnJqqeR6OU\n",
              "32XO/4XxTiwHQHgHgBAEYhFqSVrdamSiMrnuu451jlM+URO5Atbcdqs/oEoGj0vdpGW2iTQOqwjc\n",
              "L+TYzueE78JRlj5H+5rqbm+Ohoiv8Ddz6nGbDBc+/KZ60UZkwj+ciT/FABQiTEAOdeRsf/JFFOjt\n",
              "OR5PDSiJsCT2T2ccGgxOUQFjq14GPrmUIdo/sFHIAUx9NYqyGz+gNYMBixakBR41gG3BYF6Rtn76\n",
              "oiHimnNUfyA05kHQDGwatqKQo3Jd9Q7zKj4aoygQcgAAAb5BmqxJ4QpSZTAhf/6MsAFTbKuMxfd0\n",
              "sAJZHXFIaGz2WiSyXo30RAY4wok3p75RxWu722MTQYtujXn4CPM7h8SQVs2t/oAtjgskq8yuvWLb\n",
              "M2uYjWVLJTVPvL60EIlgMs6gHbdUQTWOaBgQs0C5x1IuYHSMeQ9/Zk6qSn5ShPsakghUDg0Gei/q\n",
              "U7pY8CQS9LQVNPy8eEsPrvuQl2pJqwsGNvt/GkcSt8PnXualkGarEOAmYWfPBpWSJmrDY1RVvw8p\n",
              "R1VKwzQJJiLEMIApPQb5O57nVpzb3FEdFOLGFgGFyKRvSS9ZRWHQngxPoopiBok3jbdDMLkiyJOO\n",
              "h3Q4ZlYpsEnhhuaeBG3A/bO3MVZ6RpjX5q7xZSct1QMIf7Iw3X7wQgYmTW10ArH1Lyyyk1KNm2VL\n",
              "r9k07whdX92KQ+m5D+IovZJpbTFuHUqinCJTkpnfmLO822Q0YTgHGjof3it8u939+Pu4YzzKH4UM\n",
              "BdLajAKb7wUMzCJvl1EAuAT3vq3jpMJBNccm+SaQ2dvrH9Lj7p1n8iZp2uw0/HjgMB1gFuIWLehi\n",
              "zWHMsdHn0SXHLCgpKi5FPrnI+h8l4T6OsAAAAg1Bms1J4Q6JlMCF//6MsAKlvr3AUM2jSXXNrBDb\n",
              "drC+UB7z9DnkBVWoChgcaNH7E5R4UEYFORyrbLd0cCBbIyN0QCa53SBZ3QdKMpnFCFfgj9RqNWCQ\n",
              "RQkpXI4EXUt4LSHlwq4eLaQfHSGRrI1PQaj/actEpsZ7UfbdyARL4VCnz7Z2ShcwCMvxVZT1lrl5\n",
              "wIu43tN3w9X1/p3cWTeEqPzuy/QlTzgaVYmd+O4xsZinYZuUg92Qjy6LtY17uE6E9MiZaZRtYs0k\n",
              "ncSl8qGIqQdkWQvilQpOQuxcqwLvHAoHwV/ghRrdDtoN5vIPwTt6tcl65zkm+ume7bB1emkjA0n+\n",
              "JCg68VQjjCY0qWkhse3QF3M8vR8fdfqeQfXeJJjgOMNuAyarYoDBFgUpH8oAnS3JodL8t/ZvBEmL\n",
              "pR8Q1evjDjLVkKPx6TTrpFZcLR0Vg4tRXzh24C3/+LsePR6p+h5CWdYIVyknaqTpWxHzYQOqAtcG\n",
              "3q1pPUiYIVmD1DHia3YpbvA1ZFJWO7tucqsRWKzGAPC6yKqhEVQiOdZO4NLS2YbyxefuJ+VY8Ebh\n",
              "itlsbvmF3BXWETRA9s74XdGJuam8PZXohIrKrEiCvAOvgBNOM98NLN7e6xHwFh0UGZbDJmWtEj04\n",
              "88lmjpCIfBGBOkmYtfKJqfxKk7u8NHc/2IS9ujgjq2/3eQLRTm6TgdEAAAJ4QZruSeEPJlMCGf/+\n",
              "nhABUWwRc09qeAEFAJfG3TQz83jio4wms4LOMFXtlHofqscrbuzP/928s6ZnsDOmDI3w2vgzLhvw\n",
              "38AJYu0qIgEkkUILrqYVyT+csqzZDd2i4NNq2+2f6ZOz2f3jmIK8NGb7zDyT4qGvh0/ytH4kegxA\n",
              "4tBw7O0gD4bBFdnx1lBPieq8NvP5Nr0l9iKYxjZxyveN2L74tELwr26tBVYvDsrjF2GGzX01nB5o\n",
              "WrAQOC/jWusRsAXwxnEtW2QuSH5tzNiN6Z/ls8zU47fF1HcOnn0TiQKFx+nh4pUuzONBUPjRhX5J\n",
              "i8inR8hQ815U7uLg9WtXe1HhksZUG/kd404xwqmS+mJE3GZcjIhvsrbBfSOYwn2rNNhW7ga+1e08\n",
              "bOL/bIiG5h+VeXD1RW6vAuZIDXpGlDmPvNXGIlIMCR/2fzQSSKl/5B9YVk/LVhPRUz9RsSyp5KbM\n",
              "itEcUZT1xCBSW7tj9wzL9FUlTUnj9ZC1FuiK312sCcGTzjeleL50Ywq4fAtpyjyjYoKi8eycopyG\n",
              "TiAfAqAHMMWGbl3QSAxce5/fgzWvk4gn3rei6ry/ergovPDs3UOM4UDRRom95aYUfCb6SAPHbfZf\n",
              "fepA0VnScwDLjqYYPFLwdWlQ1kwURhrI70kDP1mPa+oMVn8qQ4X80Q5AlzLV90ZK3KCHcbjqcVd6\n",
              "yW4CXwEK4n8hoXbU8aGiQTl6LHqmLhvECM3cBFkceIY4NymLaz2xcR8TYqgoVWQhaUDJmALMXRbm\n",
              "4W10H3tmosF5YDkVf6F6+G4DHGRS1JeKNIqr3gMCsRmtPJIo1ycuRmf0JRHlRxpydbsAAAIKQZsP\n",
              "SeEPJlMCGf/+nhACnS0UACgd8e/ZDPuDpDgw4cvGQaK7HFZ0VdqA0YZrgKRAPRS+141LEEWLY2As\n",
              "tj6GNPzcr7Y6+Tm/biPJkgJGwMAzwhbdRqyeRovyRd6DVa/EvUkJPIAsK4ThhVqUqEY/hb2AFEXF\n",
              "bHOn039QGlLc53HscdX81BbmJ6OQ5EYs081v8Mf2KXkt1P1lcEc74HFNOEXz1pUOLygrVC81C6vL\n",
              "ujVDAxant9ZpCKiVpliTev5M/qOb6twlw3logk3Vvc7ZiZVuGZHSVOSol1Tw0GtXLlp1v0UdL9Hg\n",
              "+to/227FEY/6Q9434tjqGirDylbaYZM0TdDY9cEt9Vje4hSpfV5RO3v4Pe7qNmwnczRx7tz2Q2HQ\n",
              "90g6VW2AtEQ19goBAiXPvsSkD5dTJ6wBGPXVdFIW4wQYgjav9Yl9Ya/sdwHrDTca3ur5ydw4aA95\n",
              "2rqrbtlci5UGc7IUQt/TPjs6/EOYKLhuEDd5YO/216f5rzlw5fAU2zewCSoXtiafFAP2dBekcFO4\n",
              "V5LQ00RzcWaaqpNFWAPFW2LQ5v+lrsoEIdhzh2a7LErDe9Z64KN6If28Cm11MteN1PZrdUWS0nQY\n",
              "l20QVQDFsbZKK80oVpIBqQgHck7Sd7LW8AQwj1KCpcaI1xRLSZ1QtM7QVNlBDmCZGibck/gtu+gv\n",
              "GSkRaTDhAAAC50GbMUnhDyZTBRE8L//+jLACpWe1YAv5dNdHQvCzVLdwktuyHpqLB5CdXfIsB2X/\n",
              "bt/fjBTuOZlCGGhkhJl5XJ8GJHoGlXL1qor2VzcTtgKpGQB+OSTGbQ/60sdZ7NYnQpxVyBAxIGZm\n",
              "28t3NR9rZcyGgtZLibue6vRebJLEyYU2QSxgkDhHPBnPIeJzq8RkAXgLKVLkbiMlNFLToSicJ0OZ\n",
              "vpSLJ9W7C2/5FME21x0m905cS2cxbDb3VOa08lLwy68whEkijo39jv9mInoRiWA6pYKUNG4JWXB5\n",
              "gkEil1kI1XNMeotDSUKmTlNXzZS1h1vhzooBVB1AxCnwCKKCHEGMymdFoOZeLVHbxIRzGdHQbd7O\n",
              "1m3a+pNpdQr5Zr4Dk2IozVqOs2+owYp4Q3cB7kXuLY+Ni78g6tnY7O4D75aw9BxuSSgTJYJc2Ns0\n",
              "bjbx9LGw6Y4qzl4ttOQZmi5jiObQHFFTaerKM5D1rmGt9HxJIXIMrQj7oF69g2PSGkZUXriwPtCS\n",
              "3IxlsUYwHOyHP+vod8dQh7c1PXIdixMCWhJ0AbGlWnc789qYDij90GyG8kk87r41VM7hclVbLq5L\n",
              "atUDxQNXoDTM0Stu2jbJUmzejbWxoGvHi2ULMAcFsheYdBXeZB9s8w6mlSzkxIZncHL5u/rJjTmt\n",
              "/FdQLUujAEwy4agm8rHZ5qy/vX8VjrC57kEelDr20YVY9cO8Hc45ARgepLv3hM06xi9FMfli2oiV\n",
              "yPs1bRrf3TeHKqAbkUXiEHx0gsCsBAFifQ4KHonzHsP5HRc3w/C6buDFNRjp5rHVUW0g6P90muaJ\n",
              "TKwr/3YDQ4yjA8jTKiTZuScOOp6fpuk2SpnQhCjKpPvfyfK14idPyDpao6QBQFWnU3WD+ksrWfBy\n",
              "AEFd8M+wsgGsXcvMVdL3NmFiQ1MOLNxtOqcNxJnaCLZYyyAtCXhQL2qJZrdwgNzT8Vq7h3PgxlgA\n",
              "s8B2LpWQslP+fac0AAABHQGfUGpCfwMuVock6KlaGEQ/mp4bZzbP/wATTqH+xFogtkPqNLmjbyDQ\n",
              "YIwa+KpHBLjqfMKLBlGI+mR6Dktzgd+T7iQgKb3dl9EN+PMbbelDpYiYeXIO59A8SNJ7AWs/QURs\n",
              "4me3WQjCbL9kkU0du/PhavNWbbzCNm+YVHajc4mLqakdSr9htC4zUhUwGoNv1dEQ6+jQ0Ia4T+uT\n",
              "1ct0xdLK0FxoiFDR9D6l/y7wQ3Ehg5AYV5Rnnor4/pv1yLW8qsFUFx16/kBMeBnqkZpSrCkd4EoB\n",
              "UovZNed8nKG3IuErlNCDlmlBl6MC2eTUKb2TmKCLaUf1K94LchtpNr0bolifxYggLucVEvQmZTyM\n",
              "p9V1VtvvVt/gbKir1IwBcAAAAdJBm1JJ4Q8mUwIX//6MsAKlD/uAK36TilevgZUvCkB3a9CgfDN5\n",
              "B6JupD/Fv5HWrIsOl1gwFBlf0iM+EGUQcY0QO+SzT+VTLEABHPCMwannrTw4DAd+ALENuzZeNe9s\n",
              "H3f6k1GaCghTXZWVGLENi4A9tBLrpOloZpDhBNBlRZ81fov8J5PTJv0YAj7RPNSRYBGxnbvk0Exv\n",
              "7ZabbMWcucPJFi8SjcPcWjaMtHiHoOvIJ2l1cPBzo/j4BAIrknVaDpS6kKiz16Cskmo0ceKGhImU\n",
              "Pxr1ZKhVAUnmXNiohV6MAKLji5GXVfg49t2gE9HRf2eJvsDdNP7QOc9YhoNTbPuapnCLvTzjMWYj\n",
              "zXrTVYxpVPwe9xDmoHeGffIaDjYjn7PNFRxy8eTYa91bnrrwxYv74J6+sep1qtb9pEgTOv+RQSaS\n",
              "/YGOgvEGn+OgaRi2kGGV7+laEZZuQzjzmZ1EZsvrF5SWAxIU7dYTCGmIRNiV3NTxEbRn7mOi1Rlb\n",
              "636DVHNA69jIrGYpJC/x9B5N71iHJSiYrGYkHauGfLrjzpdJeGipk6n0euPrsGCyZmO2JvQnO7MZ\n",
              "bH4AV0YKSvPFRYAv2GO7emZlaEE7FKzce4WRUiXBAAACwEGbdEnhDyZTBRE8K//+OEAKLJuAIAiQ\n",
              "qnN6QnNr7or75YLx76rnxR/xklmKxAfjAx9A0nTzBWg3vv1H59UWdQuHqiYgVXwN6irEeEjWzNhx\n",
              "bSnsHFGGpk1eZAC/Urucwojg5aiXqhpxdJRfjV2iFgKly5AzLCUJl511Izg0+N683RPH0i+TbQ7z\n",
              "d0zkEisZ8fA7/RZ8HItEaeMPIi4WqJgXmmSgNY6VcySA1E4949WZDC8Mc+dzn9buPFct/XzSAsV+\n",
              "1QuS5qYgJmYzjYSPQuyvkMI8f/7aQKbm5uNmc6TeleZvstPwNEWEUm+XJ/XYN35ouTA67WQxeb1p\n",
              "ETskQap+t8RR6tu3i3gbOYQofbcXdL78rM0ySUcXgX1RbA0bTvi42kg1V6jQUDC1ObjpOxvgJWJ4\n",
              "xc9SlmrnZjxyEFKvjL/1Crm6nEqTLkGkCNdOr5vi/A1TYyLKcunXIVng0+bYbxa1vPZuz+tPMqqK\n",
              "r7IBDZ70ECjGBnRfIt2MRTj0PnR332hq/LeqYW/cOstEvRs+O3exoc6G1jnV6Iq1oPfgc2wRmxXk\n",
              "wlH7Jl7A7PiE6WrcjpsCYHTqXAh6NEEWFrEwawBlMkZMNW8ie/SttQvoWLwB48HTorIpCKp+EjI7\n",
              "kTxaXBVRI+n6rDMOkp2POlRf8yc3gNWNMXBLPqBeYCA1i1VQRKNvhpm6X5Lgg4nGlI9x6zX/IXMq\n",
              "fiMGDU8bU1ZzoNJXFWSRO9Z1zVo0hbW5c493Qf/Tl34NlqAdqPQGbz7c4be/zTPzhzHhtI8CLoYA\n",
              "zcEwBppDRj/lNENMNbhq2II/Z27VNXIAGwZtAB0f8DycsotOUBq9j8stGDO0bSJd7JMPiKx+7/76\n",
              "l0zElIjO+Wn9pXwiQGJ7shhZLEKf5krJSLJF6nPCf2E4rwNc7jD2MmNOQaEjzojSnvPCd1yUAAAA\n",
              "+AGfk2pCfwMuVodKj6JOEWng2IPpt8rwRhxTklTeZcSSQAStCdWPZBevDRHKA7y8ytXFxdvL3AsW\n",
              "6hFEShjzqSQyZNhcm5hnycQnQNVpyEMFANKqBpVlWgwjBRGGTiCUwIYdzMPqbrNj6rGTA22XgtjI\n",
              "v6sdzpMGVAecOY+Y7vBhVzMDasHdMWCCvuWGH+1sYZw1o5UUPYU2UAWAZQMdE/aUfkwTm6o9/TFT\n",
              "kFhotQL3DOxJiHXLtGBU0D+0gRbmK2ZpTaBwn92u4Eg/ICeAkspek1cTLdkcYEZOozeeUKnj4tHC\n",
              "yb2iFHmTcDgBsWFAthT7et/IlVklAAABLUGblUnhDyZTAhP//fEAGQL4rAAOKSYgvZuUXvvkBMPQ\n",
              "wGQYd3waQVG8kZsd0DmqVt+/4sYcNw1NoUAOVwUn+Bscv/Qce5cQOgfqKR7f2j4Wb9MAYWreFHrP\n",
              "g6b6A2wnjcIOV1q4VtRTQRuL6R5icBAqd2C7tbsCZZ/6kIogtWt0SVX+IRUS+Rk5qGyUvS5MdwP3\n",
              "1he9kegLnrrAdjJwmQ0/Z91fY+qsUxPN1marSvepphYKWsWAxZPomt4zbBFgVsjtVm9zjmzb8+Ss\n",
              "SpLEC59xoZDYlwmXuWr3MxPK622SZpQDPhf/cBdJvqWdI31Hm4+5x/OuqT4GkP4Er+JYDqd2uyMo\n",
              "p2ze8qz9AWGQx0Y+jJ+higldvM0J3PNJxxAlDKwR6/jVEk5RaRQNS0kAAAiebW9vdgAAAGxtdmhk\n",
              "AAAAAAAAAAAAAAAAAAAD6AAAE4gAAQAAAQAAAAAAAAAAAAAAAAEAAAAAAAAAAAAAAAAAAAABAAAA\n",
              "AAAAAAAAAAAAAABAAAAAAAAAAAAAAAAAAAAAAAAAAAAAAAAAAAAAAAAAAgAAB8h0cmFrAAAAXHRr\n",
              "aGQAAAADAAAAAAAAAAAAAAABAAAAAAAAE4gAAAAAAAAAAAAAAAAAAAAAAAEAAAAAAAAAAAAAAAAA\n",
              "AAABAAAAAAAAAAAAAAAAAABAAAAAAbAAAAEgAAAAAAAkZWR0cwAAABxlbHN0AAAAAAAAAAEAABOI\n",
              "AAAEAAABAAAAAAdAbWRpYQAAACBtZGhkAAAAAAAAAAAAAAAAAAA8AAABLABVxAAAAAAALWhkbHIA\n",
              "AAAAAAAAAHZpZGUAAAAAAAAAAAAAAABWaWRlb0hhbmRsZXIAAAAG621pbmYAAAAUdm1oZAAAAAEA\n",
              "AAAAAAAAAAAAACRkaW5mAAAAHGRyZWYAAAAAAAAAAQAAAAx1cmwgAAAAAQAABqtzdGJsAAAAs3N0\n",
              "c2QAAAAAAAAAAQAAAKNhdmMxAAAAAAAAAAEAAAAAAAAAAAAAAAAAAAAAAbABIABIAAAASAAAAAAA\n",
              "AAABAAAAAAAAAAAAAAAAAAAAAAAAAAAAAAAAAAAAAAAAAAAAGP//AAAAMWF2Y0MBZAAV/+EAGGdk\n",
              "ABWs2UGwloQAAAMABAAAAwDwPFi2WAEABmjr48siwAAAABx1dWlka2hA8l8kT8W6OaUbzwMj8wAA\n",
              "AAAAAAAYc3R0cwAAAAAAAAABAAAAlgAAAgAAAAAUc3RzcwAAAAAAAAABAAAAAQAAAyhjdHRzAAAA\n",
              "AAAAAGMAAAABAAAEAAAAAAEAAAoAAAAAAQAABAAAAAABAAAAAAAAAAEAAAIAAAAAAQAABAAAAAAB\n",
              "AAAGAAAAAAEAAAIAAAAAAgAABAAAAAABAAAGAAAAAAEAAAIAAAAAAQAACAAAAAACAAACAAAAAAEA\n",
              "AAYAAAAAAQAAAgAAAAABAAAGAAAAAAEAAAIAAAAABAAABAAAAAABAAAGAAAAAAEAAAIAAAAAAQAA\n",
              "BgAAAAABAAACAAAAAAEAAAYAAAAAAQAAAgAAAAADAAAEAAAAAAEAAAYAAAAAAQAAAgAAAAADAAAE\n",
              "AAAAAAEAAAYAAAAAAQAAAgAAAAABAAAIAAAAAAIAAAIAAAAADgAABAAAAAABAAAIAAAAAAIAAAIA\n",
              "AAAAAQAABgAAAAABAAACAAAAAAEAAAQAAAAAAQAACAAAAAACAAACAAAAAAIAAAQAAAAAAQAACAAA\n",
              "AAACAAACAAAAAAEAAAgAAAAAAgAAAgAAAAABAAAEAAAAAAEAAAYAAAAAAQAAAgAAAAABAAAKAAAA\n",
              "AAEAAAQAAAAAAQAAAAAAAAABAAACAAAAAAYAAAQAAAAAAQAABgAAAAABAAACAAAAAAEAAAQAAAAA\n",
              "AQAABgAAAAABAAACAAAAAAEAAAYAAAAAAQAAAgAAAAABAAAIAAAAAAIAAAIAAAAAAQAACgAAAAAB\n",
              "AAAEAAAAAAEAAAAAAAAAAQAAAgAAAAAMAAAEAAAAAAEAAAYAAAAAAQAAAgAAAAABAAAKAAAAAAEA\n",
              "AAQAAAAAAQAAAAAAAAABAAACAAAAAAEAAAoAAAAAAQAABAAAAAABAAAAAAAAAAEAAAIAAAAAAQAA\n",
              "CgAAAAABAAAEAAAAAAEAAAAAAAAAAQAAAgAAAAABAAAGAAAAAAEAAAIAAAAAAQAABgAAAAABAAAC\n",
              "AAAAAAEAAAgAAAAAAgAAAgAAAAACAAAEAAAAAAEAAAoAAAAAAQAABAAAAAABAAAAAAAAAAEAAAIA\n",
              "AAAABQAABAAAAAABAAAGAAAAAAEAAAIAAAAAAQAABAAAAAABAAAGAAAAAAEAAAIAAAAAAQAABAAA\n",
              "AAAcc3RzYwAAAAAAAAABAAAAAQAAAJYAAAABAAACbHN0c3oAAAAAAAAAAAAAAJYAAA+5AAACGgAA\n",
              "AJsAAABYAAAAfgAAAToAAAHfAAAAvQAAAY0AAAGwAAACUQAAAREAAAJMAAABWgAAAQkAAAG3AAAA\n",
              "qQAAAOoAAACEAAABTQAAAbsAAAIJAAABugAAAt4AAAF7AAADUwAAASEAAANPAAAA9wAAAj8AAAHu\n",
              "AAACGQAAAwkAAAD8AAACoQAAArAAAAJNAAACxAAAALkAAAIlAAAAsAAAALAAAAFTAAABaAAAAX0A\n",
              "AAFEAAABfgAAAW8AAAGmAAABogAAAgsAAAIBAAAB9QAAAdUAAAI6AAAB+AAAAigAAACuAAAAhwAA\n",
              "AWwAAACGAAABfgAAAgsAAACkAAAAfAAAAU8AAAGbAAADowAAAS8AAADZAAAD1gAAATIAAADoAAAB\n",
              "9wAAAjoAAACeAAABPgAAALwAAABrAAAAcQAAAR8AAAF9AAACGAAAAjEAAALiAAACsQAAA1gAAAEt\n",
              "AAACJQAAAzAAAADpAAAC9QAAAM0AAAKLAAAA6gAAAKQAAAF9AAAA0QAAAIEAAACRAAABAgAAATkA\n",
              "AAFTAAABVwAAAdEAAAHAAAABlgAAAYIAAAHIAAAB6QAAAiAAAAHqAAAC1AAAAM8AAAH3AAAAXgAA\n",
              "AJsAAABcAAABewAAAMkAAAB+AAAAjwAAARMAAAC1AAAAdgAAAFkAAAHMAAAAnwAAAmIAAAC5AAAC\n",
              "5QAAAScAAAEBAAACYgAAAbYAAAGgAAAAogAAAG4AAAB+AAABUwAAAcIAAAIRAAACfAAAAg4AAALr\n",
              "AAABIQAAAdYAAALEAAAA/AAAATEAAAAUc3RjbwAAAAAAAAABAAAALAAAAGJ1ZHRhAAAAWm1ldGEA\n",
              "AAAAAAAAIWhkbHIAAAAAAAAAAG1kaXJhcHBsAAAAAAAAAAAAAAAALWlsc3QAAAAlqXRvbwAAAB1k\n",
              "YXRhAAAAAQAAAABMYXZmNTcuODMuMTAw\n",
              "\">\n",
              "  Your browser does not support the video tag.\n",
              "</video>"
            ]
          },
          "metadata": {},
          "execution_count": 45
        }
      ]
    },
    {
      "cell_type": "code",
      "source": [
        "system.getdynamics()"
      ],
      "metadata": {
        "colab": {
          "base_uri": "https://localhost:8080/"
        },
        "id": "0DIo5wVZkD8T",
        "outputId": "5d0bf206-b500-4ce6-a8be-ebc27cc78790"
      },
      "execution_count": null,
      "outputs": [
        {
          "output_type": "stream",
          "name": "stderr",
          "text": [
            "2022-04-07 06:32:51,459 - pynamics.system - INFO - getting dynamic equations\n"
          ]
        },
        {
          "output_type": "execute_result",
          "data": {
            "text/plain": [
              "([-b*qA_d - b*qB_d + b*(-qA_d + qC_d) - 3*g*lA*m*cos(qA)/2 + g*lB*m*sin(qA)*sin(qB)/2 - g*lB*m*cos(qA)*cos(qB)/2 - k*(-preload1 + qA) + k*(-preload3 + qC) + torque*sin(2*freq*pi*t), -2*b*qB_d + b*(-qA_d + qC_d) + g*lB*m*sin(qA)*sin(qB)/2 - g*lB*m*cos(qA)*cos(qB)/2 - k*(-preload2 + qB) + k*(-preload3 + qC), b*qB_d - b*(-qA_d + qC_d) - 3*g*lC*m*cos(qC)/2 + g*lD*m*sin(qC)*sin(qD)/2 - g*lD*m*cos(qC)*cos(qD)/2 - k*(-preload3 + qC), g*lD*m*sin(qC)*sin(qD)/2 - g*lD*m*cos(qC)*cos(qD)/2], [Izz_A*qA_dd + Izz_B*(qA_dd + qB_dd) + 5*lA**2*m*qA_dd/4 + lA*lB*m*qA_d**2*sin(qB)/2 + lA*lB*m*qA_dd*cos(qB)/2 - lA*lB*m*(qA_d + qB_d)**2*sin(qB)/2 + lA*m*(lB*qA_dd/2 + lB*qB_dd/2)*cos(qB) + lB*m*(lB*qA_dd/2 + lB*qB_dd/2)/2, Izz_B*(qA_dd + qB_dd) + lA*lB*m*qA_d**2*sin(qB)/2 + lA*lB*m*qA_dd*cos(qB)/2 + lB*m*(lB*qA_dd/2 + lB*qB_dd/2)/2, Izz_C*qC_dd + Izz_D*(qC_dd + qD_dd) + 5*lC**2*m*qC_dd/4 + lC*lD*m*qC_d**2*sin(qD)/2 + lC*lD*m*qC_dd*cos(qD)/2 - lC*lD*m*(qC_d + qD_d)**2*sin(qD)/2 + lC*m*(lD*qC_dd/2 + lD*qD_dd/2)*cos(qD) + lD*m*(lD*qC_dd/2 + lD*qD_dd/2)/2, Izz_D*(qC_dd + qD_dd) + lC*lD*m*qC_d**2*sin(qD)/2 + lC*lD*m*qC_dd*cos(qD)/2 + lD*m*(lD*qC_dd/2 + lD*qD_dd/2)/2])"
            ]
          },
          "metadata": {},
          "execution_count": 46
        }
      ]
    }
  ]
}